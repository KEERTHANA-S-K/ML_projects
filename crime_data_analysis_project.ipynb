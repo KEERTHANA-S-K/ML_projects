{
 "cells": [
  {
   "cell_type": "code",
   "execution_count": 1,
   "id": "bef34f38",
   "metadata": {},
   "outputs": [],
   "source": [
    "import pandas as pd\n",
    "import numpy as np\n",
    "import matplotlib.pyplot as plt\n",
    "import seaborn as sns\n",
    "import warnings\n",
    "warnings.filterwarnings(\"ignore\")\n"
   ]
  },
  {
   "cell_type": "code",
   "execution_count": 2,
   "id": "74018217",
   "metadata": {},
   "outputs": [],
   "source": [
    "data=pd.read_excel(\"crime_data.xlsx\")"
   ]
  },
  {
   "cell_type": "code",
   "execution_count": 3,
   "id": "d7e2183b",
   "metadata": {},
   "outputs": [
    {
     "data": {
      "text/html": [
       "<div>\n",
       "<style scoped>\n",
       "    .dataframe tbody tr th:only-of-type {\n",
       "        vertical-align: middle;\n",
       "    }\n",
       "\n",
       "    .dataframe tbody tr th {\n",
       "        vertical-align: top;\n",
       "    }\n",
       "\n",
       "    .dataframe thead th {\n",
       "        text-align: right;\n",
       "    }\n",
       "</style>\n",
       "<table border=\"1\" class=\"dataframe\">\n",
       "  <thead>\n",
       "    <tr style=\"text-align: right;\">\n",
       "      <th></th>\n",
       "      <th>State</th>\n",
       "      <th>Year</th>\n",
       "      <th>Gender</th>\n",
       "      <th>Location</th>\n",
       "      <th>Victims_Above_50_Yrs</th>\n",
       "      <th>Victims_Total</th>\n",
       "      <th>Victims_Upto_10_15_Yrs</th>\n",
       "      <th>Victims_Upto_10_Yrs</th>\n",
       "      <th>Victims_Upto_15_18_Yrs</th>\n",
       "      <th>Victims_Upto_18_30_Yrs</th>\n",
       "      <th>Victims_Upto_30_50_Yrs</th>\n",
       "    </tr>\n",
       "  </thead>\n",
       "  <tbody>\n",
       "    <tr>\n",
       "      <th>0</th>\n",
       "      <td>Delhi</td>\n",
       "      <td>2010</td>\n",
       "      <td>Female Victims</td>\n",
       "      <td>Hauz khas</td>\n",
       "      <td>14</td>\n",
       "      <td>152</td>\n",
       "      <td>2</td>\n",
       "      <td>12</td>\n",
       "      <td>9</td>\n",
       "      <td>74</td>\n",
       "      <td>41</td>\n",
       "    </tr>\n",
       "    <tr>\n",
       "      <th>1</th>\n",
       "      <td>Delhi</td>\n",
       "      <td>2011</td>\n",
       "      <td>Female Victims</td>\n",
       "      <td>Vasant vihar</td>\n",
       "      <td>14</td>\n",
       "      <td>130</td>\n",
       "      <td>3</td>\n",
       "      <td>6</td>\n",
       "      <td>2</td>\n",
       "      <td>69</td>\n",
       "      <td>36</td>\n",
       "    </tr>\n",
       "    <tr>\n",
       "      <th>2</th>\n",
       "      <td>Delhi</td>\n",
       "      <td>2012</td>\n",
       "      <td>Female Victims</td>\n",
       "      <td>Vasant kunj</td>\n",
       "      <td>23</td>\n",
       "      <td>131</td>\n",
       "      <td>6</td>\n",
       "      <td>8</td>\n",
       "      <td>7</td>\n",
       "      <td>44</td>\n",
       "      <td>43</td>\n",
       "    </tr>\n",
       "    <tr>\n",
       "      <th>3</th>\n",
       "      <td>Delhi</td>\n",
       "      <td>2013</td>\n",
       "      <td>Female Victims</td>\n",
       "      <td>Palam</td>\n",
       "      <td>16</td>\n",
       "      <td>125</td>\n",
       "      <td>7</td>\n",
       "      <td>14</td>\n",
       "      <td>7</td>\n",
       "      <td>51</td>\n",
       "      <td>30</td>\n",
       "    </tr>\n",
       "    <tr>\n",
       "      <th>4</th>\n",
       "      <td>Delhi</td>\n",
       "      <td>2014</td>\n",
       "      <td>Female Victims</td>\n",
       "      <td>Dwarka</td>\n",
       "      <td>15</td>\n",
       "      <td>158</td>\n",
       "      <td>3</td>\n",
       "      <td>7</td>\n",
       "      <td>3</td>\n",
       "      <td>87</td>\n",
       "      <td>43</td>\n",
       "    </tr>\n",
       "  </tbody>\n",
       "</table>\n",
       "</div>"
      ],
      "text/plain": [
       "   State  Year           Gender      Location  Victims_Above_50_Yrs  \\\n",
       "0  Delhi  2010   Female Victims     Hauz khas                    14   \n",
       "1  Delhi  2011   Female Victims  Vasant vihar                    14   \n",
       "2  Delhi  2012   Female Victims   Vasant kunj                    23   \n",
       "3  Delhi  2013   Female Victims         Palam                    16   \n",
       "4  Delhi  2014   Female Victims        Dwarka                    15   \n",
       "\n",
       "   Victims_Total  Victims_Upto_10_15_Yrs Victims_Upto_10_Yrs  \\\n",
       "0            152                       2                  12   \n",
       "1            130                       3                   6   \n",
       "2            131                       6                   8   \n",
       "3            125                       7                  14   \n",
       "4            158                       3                   7   \n",
       "\n",
       "   Victims_Upto_15_18_Yrs  Victims_Upto_18_30_Yrs  Victims_Upto_30_50_Yrs  \n",
       "0                       9                      74                      41  \n",
       "1                       2                      69                      36  \n",
       "2                       7                      44                      43  \n",
       "3                       7                      51                      30  \n",
       "4                       3                      87                      43  "
      ]
     },
     "execution_count": 3,
     "metadata": {},
     "output_type": "execute_result"
    }
   ],
   "source": [
    "data.head()"
   ]
  },
  {
   "cell_type": "code",
   "execution_count": 4,
   "id": "7acb6544",
   "metadata": {},
   "outputs": [
    {
     "data": {
      "text/html": [
       "<div>\n",
       "<style scoped>\n",
       "    .dataframe tbody tr th:only-of-type {\n",
       "        vertical-align: middle;\n",
       "    }\n",
       "\n",
       "    .dataframe tbody tr th {\n",
       "        vertical-align: top;\n",
       "    }\n",
       "\n",
       "    .dataframe thead th {\n",
       "        text-align: right;\n",
       "    }\n",
       "</style>\n",
       "<table border=\"1\" class=\"dataframe\">\n",
       "  <thead>\n",
       "    <tr style=\"text-align: right;\">\n",
       "      <th></th>\n",
       "      <th>Year</th>\n",
       "      <th>Victims_Above_50_Yrs</th>\n",
       "      <th>Victims_Total</th>\n",
       "      <th>Victims_Upto_10_15_Yrs</th>\n",
       "      <th>Victims_Upto_15_18_Yrs</th>\n",
       "      <th>Victims_Upto_18_30_Yrs</th>\n",
       "      <th>Victims_Upto_30_50_Yrs</th>\n",
       "    </tr>\n",
       "  </thead>\n",
       "  <tbody>\n",
       "    <tr>\n",
       "      <th>count</th>\n",
       "      <td>78.000000</td>\n",
       "      <td>78.000000</td>\n",
       "      <td>78.000000</td>\n",
       "      <td>78.000000</td>\n",
       "      <td>78.000000</td>\n",
       "      <td>78.000000</td>\n",
       "      <td>78.000000</td>\n",
       "    </tr>\n",
       "    <tr>\n",
       "      <th>mean</th>\n",
       "      <td>2014.384615</td>\n",
       "      <td>15.038462</td>\n",
       "      <td>189.448718</td>\n",
       "      <td>3.000000</td>\n",
       "      <td>5.410256</td>\n",
       "      <td>89.051282</td>\n",
       "      <td>72.256410</td>\n",
       "    </tr>\n",
       "    <tr>\n",
       "      <th>std</th>\n",
       "      <td>2.834073</td>\n",
       "      <td>19.976247</td>\n",
       "      <td>242.007118</td>\n",
       "      <td>4.321496</td>\n",
       "      <td>8.356405</td>\n",
       "      <td>111.180665</td>\n",
       "      <td>103.824582</td>\n",
       "    </tr>\n",
       "    <tr>\n",
       "      <th>min</th>\n",
       "      <td>2010.000000</td>\n",
       "      <td>0.000000</td>\n",
       "      <td>2.000000</td>\n",
       "      <td>0.000000</td>\n",
       "      <td>0.000000</td>\n",
       "      <td>0.000000</td>\n",
       "      <td>0.000000</td>\n",
       "    </tr>\n",
       "    <tr>\n",
       "      <th>25%</th>\n",
       "      <td>2012.000000</td>\n",
       "      <td>2.000000</td>\n",
       "      <td>14.250000</td>\n",
       "      <td>0.000000</td>\n",
       "      <td>0.000000</td>\n",
       "      <td>5.250000</td>\n",
       "      <td>5.250000</td>\n",
       "    </tr>\n",
       "    <tr>\n",
       "      <th>50%</th>\n",
       "      <td>2014.000000</td>\n",
       "      <td>6.000000</td>\n",
       "      <td>75.500000</td>\n",
       "      <td>1.000000</td>\n",
       "      <td>1.000000</td>\n",
       "      <td>29.000000</td>\n",
       "      <td>24.000000</td>\n",
       "    </tr>\n",
       "    <tr>\n",
       "      <th>75%</th>\n",
       "      <td>2017.000000</td>\n",
       "      <td>23.000000</td>\n",
       "      <td>351.500000</td>\n",
       "      <td>5.000000</td>\n",
       "      <td>8.000000</td>\n",
       "      <td>135.250000</td>\n",
       "      <td>99.250000</td>\n",
       "    </tr>\n",
       "    <tr>\n",
       "      <th>max</th>\n",
       "      <td>2019.000000</td>\n",
       "      <td>100.000000</td>\n",
       "      <td>831.000000</td>\n",
       "      <td>20.000000</td>\n",
       "      <td>47.000000</td>\n",
       "      <td>367.000000</td>\n",
       "      <td>381.000000</td>\n",
       "    </tr>\n",
       "  </tbody>\n",
       "</table>\n",
       "</div>"
      ],
      "text/plain": [
       "              Year  Victims_Above_50_Yrs  Victims_Total  \\\n",
       "count    78.000000             78.000000      78.000000   \n",
       "mean   2014.384615             15.038462     189.448718   \n",
       "std       2.834073             19.976247     242.007118   \n",
       "min    2010.000000              0.000000       2.000000   \n",
       "25%    2012.000000              2.000000      14.250000   \n",
       "50%    2014.000000              6.000000      75.500000   \n",
       "75%    2017.000000             23.000000     351.500000   \n",
       "max    2019.000000            100.000000     831.000000   \n",
       "\n",
       "       Victims_Upto_10_15_Yrs  Victims_Upto_15_18_Yrs  Victims_Upto_18_30_Yrs  \\\n",
       "count               78.000000               78.000000               78.000000   \n",
       "mean                 3.000000                5.410256               89.051282   \n",
       "std                  4.321496                8.356405              111.180665   \n",
       "min                  0.000000                0.000000                0.000000   \n",
       "25%                  0.000000                0.000000                5.250000   \n",
       "50%                  1.000000                1.000000               29.000000   \n",
       "75%                  5.000000                8.000000              135.250000   \n",
       "max                 20.000000               47.000000              367.000000   \n",
       "\n",
       "       Victims_Upto_30_50_Yrs  \n",
       "count               78.000000  \n",
       "mean                72.256410  \n",
       "std                103.824582  \n",
       "min                  0.000000  \n",
       "25%                  5.250000  \n",
       "50%                 24.000000  \n",
       "75%                 99.250000  \n",
       "max                381.000000  "
      ]
     },
     "execution_count": 4,
     "metadata": {},
     "output_type": "execute_result"
    }
   ],
   "source": [
    "data.describe()"
   ]
  },
  {
   "cell_type": "code",
   "execution_count": 5,
   "id": "5d277171",
   "metadata": {},
   "outputs": [
    {
     "name": "stdout",
     "output_type": "stream",
     "text": [
      "<class 'pandas.core.frame.DataFrame'>\n",
      "RangeIndex: 78 entries, 0 to 77\n",
      "Data columns (total 11 columns):\n",
      " #   Column                  Non-Null Count  Dtype \n",
      "---  ------                  --------------  ----- \n",
      " 0   State                   78 non-null     object\n",
      " 1   Year                    78 non-null     int64 \n",
      " 2   Gender                  78 non-null     object\n",
      " 3   Location                78 non-null     object\n",
      " 4   Victims_Above_50_Yrs    78 non-null     int64 \n",
      " 5   Victims_Total           78 non-null     int64 \n",
      " 6   Victims_Upto_10_15_Yrs  78 non-null     int64 \n",
      " 7   Victims_Upto_10_Yrs     78 non-null     object\n",
      " 8   Victims_Upto_15_18_Yrs  78 non-null     int64 \n",
      " 9   Victims_Upto_18_30_Yrs  78 non-null     int64 \n",
      " 10  Victims_Upto_30_50_Yrs  78 non-null     int64 \n",
      "dtypes: int64(7), object(4)\n",
      "memory usage: 6.8+ KB\n"
     ]
    }
   ],
   "source": [
    "data.info()"
   ]
  },
  {
   "cell_type": "markdown",
   "id": "7d6a8328",
   "metadata": {},
   "source": [
    "####  dealing with gender class labels "
   ]
  },
  {
   "cell_type": "code",
   "execution_count": 6,
   "id": "38b387ff",
   "metadata": {},
   "outputs": [
    {
     "data": {
      "text/plain": [
       " Female Victims    30\n",
       " Male Victims      29\n",
       "Male Victims       11\n",
       "Female Victims      8\n",
       "Name: Gender, dtype: int64"
      ]
     },
     "execution_count": 6,
     "metadata": {},
     "output_type": "execute_result"
    }
   ],
   "source": [
    "data[\"Gender\"].value_counts()"
   ]
  },
  {
   "cell_type": "code",
   "execution_count": 7,
   "id": "c2ce571c",
   "metadata": {},
   "outputs": [],
   "source": [
    "data['Gender'] = data['Gender'].replace([\"Male Victims\",\" Male Victims\"],\"MV\")"
   ]
  },
  {
   "cell_type": "code",
   "execution_count": 8,
   "id": "9a124423",
   "metadata": {},
   "outputs": [
    {
     "data": {
      "text/plain": [
       "MV                 40\n",
       " Female Victims    30\n",
       "Female Victims      8\n",
       "Name: Gender, dtype: int64"
      ]
     },
     "execution_count": 8,
     "metadata": {},
     "output_type": "execute_result"
    }
   ],
   "source": [
    "data[\"Gender\"].value_counts()"
   ]
  },
  {
   "cell_type": "code",
   "execution_count": 9,
   "id": "22eab96d",
   "metadata": {},
   "outputs": [],
   "source": [
    "data['Gender'] = data['Gender'].replace([\"Female Victims\",\" Female Victims\"],\"FV\")"
   ]
  },
  {
   "cell_type": "code",
   "execution_count": 10,
   "id": "6497d993",
   "metadata": {},
   "outputs": [
    {
     "data": {
      "text/plain": [
       "MV    40\n",
       "FV    38\n",
       "Name: Gender, dtype: int64"
      ]
     },
     "execution_count": 10,
     "metadata": {},
     "output_type": "execute_result"
    }
   ],
   "source": [
    "data[\"Gender\"].value_counts()"
   ]
  },
  {
   "cell_type": "code",
   "execution_count": 11,
   "id": "483e4738",
   "metadata": {},
   "outputs": [
    {
     "data": {
      "text/plain": [
       "0"
      ]
     },
     "execution_count": 11,
     "metadata": {},
     "output_type": "execute_result"
    }
   ],
   "source": [
    "data.duplicated().sum()"
   ]
  },
  {
   "cell_type": "markdown",
   "id": "c9b31a8e",
   "metadata": {},
   "source": [
    "#### Rearange the columns "
   ]
  },
  {
   "cell_type": "code",
   "execution_count": 12,
   "id": "83d95589",
   "metadata": {},
   "outputs": [],
   "source": [
    "cols = data.columns.tolist()"
   ]
  },
  {
   "cell_type": "code",
   "execution_count": 13,
   "id": "dcd68741",
   "metadata": {},
   "outputs": [
    {
     "data": {
      "text/plain": [
       "['State',\n",
       " 'Year',\n",
       " 'Gender',\n",
       " 'Location',\n",
       " 'Victims_Above_50_Yrs',\n",
       " 'Victims_Total',\n",
       " 'Victims_Upto_10_15_Yrs',\n",
       " 'Victims_Upto_10_Yrs',\n",
       " 'Victims_Upto_15_18_Yrs',\n",
       " 'Victims_Upto_18_30_Yrs',\n",
       " 'Victims_Upto_30_50_Yrs']"
      ]
     },
     "execution_count": 13,
     "metadata": {},
     "output_type": "execute_result"
    }
   ],
   "source": [
    "cols"
   ]
  },
  {
   "cell_type": "code",
   "execution_count": 14,
   "id": "f05ef640",
   "metadata": {},
   "outputs": [],
   "source": [
    "index=data.columns.get_loc(\"Victims_Total\")"
   ]
  },
  {
   "cell_type": "code",
   "execution_count": 15,
   "id": "484a2f52",
   "metadata": {},
   "outputs": [
    {
     "data": {
      "text/plain": [
       "5"
      ]
     },
     "execution_count": 15,
     "metadata": {},
     "output_type": "execute_result"
    }
   ],
   "source": [
    "index"
   ]
  },
  {
   "cell_type": "code",
   "execution_count": 16,
   "id": "9bc4cffb",
   "metadata": {},
   "outputs": [],
   "source": [
    "new_col= cols[0:index] + cols[index+1:] + cols[index:index+1]"
   ]
  },
  {
   "cell_type": "code",
   "execution_count": 17,
   "id": "25716227",
   "metadata": {},
   "outputs": [
    {
     "data": {
      "text/plain": [
       "['State',\n",
       " 'Year',\n",
       " 'Gender',\n",
       " 'Location',\n",
       " 'Victims_Above_50_Yrs',\n",
       " 'Victims_Upto_10_15_Yrs',\n",
       " 'Victims_Upto_10_Yrs',\n",
       " 'Victims_Upto_15_18_Yrs',\n",
       " 'Victims_Upto_18_30_Yrs',\n",
       " 'Victims_Upto_30_50_Yrs',\n",
       " 'Victims_Total']"
      ]
     },
     "execution_count": 17,
     "metadata": {},
     "output_type": "execute_result"
    }
   ],
   "source": [
    "new_col"
   ]
  },
  {
   "cell_type": "code",
   "execution_count": 18,
   "id": "c803a0df",
   "metadata": {},
   "outputs": [],
   "source": [
    "data=data[new_col]"
   ]
  },
  {
   "cell_type": "code",
   "execution_count": 19,
   "id": "e76a0652",
   "metadata": {},
   "outputs": [
    {
     "data": {
      "text/html": [
       "<div>\n",
       "<style scoped>\n",
       "    .dataframe tbody tr th:only-of-type {\n",
       "        vertical-align: middle;\n",
       "    }\n",
       "\n",
       "    .dataframe tbody tr th {\n",
       "        vertical-align: top;\n",
       "    }\n",
       "\n",
       "    .dataframe thead th {\n",
       "        text-align: right;\n",
       "    }\n",
       "</style>\n",
       "<table border=\"1\" class=\"dataframe\">\n",
       "  <thead>\n",
       "    <tr style=\"text-align: right;\">\n",
       "      <th></th>\n",
       "      <th>State</th>\n",
       "      <th>Year</th>\n",
       "      <th>Gender</th>\n",
       "      <th>Location</th>\n",
       "      <th>Victims_Above_50_Yrs</th>\n",
       "      <th>Victims_Upto_10_15_Yrs</th>\n",
       "      <th>Victims_Upto_10_Yrs</th>\n",
       "      <th>Victims_Upto_15_18_Yrs</th>\n",
       "      <th>Victims_Upto_18_30_Yrs</th>\n",
       "      <th>Victims_Upto_30_50_Yrs</th>\n",
       "      <th>Victims_Total</th>\n",
       "    </tr>\n",
       "  </thead>\n",
       "  <tbody>\n",
       "    <tr>\n",
       "      <th>0</th>\n",
       "      <td>Delhi</td>\n",
       "      <td>2010</td>\n",
       "      <td>FV</td>\n",
       "      <td>Hauz khas</td>\n",
       "      <td>14</td>\n",
       "      <td>2</td>\n",
       "      <td>12</td>\n",
       "      <td>9</td>\n",
       "      <td>74</td>\n",
       "      <td>41</td>\n",
       "      <td>152</td>\n",
       "    </tr>\n",
       "    <tr>\n",
       "      <th>1</th>\n",
       "      <td>Delhi</td>\n",
       "      <td>2011</td>\n",
       "      <td>FV</td>\n",
       "      <td>Vasant vihar</td>\n",
       "      <td>14</td>\n",
       "      <td>3</td>\n",
       "      <td>6</td>\n",
       "      <td>2</td>\n",
       "      <td>69</td>\n",
       "      <td>36</td>\n",
       "      <td>130</td>\n",
       "    </tr>\n",
       "    <tr>\n",
       "      <th>2</th>\n",
       "      <td>Delhi</td>\n",
       "      <td>2012</td>\n",
       "      <td>FV</td>\n",
       "      <td>Vasant kunj</td>\n",
       "      <td>23</td>\n",
       "      <td>6</td>\n",
       "      <td>8</td>\n",
       "      <td>7</td>\n",
       "      <td>44</td>\n",
       "      <td>43</td>\n",
       "      <td>131</td>\n",
       "    </tr>\n",
       "    <tr>\n",
       "      <th>3</th>\n",
       "      <td>Delhi</td>\n",
       "      <td>2013</td>\n",
       "      <td>FV</td>\n",
       "      <td>Palam</td>\n",
       "      <td>16</td>\n",
       "      <td>7</td>\n",
       "      <td>14</td>\n",
       "      <td>7</td>\n",
       "      <td>51</td>\n",
       "      <td>30</td>\n",
       "      <td>125</td>\n",
       "    </tr>\n",
       "    <tr>\n",
       "      <th>4</th>\n",
       "      <td>Delhi</td>\n",
       "      <td>2014</td>\n",
       "      <td>FV</td>\n",
       "      <td>Dwarka</td>\n",
       "      <td>15</td>\n",
       "      <td>3</td>\n",
       "      <td>7</td>\n",
       "      <td>3</td>\n",
       "      <td>87</td>\n",
       "      <td>43</td>\n",
       "      <td>158</td>\n",
       "    </tr>\n",
       "  </tbody>\n",
       "</table>\n",
       "</div>"
      ],
      "text/plain": [
       "   State  Year Gender      Location  Victims_Above_50_Yrs  \\\n",
       "0  Delhi  2010     FV     Hauz khas                    14   \n",
       "1  Delhi  2011     FV  Vasant vihar                    14   \n",
       "2  Delhi  2012     FV   Vasant kunj                    23   \n",
       "3  Delhi  2013     FV         Palam                    16   \n",
       "4  Delhi  2014     FV        Dwarka                    15   \n",
       "\n",
       "   Victims_Upto_10_15_Yrs Victims_Upto_10_Yrs  Victims_Upto_15_18_Yrs  \\\n",
       "0                       2                  12                       9   \n",
       "1                       3                   6                       2   \n",
       "2                       6                   8                       7   \n",
       "3                       7                  14                       7   \n",
       "4                       3                   7                       3   \n",
       "\n",
       "   Victims_Upto_18_30_Yrs  Victims_Upto_30_50_Yrs  Victims_Total  \n",
       "0                      74                      41            152  \n",
       "1                      69                      36            130  \n",
       "2                      44                      43            131  \n",
       "3                      51                      30            125  \n",
       "4                      87                      43            158  "
      ]
     },
     "execution_count": 19,
     "metadata": {},
     "output_type": "execute_result"
    }
   ],
   "source": [
    "data.head()"
   ]
  },
  {
   "cell_type": "code",
   "execution_count": 20,
   "id": "39701e8f",
   "metadata": {
    "scrolled": true
   },
   "outputs": [
    {
     "data": {
      "text/plain": [
       "State                     0\n",
       "Year                      0\n",
       "Gender                    0\n",
       "Location                  0\n",
       "Victims_Above_50_Yrs      0\n",
       "Victims_Upto_10_15_Yrs    0\n",
       "Victims_Upto_10_Yrs       0\n",
       "Victims_Upto_15_18_Yrs    0\n",
       "Victims_Upto_18_30_Yrs    0\n",
       "Victims_Upto_30_50_Yrs    0\n",
       "Victims_Total             0\n",
       "dtype: int64"
      ]
     },
     "execution_count": 20,
     "metadata": {},
     "output_type": "execute_result"
    }
   ],
   "source": [
    "data.isnull().sum()"
   ]
  },
  {
   "cell_type": "markdown",
   "id": "6ee04a6e",
   "metadata": {},
   "source": [
    "#### visulaization"
   ]
  },
  {
   "cell_type": "code",
   "execution_count": 21,
   "id": "5a85a199",
   "metadata": {},
   "outputs": [
    {
     "data": {
      "text/plain": [
       "<AxesSubplot:xlabel='Gender', ylabel='count'>"
      ]
     },
     "execution_count": 21,
     "metadata": {},
     "output_type": "execute_result"
    },
    {
     "data": {
      "image/png": "[encoded data removed]",
      "text/plain": [
       "<Figure size 432x288 with 1 Axes>"
      ]
     },
     "metadata": {
      "needs_background": "light"
     },
     "output_type": "display_data"
    }
   ],
   "source": [
    "sns.countplot(x ='Gender', data = data)"
   ]
  },
  {
   "cell_type": "markdown",
   "id": "beef152a",
   "metadata": {},
   "source": [
    "###### male victims are more tham female victims"
   ]
  },
  {
   "cell_type": "code",
   "execution_count": 22,
   "id": "b553fe9d",
   "metadata": {},
   "outputs": [
    {
     "data": {
      "text/plain": [
       "<AxesSubplot:xlabel='Victims_Total'>"
      ]
     },
     "execution_count": 22,
     "metadata": {},
     "output_type": "execute_result"
    },
    {
     "data": {
      "image/png": "[encoded data removed]",
      "text/plain": [
       "<Figure size 432x288 with 1 Axes>"
      ]
     },
     "metadata": {
      "needs_background": "light"
     },
     "output_type": "display_data"
    }
   ],
   "source": [
    "sns.boxplot(x=data['Victims_Total'])\n"
   ]
  },
  {
   "cell_type": "markdown",
   "id": "6aa534b9",
   "metadata": {},
   "source": [
    "#### victims_total have no outliers"
   ]
  },
  {
   "cell_type": "code",
   "execution_count": 23,
   "id": "5ce47206",
   "metadata": {},
   "outputs": [
    {
     "data": {
      "text/plain": [
       "<matplotlib.legend.Legend at 0x154e9238a90>"
      ]
     },
     "execution_count": 23,
     "metadata": {},
     "output_type": "execute_result"
    },
    {
     "data": {
      "image/png": "[encoded data removed]",
      "text/plain": [
       "<Figure size 432x288 with 1 Axes>"
      ]
     },
     "metadata": {
      "needs_background": "light"
     },
     "output_type": "display_data"
    }
   ],
   "source": [
    "figsize=(15, 6)\n",
    "ax = sns.countplot(x=\"State\", hue=\"Gender\", data=data)\n",
    "plt.legend(labels=data.index, loc='upper left')\n"
   ]
  },
  {
   "cell_type": "markdown",
   "id": "a995b7e0",
   "metadata": {},
   "source": [
    "#### handling categorical features"
   ]
  },
  {
   "cell_type": "code",
   "execution_count": 24,
   "id": "8fd638e5",
   "metadata": {},
   "outputs": [],
   "source": [
    "data[\"Gender\"]=data[\"Gender\"].replace([\"FV\",\"MV\"],[1,0])"
   ]
  },
  {
   "cell_type": "code",
   "execution_count": 25,
   "id": "3fe3dccf",
   "metadata": {},
   "outputs": [
    {
     "name": "stdout",
     "output_type": "stream",
     "text": [
      "<class 'pandas.core.frame.DataFrame'>\n",
      "RangeIndex: 78 entries, 0 to 77\n",
      "Data columns (total 11 columns):\n",
      " #   Column                  Non-Null Count  Dtype \n",
      "---  ------                  --------------  ----- \n",
      " 0   State                   78 non-null     object\n",
      " 1   Year                    78 non-null     int64 \n",
      " 2   Gender                  78 non-null     int64 \n",
      " 3   Location                78 non-null     object\n",
      " 4   Victims_Above_50_Yrs    78 non-null     int64 \n",
      " 5   Victims_Upto_10_15_Yrs  78 non-null     int64 \n",
      " 6   Victims_Upto_10_Yrs     78 non-null     object\n",
      " 7   Victims_Upto_15_18_Yrs  78 non-null     int64 \n",
      " 8   Victims_Upto_18_30_Yrs  78 non-null     int64 \n",
      " 9   Victims_Upto_30_50_Yrs  78 non-null     int64 \n",
      " 10  Victims_Total           78 non-null     int64 \n",
      "dtypes: int64(8), object(3)\n",
      "memory usage: 6.8+ KB\n"
     ]
    }
   ],
   "source": [
    "data.info()"
   ]
  },
  {
   "cell_type": "code",
   "execution_count": 26,
   "id": "02684233",
   "metadata": {},
   "outputs": [
    {
     "data": {
      "text/plain": [
       "0     24\n",
       "1     11\n",
       "2     11\n",
       "4      5\n",
       "3      3\n",
       "6      3\n",
       "14     3\n",
       "13     2\n",
       "12     2\n",
       "10     2\n",
       "8      2\n",
       "11     1\n",
       "7      1\n",
       "15     1\n",
       "17     1\n",
       "18     1\n",
       "19     1\n",
       "20     1\n",
       "21     1\n",
       "24     1\n",
       "s      1\n",
       "Name: Victims_Upto_10_Yrs, dtype: int64"
      ]
     },
     "execution_count": 26,
     "metadata": {},
     "output_type": "execute_result"
    }
   ],
   "source": [
    "data['Victims_Upto_10_Yrs'].value_counts()"
   ]
  },
  {
   "cell_type": "code",
   "execution_count": 27,
   "id": "a91a1ab2",
   "metadata": {},
   "outputs": [],
   "source": [
    "data['Victims_Upto_10_Yrs']=data['Victims_Upto_10_Yrs'].replace([\"s\"],5)"
   ]
  },
  {
   "cell_type": "code",
   "execution_count": 28,
   "id": "47693b17",
   "metadata": {},
   "outputs": [
    {
     "name": "stdout",
     "output_type": "stream",
     "text": [
      "<class 'pandas.core.frame.DataFrame'>\n",
      "RangeIndex: 78 entries, 0 to 77\n",
      "Data columns (total 11 columns):\n",
      " #   Column                  Non-Null Count  Dtype \n",
      "---  ------                  --------------  ----- \n",
      " 0   State                   78 non-null     object\n",
      " 1   Year                    78 non-null     int64 \n",
      " 2   Gender                  78 non-null     int64 \n",
      " 3   Location                78 non-null     object\n",
      " 4   Victims_Above_50_Yrs    78 non-null     int64 \n",
      " 5   Victims_Upto_10_15_Yrs  78 non-null     int64 \n",
      " 6   Victims_Upto_10_Yrs     78 non-null     int64 \n",
      " 7   Victims_Upto_15_18_Yrs  78 non-null     int64 \n",
      " 8   Victims_Upto_18_30_Yrs  78 non-null     int64 \n",
      " 9   Victims_Upto_30_50_Yrs  78 non-null     int64 \n",
      " 10  Victims_Total           78 non-null     int64 \n",
      "dtypes: int64(9), object(2)\n",
      "memory usage: 6.8+ KB\n"
     ]
    }
   ],
   "source": [
    "data.info()"
   ]
  },
  {
   "cell_type": "code",
   "execution_count": 29,
   "id": "e0e7c6ff",
   "metadata": {},
   "outputs": [],
   "source": [
    "data.drop([\"Location\"],axis=1,inplace=True)"
   ]
  },
  {
   "cell_type": "code",
   "execution_count": 30,
   "id": "6412daa5",
   "metadata": {},
   "outputs": [
    {
     "name": "stdout",
     "output_type": "stream",
     "text": [
      "<class 'pandas.core.frame.DataFrame'>\n",
      "RangeIndex: 78 entries, 0 to 77\n",
      "Data columns (total 10 columns):\n",
      " #   Column                  Non-Null Count  Dtype \n",
      "---  ------                  --------------  ----- \n",
      " 0   State                   78 non-null     object\n",
      " 1   Year                    78 non-null     int64 \n",
      " 2   Gender                  78 non-null     int64 \n",
      " 3   Victims_Above_50_Yrs    78 non-null     int64 \n",
      " 4   Victims_Upto_10_15_Yrs  78 non-null     int64 \n",
      " 5   Victims_Upto_10_Yrs     78 non-null     int64 \n",
      " 6   Victims_Upto_15_18_Yrs  78 non-null     int64 \n",
      " 7   Victims_Upto_18_30_Yrs  78 non-null     int64 \n",
      " 8   Victims_Upto_30_50_Yrs  78 non-null     int64 \n",
      " 9   Victims_Total           78 non-null     int64 \n",
      "dtypes: int64(9), object(1)\n",
      "memory usage: 6.2+ KB\n"
     ]
    }
   ],
   "source": [
    "data.info()"
   ]
  },
  {
   "cell_type": "code",
   "execution_count": 31,
   "id": "d7f4ae7b",
   "metadata": {},
   "outputs": [],
   "source": [
    "from sklearn.preprocessing import LabelEncoder"
   ]
  },
  {
   "cell_type": "code",
   "execution_count": 32,
   "id": "e7320f3b",
   "metadata": {},
   "outputs": [],
   "source": [
    "le=LabelEncoder()"
   ]
  },
  {
   "cell_type": "code",
   "execution_count": 33,
   "id": "1c785484",
   "metadata": {},
   "outputs": [],
   "source": [
    "data.iloc[:,0]=le.fit_transform(data.iloc[:,0])"
   ]
  },
  {
   "cell_type": "code",
   "execution_count": 34,
   "id": "7815614a",
   "metadata": {},
   "outputs": [
    {
     "name": "stdout",
     "output_type": "stream",
     "text": [
      "<class 'pandas.core.frame.DataFrame'>\n",
      "RangeIndex: 78 entries, 0 to 77\n",
      "Data columns (total 10 columns):\n",
      " #   Column                  Non-Null Count  Dtype\n",
      "---  ------                  --------------  -----\n",
      " 0   State                   78 non-null     int32\n",
      " 1   Year                    78 non-null     int64\n",
      " 2   Gender                  78 non-null     int64\n",
      " 3   Victims_Above_50_Yrs    78 non-null     int64\n",
      " 4   Victims_Upto_10_15_Yrs  78 non-null     int64\n",
      " 5   Victims_Upto_10_Yrs     78 non-null     int64\n",
      " 6   Victims_Upto_15_18_Yrs  78 non-null     int64\n",
      " 7   Victims_Upto_18_30_Yrs  78 non-null     int64\n",
      " 8   Victims_Upto_30_50_Yrs  78 non-null     int64\n",
      " 9   Victims_Total           78 non-null     int64\n",
      "dtypes: int32(1), int64(9)\n",
      "memory usage: 5.9 KB\n"
     ]
    }
   ],
   "source": [
    "data.info()"
   ]
  },
  {
   "cell_type": "markdown",
   "id": "22017ef8",
   "metadata": {},
   "source": [
    "#### Splitting dataset"
   ]
  },
  {
   "cell_type": "code",
   "execution_count": null,
   "id": "85d9f071",
   "metadata": {},
   "outputs": [],
   "source": []
  },
  {
   "cell_type": "code",
   "execution_count": 35,
   "id": "d94feba9",
   "metadata": {},
   "outputs": [],
   "source": [
    "x=data.iloc[:,:-1]\n",
    "y=data.iloc[:,-1]"
   ]
  },
  {
   "cell_type": "code",
   "execution_count": 36,
   "id": "0358200a",
   "metadata": {},
   "outputs": [],
   "source": [
    "from sklearn.model_selection import train_test_split "
   ]
  },
  {
   "cell_type": "code",
   "execution_count": 37,
   "id": "71e51d0a",
   "metadata": {},
   "outputs": [],
   "source": [
    "x_train,x_test,y_train,y_test=train_test_split(x,y,test_size=0.2,random_state=2)"
   ]
  },
  {
   "cell_type": "markdown",
   "id": "cfd58b92",
   "metadata": {},
   "source": [
    "### Built model"
   ]
  },
  {
   "cell_type": "code",
   "execution_count": 38,
   "id": "6000a4c9",
   "metadata": {},
   "outputs": [],
   "source": [
    "from sklearn.linear_model import LinearRegression"
   ]
  },
  {
   "cell_type": "code",
   "execution_count": 39,
   "id": "ee7f7de3",
   "metadata": {},
   "outputs": [],
   "source": [
    "regressor=LinearRegression()"
   ]
  },
  {
   "cell_type": "code",
   "execution_count": 40,
   "id": "98169c26",
   "metadata": {},
   "outputs": [],
   "source": [
    "### training the model"
   ]
  },
  {
   "cell_type": "code",
   "execution_count": 41,
   "id": "54d3be8b",
   "metadata": {},
   "outputs": [
    {
     "data": {
      "text/plain": [
       "LinearRegression()"
      ]
     },
     "execution_count": 41,
     "metadata": {},
     "output_type": "execute_result"
    }
   ],
   "source": [
    "regressor.fit(x_train,y_train)"
   ]
  },
  {
   "cell_type": "code",
   "execution_count": 42,
   "id": "d7e14672",
   "metadata": {},
   "outputs": [],
   "source": [
    "y_pred=regressor.predict(x_test)"
   ]
  },
  {
   "cell_type": "code",
   "execution_count": 43,
   "id": "a43c040a",
   "metadata": {},
   "outputs": [
    {
     "data": {
      "text/plain": [
       "array([677.87815454,  10.84514892, 458.04377302, 143.10318614,\n",
       "        32.96508693,  25.04298966, 474.13450322,   5.79391032,\n",
       "        21.95170063, 360.43652999, 155.96479723,   7.90499308,\n",
       "       129.77353831,  18.9019433 , 385.06652447,   9.97676869])"
      ]
     },
     "execution_count": 43,
     "metadata": {},
     "output_type": "execute_result"
    }
   ],
   "source": [
    "y_pred"
   ]
  },
  {
   "cell_type": "code",
   "execution_count": 45,
   "id": "9103205f",
   "metadata": {},
   "outputs": [
    {
     "data": {
      "text/html": [
       "<div>\n",
       "<style scoped>\n",
       "    .dataframe tbody tr th:only-of-type {\n",
       "        vertical-align: middle;\n",
       "    }\n",
       "\n",
       "    .dataframe tbody tr th {\n",
       "        vertical-align: top;\n",
       "    }\n",
       "\n",
       "    .dataframe thead th {\n",
       "        text-align: right;\n",
       "    }\n",
       "</style>\n",
       "<table border=\"1\" class=\"dataframe\">\n",
       "  <thead>\n",
       "    <tr style=\"text-align: right;\">\n",
       "      <th></th>\n",
       "      <th>actual</th>\n",
       "      <th>predicted</th>\n",
       "    </tr>\n",
       "  </thead>\n",
       "  <tbody>\n",
       "    <tr>\n",
       "      <th>28</th>\n",
       "      <td>675</td>\n",
       "      <td>677.878155</td>\n",
       "    </tr>\n",
       "    <tr>\n",
       "      <th>65</th>\n",
       "      <td>11</td>\n",
       "      <td>10.845149</td>\n",
       "    </tr>\n",
       "    <tr>\n",
       "      <th>27</th>\n",
       "      <td>458</td>\n",
       "      <td>458.043773</td>\n",
       "    </tr>\n",
       "    <tr>\n",
       "      <th>13</th>\n",
       "      <td>143</td>\n",
       "      <td>143.103186</td>\n",
       "    </tr>\n",
       "    <tr>\n",
       "      <th>75</th>\n",
       "      <td>33</td>\n",
       "      <td>32.965087</td>\n",
       "    </tr>\n",
       "  </tbody>\n",
       "</table>\n",
       "</div>"
      ],
      "text/plain": [
       "    actual   predicted\n",
       "28     675  677.878155\n",
       "65      11   10.845149\n",
       "27     458  458.043773\n",
       "13     143  143.103186\n",
       "75      33   32.965087"
      ]
     },
     "execution_count": 45,
     "metadata": {},
     "output_type": "execute_result"
    }
   ],
   "source": [
    "pd.DataFrame({\"actual\":y_test,\"predicted\":y_pred}).head()"
   ]
  },
  {
   "cell_type": "markdown",
   "id": "8ff74e82",
   "metadata": {},
   "source": [
    "### Model Performance"
   ]
  },
  {
   "cell_type": "code",
   "execution_count": 46,
   "id": "ca978552",
   "metadata": {},
   "outputs": [],
   "source": [
    "from sklearn import metrics"
   ]
  },
  {
   "cell_type": "code",
   "execution_count": 47,
   "id": "78e3b155",
   "metadata": {},
   "outputs": [
    {
     "data": {
      "text/plain": [
       "0.3517358519909869"
      ]
     },
     "execution_count": 47,
     "metadata": {},
     "output_type": "execute_result"
    }
   ],
   "source": [
    "metrics.mean_absolute_error(y_test,y_pred)"
   ]
  },
  {
   "cell_type": "code",
   "execution_count": 49,
   "id": "fe278a8b",
   "metadata": {},
   "outputs": [
    {
     "data": {
      "text/plain": [
       "0.9999858418441627"
      ]
     },
     "execution_count": 49,
     "metadata": {},
     "output_type": "execute_result"
    }
   ],
   "source": [
    "metrics.r2_score(y_test,y_pred)"
   ]
  },
  {
   "cell_type": "code",
   "execution_count": null,
   "id": "9922c96e",
   "metadata": {},
   "outputs": [],
   "source": []
  }
 ],
 "metadata": {
  "kernelspec": {
   "display_name": "Python 3",
   "language": "python",
   "name": "python3"
  },
  "language_info": {
   "codemirror_mode": {
    "name": "ipython",
    "version": 3
   },
   "file_extension": ".py",
   "mimetype": "text/x-python",
   "name": "python",
   "nbconvert_exporter": "python",
   "pygments_lexer": "ipython3",
   "version": "3.8.8"
  }
 },
 "nbformat": 4,
 "nbformat_minor": 5
}
