{
 "cells": [
  {
   "cell_type": "markdown",
   "id": "b01ace68",
   "metadata": {},
   "source": [
    "## predict whether the person has chronic kidney disease or not?"
   ]
  },
  {
   "cell_type": "code",
   "execution_count": 1,
   "id": "e07d8f83",
   "metadata": {},
   "outputs": [],
   "source": [
    "import numpy as np\n",
    "import pandas as pd\n",
    "import seaborn as sns\n",
    "import matplotlib.pyplot as plt\n",
    "\n",
    "\n",
    "import sklearn\n",
    "import imblearn\n",
    "\n",
    "\n",
    "plt.rcParams['figure.figsize'] = (16, 5)\n",
    "\n",
    "plt.style.use('fivethirtyeight')"
   ]
  },
  {
   "cell_type": "code",
   "execution_count": 2,
   "id": "0709a815",
   "metadata": {},
   "outputs": [],
   "source": [
    "df= pd.read_csv(\"kidney_disease.csv\")"
   ]
  },
  {
   "cell_type": "code",
   "execution_count": 3,
   "id": "c615ec77",
   "metadata": {},
   "outputs": [
    {
     "data": {
      "text/html": [
       "<div>\n",
       "<style scoped>\n",
       "    .dataframe tbody tr th:only-of-type {\n",
       "        vertical-align: middle;\n",
       "    }\n",
       "\n",
       "    .dataframe tbody tr th {\n",
       "        vertical-align: top;\n",
       "    }\n",
       "\n",
       "    .dataframe thead th {\n",
       "        text-align: right;\n",
       "    }\n",
       "</style>\n",
       "<table border=\"1\" class=\"dataframe\">\n",
       "  <thead>\n",
       "    <tr style=\"text-align: right;\">\n",
       "      <th></th>\n",
       "      <th>id</th>\n",
       "      <th>age</th>\n",
       "      <th>bp</th>\n",
       "      <th>sg</th>\n",
       "      <th>al</th>\n",
       "      <th>su</th>\n",
       "      <th>rbc</th>\n",
       "      <th>pc</th>\n",
       "      <th>pcc</th>\n",
       "      <th>ba</th>\n",
       "      <th>...</th>\n",
       "      <th>pcv</th>\n",
       "      <th>wc</th>\n",
       "      <th>rc</th>\n",
       "      <th>htn</th>\n",
       "      <th>dm</th>\n",
       "      <th>cad</th>\n",
       "      <th>appet</th>\n",
       "      <th>pe</th>\n",
       "      <th>ane</th>\n",
       "      <th>classification</th>\n",
       "    </tr>\n",
       "  </thead>\n",
       "  <tbody>\n",
       "    <tr>\n",
       "      <th>0</th>\n",
       "      <td>0</td>\n",
       "      <td>48.0</td>\n",
       "      <td>80.0</td>\n",
       "      <td>1.020</td>\n",
       "      <td>1.0</td>\n",
       "      <td>0.0</td>\n",
       "      <td>NaN</td>\n",
       "      <td>normal</td>\n",
       "      <td>notpresent</td>\n",
       "      <td>notpresent</td>\n",
       "      <td>...</td>\n",
       "      <td>44</td>\n",
       "      <td>7800</td>\n",
       "      <td>5.2</td>\n",
       "      <td>yes</td>\n",
       "      <td>yes</td>\n",
       "      <td>no</td>\n",
       "      <td>good</td>\n",
       "      <td>no</td>\n",
       "      <td>no</td>\n",
       "      <td>ckd</td>\n",
       "    </tr>\n",
       "    <tr>\n",
       "      <th>1</th>\n",
       "      <td>1</td>\n",
       "      <td>7.0</td>\n",
       "      <td>50.0</td>\n",
       "      <td>1.020</td>\n",
       "      <td>4.0</td>\n",
       "      <td>0.0</td>\n",
       "      <td>NaN</td>\n",
       "      <td>normal</td>\n",
       "      <td>notpresent</td>\n",
       "      <td>notpresent</td>\n",
       "      <td>...</td>\n",
       "      <td>38</td>\n",
       "      <td>6000</td>\n",
       "      <td>NaN</td>\n",
       "      <td>no</td>\n",
       "      <td>no</td>\n",
       "      <td>no</td>\n",
       "      <td>good</td>\n",
       "      <td>no</td>\n",
       "      <td>no</td>\n",
       "      <td>ckd</td>\n",
       "    </tr>\n",
       "    <tr>\n",
       "      <th>2</th>\n",
       "      <td>2</td>\n",
       "      <td>62.0</td>\n",
       "      <td>80.0</td>\n",
       "      <td>1.010</td>\n",
       "      <td>2.0</td>\n",
       "      <td>3.0</td>\n",
       "      <td>normal</td>\n",
       "      <td>normal</td>\n",
       "      <td>notpresent</td>\n",
       "      <td>notpresent</td>\n",
       "      <td>...</td>\n",
       "      <td>31</td>\n",
       "      <td>7500</td>\n",
       "      <td>NaN</td>\n",
       "      <td>no</td>\n",
       "      <td>yes</td>\n",
       "      <td>no</td>\n",
       "      <td>poor</td>\n",
       "      <td>no</td>\n",
       "      <td>yes</td>\n",
       "      <td>ckd</td>\n",
       "    </tr>\n",
       "    <tr>\n",
       "      <th>3</th>\n",
       "      <td>3</td>\n",
       "      <td>48.0</td>\n",
       "      <td>70.0</td>\n",
       "      <td>1.005</td>\n",
       "      <td>4.0</td>\n",
       "      <td>0.0</td>\n",
       "      <td>normal</td>\n",
       "      <td>abnormal</td>\n",
       "      <td>present</td>\n",
       "      <td>notpresent</td>\n",
       "      <td>...</td>\n",
       "      <td>32</td>\n",
       "      <td>6700</td>\n",
       "      <td>3.9</td>\n",
       "      <td>yes</td>\n",
       "      <td>no</td>\n",
       "      <td>no</td>\n",
       "      <td>poor</td>\n",
       "      <td>yes</td>\n",
       "      <td>yes</td>\n",
       "      <td>ckd</td>\n",
       "    </tr>\n",
       "    <tr>\n",
       "      <th>4</th>\n",
       "      <td>4</td>\n",
       "      <td>51.0</td>\n",
       "      <td>80.0</td>\n",
       "      <td>1.010</td>\n",
       "      <td>2.0</td>\n",
       "      <td>0.0</td>\n",
       "      <td>normal</td>\n",
       "      <td>normal</td>\n",
       "      <td>notpresent</td>\n",
       "      <td>notpresent</td>\n",
       "      <td>...</td>\n",
       "      <td>35</td>\n",
       "      <td>7300</td>\n",
       "      <td>4.6</td>\n",
       "      <td>no</td>\n",
       "      <td>no</td>\n",
       "      <td>no</td>\n",
       "      <td>good</td>\n",
       "      <td>no</td>\n",
       "      <td>no</td>\n",
       "      <td>ckd</td>\n",
       "    </tr>\n",
       "  </tbody>\n",
       "</table>\n",
       "<p>5 rows × 26 columns</p>\n",
       "</div>"
      ],
      "text/plain": [
       "   id   age    bp     sg   al   su     rbc        pc         pcc          ba  \\\n",
       "0   0  48.0  80.0  1.020  1.0  0.0     NaN    normal  notpresent  notpresent   \n",
       "1   1   7.0  50.0  1.020  4.0  0.0     NaN    normal  notpresent  notpresent   \n",
       "2   2  62.0  80.0  1.010  2.0  3.0  normal    normal  notpresent  notpresent   \n",
       "3   3  48.0  70.0  1.005  4.0  0.0  normal  abnormal     present  notpresent   \n",
       "4   4  51.0  80.0  1.010  2.0  0.0  normal    normal  notpresent  notpresent   \n",
       "\n",
       "   ...  pcv    wc   rc  htn   dm  cad appet   pe  ane classification  \n",
       "0  ...   44  7800  5.2  yes  yes   no  good   no   no            ckd  \n",
       "1  ...   38  6000  NaN   no   no   no  good   no   no            ckd  \n",
       "2  ...   31  7500  NaN   no  yes   no  poor   no  yes            ckd  \n",
       "3  ...   32  6700  3.9  yes   no   no  poor  yes  yes            ckd  \n",
       "4  ...   35  7300  4.6   no   no   no  good   no   no            ckd  \n",
       "\n",
       "[5 rows x 26 columns]"
      ]
     },
     "execution_count": 3,
     "metadata": {},
     "output_type": "execute_result"
    }
   ],
   "source": [
    "df.head()"
   ]
  },
  {
   "cell_type": "markdown",
   "id": "df1faaeb",
   "metadata": {},
   "source": [
    "##\n",
    "### features:\n",
    " age - age\n",
    "    bp - blood pressure\n",
    "    sg - specific gravity\n",
    "    al - albumin\n",
    "    su - sugar\n",
    "    rbc - red blood cells\n",
    "    pc - pus cell\n",
    "    pcc - pus cell clumps\n",
    "    ba - bacteria\n",
    "    bgr - blood glucose random\n",
    "    bu - blood urea\n",
    "    sc - serum creatinine\n",
    "    sod - sodium\n",
    "    pot - potassium\n",
    "    hemo - haemoglobin\n",
    "    pcv - packed cell volume\n",
    "    wc - white blood cell count\n",
    "    rc - red blood cell count\n",
    "    htn - hypertension\n",
    "    dm - diabetes mellitus\n",
    "    cad - coronary artery disease\n",
    "    appet - appetite\n",
    "    pe - pedal edema\n",
    "    ane - anemia\n",
    "    classification - class"
   ]
  },
  {
   "cell_type": "code",
   "execution_count": 4,
   "id": "672bebd1",
   "metadata": {},
   "outputs": [
    {
     "data": {
      "text/plain": [
       "(400, 26)"
      ]
     },
     "execution_count": 4,
     "metadata": {},
     "output_type": "execute_result"
    }
   ],
   "source": [
    "df.shape"
   ]
  },
  {
   "cell_type": "code",
   "execution_count": 5,
   "id": "ee9d29a6",
   "metadata": {},
   "outputs": [],
   "source": [
    "missing = df.isnull().sum()"
   ]
  },
  {
   "cell_type": "code",
   "execution_count": null,
   "id": "e8f05299",
   "metadata": {},
   "outputs": [],
   "source": [
    "missing"
   ]
  },
  {
   "cell_type": "code",
   "execution_count": 6,
   "id": "3e251ec4",
   "metadata": {},
   "outputs": [],
   "source": [
    "missing_percent = ((df.isnull().sum()/df.shape[0])*100).round(2)"
   ]
  },
  {
   "cell_type": "code",
   "execution_count": 7,
   "id": "4268ec00",
   "metadata": {},
   "outputs": [],
   "source": [
    "missing_data = pd.concat([missing,missing_percent,],\n",
    "                                axis=1, \n",
    "                                keys=['missing_Total', 'missing_Percent %',],\n",
    "                                sort = True)"
   ]
  },
  {
   "cell_type": "code",
   "execution_count": null,
   "id": "b0982f66",
   "metadata": {},
   "outputs": [],
   "source": []
  },
  {
   "cell_type": "code",
   "execution_count": 8,
   "id": "a427a0d9",
   "metadata": {},
   "outputs": [
    {
     "data": {
      "text/html": [
       "<div>\n",
       "<style scoped>\n",
       "    .dataframe tbody tr th:only-of-type {\n",
       "        vertical-align: middle;\n",
       "    }\n",
       "\n",
       "    .dataframe tbody tr th {\n",
       "        vertical-align: top;\n",
       "    }\n",
       "\n",
       "    .dataframe thead th {\n",
       "        text-align: right;\n",
       "    }\n",
       "</style>\n",
       "<table border=\"1\" class=\"dataframe\">\n",
       "  <thead>\n",
       "    <tr style=\"text-align: right;\">\n",
       "      <th></th>\n",
       "      <th>missing_Total</th>\n",
       "      <th>missing_Percent %</th>\n",
       "    </tr>\n",
       "  </thead>\n",
       "  <tbody>\n",
       "    <tr>\n",
       "      <th>age</th>\n",
       "      <td>9</td>\n",
       "      <td>2.25</td>\n",
       "    </tr>\n",
       "    <tr>\n",
       "      <th>al</th>\n",
       "      <td>46</td>\n",
       "      <td>11.50</td>\n",
       "    </tr>\n",
       "    <tr>\n",
       "      <th>ane</th>\n",
       "      <td>1</td>\n",
       "      <td>0.25</td>\n",
       "    </tr>\n",
       "    <tr>\n",
       "      <th>appet</th>\n",
       "      <td>1</td>\n",
       "      <td>0.25</td>\n",
       "    </tr>\n",
       "    <tr>\n",
       "      <th>ba</th>\n",
       "      <td>4</td>\n",
       "      <td>1.00</td>\n",
       "    </tr>\n",
       "    <tr>\n",
       "      <th>bgr</th>\n",
       "      <td>44</td>\n",
       "      <td>11.00</td>\n",
       "    </tr>\n",
       "    <tr>\n",
       "      <th>bp</th>\n",
       "      <td>12</td>\n",
       "      <td>3.00</td>\n",
       "    </tr>\n",
       "    <tr>\n",
       "      <th>bu</th>\n",
       "      <td>19</td>\n",
       "      <td>4.75</td>\n",
       "    </tr>\n",
       "    <tr>\n",
       "      <th>cad</th>\n",
       "      <td>2</td>\n",
       "      <td>0.50</td>\n",
       "    </tr>\n",
       "    <tr>\n",
       "      <th>classification</th>\n",
       "      <td>0</td>\n",
       "      <td>0.00</td>\n",
       "    </tr>\n",
       "    <tr>\n",
       "      <th>dm</th>\n",
       "      <td>2</td>\n",
       "      <td>0.50</td>\n",
       "    </tr>\n",
       "    <tr>\n",
       "      <th>hemo</th>\n",
       "      <td>52</td>\n",
       "      <td>13.00</td>\n",
       "    </tr>\n",
       "    <tr>\n",
       "      <th>htn</th>\n",
       "      <td>2</td>\n",
       "      <td>0.50</td>\n",
       "    </tr>\n",
       "    <tr>\n",
       "      <th>id</th>\n",
       "      <td>0</td>\n",
       "      <td>0.00</td>\n",
       "    </tr>\n",
       "    <tr>\n",
       "      <th>pc</th>\n",
       "      <td>65</td>\n",
       "      <td>16.25</td>\n",
       "    </tr>\n",
       "    <tr>\n",
       "      <th>pcc</th>\n",
       "      <td>4</td>\n",
       "      <td>1.00</td>\n",
       "    </tr>\n",
       "    <tr>\n",
       "      <th>pcv</th>\n",
       "      <td>70</td>\n",
       "      <td>17.50</td>\n",
       "    </tr>\n",
       "    <tr>\n",
       "      <th>pe</th>\n",
       "      <td>1</td>\n",
       "      <td>0.25</td>\n",
       "    </tr>\n",
       "    <tr>\n",
       "      <th>pot</th>\n",
       "      <td>88</td>\n",
       "      <td>22.00</td>\n",
       "    </tr>\n",
       "    <tr>\n",
       "      <th>rbc</th>\n",
       "      <td>152</td>\n",
       "      <td>38.00</td>\n",
       "    </tr>\n",
       "    <tr>\n",
       "      <th>rc</th>\n",
       "      <td>130</td>\n",
       "      <td>32.50</td>\n",
       "    </tr>\n",
       "    <tr>\n",
       "      <th>sc</th>\n",
       "      <td>17</td>\n",
       "      <td>4.25</td>\n",
       "    </tr>\n",
       "    <tr>\n",
       "      <th>sg</th>\n",
       "      <td>47</td>\n",
       "      <td>11.75</td>\n",
       "    </tr>\n",
       "    <tr>\n",
       "      <th>sod</th>\n",
       "      <td>87</td>\n",
       "      <td>21.75</td>\n",
       "    </tr>\n",
       "    <tr>\n",
       "      <th>su</th>\n",
       "      <td>49</td>\n",
       "      <td>12.25</td>\n",
       "    </tr>\n",
       "    <tr>\n",
       "      <th>wc</th>\n",
       "      <td>105</td>\n",
       "      <td>26.25</td>\n",
       "    </tr>\n",
       "  </tbody>\n",
       "</table>\n",
       "</div>"
      ],
      "text/plain": [
       "                missing_Total  missing_Percent %\n",
       "age                         9               2.25\n",
       "al                         46              11.50\n",
       "ane                         1               0.25\n",
       "appet                       1               0.25\n",
       "ba                          4               1.00\n",
       "bgr                        44              11.00\n",
       "bp                         12               3.00\n",
       "bu                         19               4.75\n",
       "cad                         2               0.50\n",
       "classification              0               0.00\n",
       "dm                          2               0.50\n",
       "hemo                       52              13.00\n",
       "htn                         2               0.50\n",
       "id                          0               0.00\n",
       "pc                         65              16.25\n",
       "pcc                         4               1.00\n",
       "pcv                        70              17.50\n",
       "pe                          1               0.25\n",
       "pot                        88              22.00\n",
       "rbc                       152              38.00\n",
       "rc                        130              32.50\n",
       "sc                         17               4.25\n",
       "sg                         47              11.75\n",
       "sod                        87              21.75\n",
       "su                         49              12.25\n",
       "wc                        105              26.25"
      ]
     },
     "execution_count": 8,
     "metadata": {},
     "output_type": "execute_result"
    }
   ],
   "source": [
    "missing_data"
   ]
  },
  {
   "cell_type": "code",
   "execution_count": 9,
   "id": "679ef82c",
   "metadata": {},
   "outputs": [],
   "source": [
    "columns=pd.read_csv('data_description.txt',sep='-')\n",
    "columns=columns.reset_index()\n",
    "columns.columns=['cols','abbrevationnames']"
   ]
  },
  {
   "cell_type": "code",
   "execution_count": 10,
   "id": "1be580d7",
   "metadata": {},
   "outputs": [
    {
     "data": {
      "text/html": [
       "<div>\n",
       "<style scoped>\n",
       "    .dataframe tbody tr th:only-of-type {\n",
       "        vertical-align: middle;\n",
       "    }\n",
       "\n",
       "    .dataframe tbody tr th {\n",
       "        vertical-align: top;\n",
       "    }\n",
       "\n",
       "    .dataframe thead th {\n",
       "        text-align: right;\n",
       "    }\n",
       "</style>\n",
       "<table border=\"1\" class=\"dataframe\">\n",
       "  <thead>\n",
       "    <tr style=\"text-align: right;\">\n",
       "      <th></th>\n",
       "      <th>cols</th>\n",
       "      <th>abbrevationnames</th>\n",
       "    </tr>\n",
       "  </thead>\n",
       "  <tbody>\n",
       "    <tr>\n",
       "      <th>0</th>\n",
       "      <td>id</td>\n",
       "      <td>id</td>\n",
       "    </tr>\n",
       "    <tr>\n",
       "      <th>1</th>\n",
       "      <td>age</td>\n",
       "      <td>age</td>\n",
       "    </tr>\n",
       "    <tr>\n",
       "      <th>2</th>\n",
       "      <td>bp</td>\n",
       "      <td>blood pressure</td>\n",
       "    </tr>\n",
       "    <tr>\n",
       "      <th>3</th>\n",
       "      <td>sg</td>\n",
       "      <td>specific gravity</td>\n",
       "    </tr>\n",
       "    <tr>\n",
       "      <th>4</th>\n",
       "      <td>al</td>\n",
       "      <td>albumin</td>\n",
       "    </tr>\n",
       "    <tr>\n",
       "      <th>5</th>\n",
       "      <td>su</td>\n",
       "      <td>sugar</td>\n",
       "    </tr>\n",
       "    <tr>\n",
       "      <th>6</th>\n",
       "      <td>rbc</td>\n",
       "      <td>red blood cells</td>\n",
       "    </tr>\n",
       "    <tr>\n",
       "      <th>7</th>\n",
       "      <td>pc</td>\n",
       "      <td>pus cell</td>\n",
       "    </tr>\n",
       "    <tr>\n",
       "      <th>8</th>\n",
       "      <td>pcc</td>\n",
       "      <td>pus cell clumps</td>\n",
       "    </tr>\n",
       "    <tr>\n",
       "      <th>9</th>\n",
       "      <td>ba</td>\n",
       "      <td>bacteria</td>\n",
       "    </tr>\n",
       "    <tr>\n",
       "      <th>10</th>\n",
       "      <td>bgr</td>\n",
       "      <td>blood glucose random</td>\n",
       "    </tr>\n",
       "    <tr>\n",
       "      <th>11</th>\n",
       "      <td>bu</td>\n",
       "      <td>blood urea</td>\n",
       "    </tr>\n",
       "    <tr>\n",
       "      <th>12</th>\n",
       "      <td>sc</td>\n",
       "      <td>serum creatinine</td>\n",
       "    </tr>\n",
       "    <tr>\n",
       "      <th>13</th>\n",
       "      <td>sod</td>\n",
       "      <td>sodium</td>\n",
       "    </tr>\n",
       "    <tr>\n",
       "      <th>14</th>\n",
       "      <td>pot</td>\n",
       "      <td>potassium</td>\n",
       "    </tr>\n",
       "    <tr>\n",
       "      <th>15</th>\n",
       "      <td>hemo</td>\n",
       "      <td>haemoglobin</td>\n",
       "    </tr>\n",
       "    <tr>\n",
       "      <th>16</th>\n",
       "      <td>pcv</td>\n",
       "      <td>packed cell volume</td>\n",
       "    </tr>\n",
       "    <tr>\n",
       "      <th>17</th>\n",
       "      <td>wc</td>\n",
       "      <td>white blood cell count</td>\n",
       "    </tr>\n",
       "    <tr>\n",
       "      <th>18</th>\n",
       "      <td>rc</td>\n",
       "      <td>red blood cell count</td>\n",
       "    </tr>\n",
       "    <tr>\n",
       "      <th>19</th>\n",
       "      <td>htn</td>\n",
       "      <td>ypertension</td>\n",
       "    </tr>\n",
       "    <tr>\n",
       "      <th>20</th>\n",
       "      <td>dm</td>\n",
       "      <td>diabetes mellitus</td>\n",
       "    </tr>\n",
       "    <tr>\n",
       "      <th>21</th>\n",
       "      <td>cad</td>\n",
       "      <td>coronary artery disease</td>\n",
       "    </tr>\n",
       "    <tr>\n",
       "      <th>22</th>\n",
       "      <td>appet</td>\n",
       "      <td>appetite</td>\n",
       "    </tr>\n",
       "    <tr>\n",
       "      <th>23</th>\n",
       "      <td>pe</td>\n",
       "      <td>pedal edema</td>\n",
       "    </tr>\n",
       "    <tr>\n",
       "      <th>24</th>\n",
       "      <td>ane</td>\n",
       "      <td>anemia</td>\n",
       "    </tr>\n",
       "    <tr>\n",
       "      <th>25</th>\n",
       "      <td>classification</td>\n",
       "      <td>class</td>\n",
       "    </tr>\n",
       "  </tbody>\n",
       "</table>\n",
       "</div>"
      ],
      "text/plain": [
       "               cols         abbrevationnames\n",
       "0               id                        id\n",
       "1              age                       age\n",
       "2               bp            blood pressure\n",
       "3               sg          specific gravity\n",
       "4               al                   albumin\n",
       "5               su                     sugar\n",
       "6              rbc           red blood cells\n",
       "7               pc                  pus cell\n",
       "8              pcc           pus cell clumps\n",
       "9               ba                  bacteria\n",
       "10             bgr      blood glucose random\n",
       "11              bu                blood urea\n",
       "12              sc          serum creatinine\n",
       "13             sod                    sodium\n",
       "14             pot                 potassium\n",
       "15            hemo               haemoglobin\n",
       "16             pcv        packed cell volume\n",
       "17              wc    white blood cell count\n",
       "18              rc      red blood cell count\n",
       "19             htn               ypertension\n",
       "20              dm         diabetes mellitus\n",
       "21             cad   coronary artery disease\n",
       "22           appet                  appetite\n",
       "23              pe               pedal edema\n",
       "24             ane                    anemia\n",
       "25  classification                     class"
      ]
     },
     "execution_count": 10,
     "metadata": {},
     "output_type": "execute_result"
    }
   ],
   "source": [
    "columns"
   ]
  },
  {
   "cell_type": "code",
   "execution_count": null,
   "id": "1f7fa8d0",
   "metadata": {},
   "outputs": [],
   "source": [
    "df.info()"
   ]
  },
  {
   "cell_type": "code",
   "execution_count": null,
   "id": "1deaa4b1",
   "metadata": {},
   "outputs": [],
   "source": [
    "features=['rc','pcv','wc']"
   ]
  },
  {
   "cell_type": "code",
   "execution_count": null,
   "id": "df20c31a",
   "metadata": {},
   "outputs": [],
   "source": [
    "def convert_dtype(df,feature):\n",
    "    df[feature] = pd.to_numeric(df[feature])"
   ]
  },
  {
   "cell_type": "code",
   "execution_count": 11,
   "id": "e34c0921",
   "metadata": {},
   "outputs": [],
   "source": [
    "df.drop([\"id\"],axis=1,inplace=True) "
   ]
  },
  {
   "cell_type": "code",
   "execution_count": 20,
   "id": "cd221ded",
   "metadata": {},
   "outputs": [
    {
     "data": {
      "text/plain": [
       "rc \n",
       "5.2    18\n",
       "4.5    16\n",
       "4.9    14\n",
       "4.7    11\n",
       "4.8    10\n",
       "3.9    10\n",
       "3.4     9\n",
       "4.6     9\n",
       "6.1     8\n",
       "3.7     8\n",
       "5.0     8\n",
       "5.5     8\n",
       "5.9     8\n",
       "5.3     7\n",
       "5.4     7\n",
       "5.8     7\n",
       "3.8     7\n",
       "5.6     6\n",
       "4.2     6\n",
       "4.3     6\n",
       "4.1     5\n",
       "5.1     5\n",
       "6.2     5\n",
       "6.5     5\n",
       "4.4     5\n",
       "6.4     5\n",
       "5.7     5\n",
       "3.2     5\n",
       "6.0     4\n",
       "6.3     4\n",
       "3.6     4\n",
       "4.0     3\n",
       "3.3     3\n",
       "3.5     3\n",
       "4       3\n",
       "3.0     2\n",
       "5       2\n",
       "3.1     2\n",
       "2.9     2\n",
       "2.8     2\n",
       "2.7     2\n",
       "2.6     2\n",
       "2.5     2\n",
       "2.1     2\n",
       "\\t?     1\n",
       "3       1\n",
       "2.4     1\n",
       "2.3     1\n",
       "8.0     1\n",
       "dtype: int64"
      ]
     },
     "execution_count": 20,
     "metadata": {},
     "output_type": "execute_result"
    }
   ],
   "source": [
    "df[[\"rc\"]].value_counts()"
   ]
  },
  {
   "cell_type": "code",
   "execution_count": 64,
   "id": "a223eee5",
   "metadata": {},
   "outputs": [],
   "source": [
    "def cat_num(df):\n",
    "    categorical_col=[col for col in df.columns if df[col].dtype=='object']\n",
    "    numerical_col=[col for col in df.columns if df[col].dtype!='object']\n",
    "    return categorical_col,numerical_col"
   ]
  },
  {
   "cell_type": "code",
   "execution_count": 65,
   "id": "7914cb83",
   "metadata": {},
   "outputs": [],
   "source": [
    "categorical_col,numerical_col=cat_num(df)"
   ]
  },
  {
   "cell_type": "code",
   "execution_count": 66,
   "id": "746e091b",
   "metadata": {},
   "outputs": [
    {
     "data": {
      "text/plain": [
       "['rbc',\n",
       " 'pc',\n",
       " 'pcc',\n",
       " 'ba',\n",
       " 'htn',\n",
       " 'dm',\n",
       " 'cad',\n",
       " 'appet',\n",
       " 'pe',\n",
       " 'ane',\n",
       " 'classification']"
      ]
     },
     "execution_count": 66,
     "metadata": {},
     "output_type": "execute_result"
    }
   ],
   "source": [
    "categorical_col"
   ]
  },
  {
   "cell_type": "code",
   "execution_count": 67,
   "id": "57206f7e",
   "metadata": {},
   "outputs": [
    {
     "data": {
      "text/plain": [
       "['age',\n",
       " 'bp',\n",
       " 'sg',\n",
       " 'al',\n",
       " 'su',\n",
       " 'bgr',\n",
       " 'bu',\n",
       " 'sc',\n",
       " 'sod',\n",
       " 'pot',\n",
       " 'hemo',\n",
       " 'pcv',\n",
       " 'wc',\n",
       " 'rc']"
      ]
     },
     "execution_count": 67,
     "metadata": {},
     "output_type": "execute_result"
    }
   ],
   "source": [
    "numerical_col"
   ]
  },
  {
   "cell_type": "code",
   "execution_count": 68,
   "id": "1af6d122",
   "metadata": {},
   "outputs": [
    {
     "name": "stdout",
     "output_type": "stream",
     "text": [
      "rbc ***** [nan 'normal' 'abnormal']\n",
      "\n",
      "\n",
      "pc ***** ['normal' 'abnormal' nan]\n",
      "\n",
      "\n",
      "pcc ***** ['notpresent' 'present' nan]\n",
      "\n",
      "\n",
      "ba ***** ['notpresent' 'present' nan]\n",
      "\n",
      "\n",
      "htn ***** ['yes' 'no' nan]\n",
      "\n",
      "\n",
      "dm ***** ['yes' 'no' nan]\n",
      "\n",
      "\n",
      "cad ***** ['no' 'yes' nan]\n",
      "\n",
      "\n",
      "appet ***** ['good' 'poor' nan]\n",
      "\n",
      "\n",
      "pe ***** ['no' 'yes' nan]\n",
      "\n",
      "\n",
      "ane ***** ['no' 'yes' nan]\n",
      "\n",
      "\n",
      "classification ***** ['ckd' 'notckd']\n",
      "\n",
      "\n"
     ]
    }
   ],
   "source": [
    "for col in categorical_col:\n",
    "    print(col,\"*****\",df[col].unique())\n",
    "    print('\\n')"
   ]
  },
  {
   "cell_type": "code",
   "execution_count": null,
   "id": "d4b42500",
   "metadata": {},
   "outputs": [],
   "source": []
  },
  {
   "cell_type": "code",
   "execution_count": 33,
   "id": "e29ddcfe",
   "metadata": {},
   "outputs": [],
   "source": [
    "#Replace incorrect values\n",
    "\n",
    "df['dm'].replace(to_replace = {'\\tno':'no','\\tyes':'yes',' yes':'yes'},inplace=True)\n",
    "\n",
    "df['cad'] = df['cad'].replace(to_replace = '\\tno', value='no')\n",
    "\n",
    "df['classification'] = df['classification'].replace(to_replace = 'ckd\\t', value = 'ckd')"
   ]
  },
  {
   "cell_type": "code",
   "execution_count": 34,
   "id": "c7e93cee",
   "metadata": {},
   "outputs": [],
   "source": [
    "df['rc'].replace(to_replace = {'\\t?':'0'},inplace=True)"
   ]
  },
  {
   "cell_type": "markdown",
   "id": "0ce2d29f",
   "metadata": {},
   "source": [
    "## cleaning wc,pcv,rc"
   ]
  },
  {
   "cell_type": "code",
   "execution_count": 36,
   "id": "4c1a0347",
   "metadata": {},
   "outputs": [],
   "source": [
    "df['wc'].replace(to_replace = {'\\t?':'0','\\t6200':\"6200\",\"\\t8400\":\"8400\"},inplace=True)"
   ]
  },
  {
   "cell_type": "code",
   "execution_count": 38,
   "id": "470e9779",
   "metadata": {},
   "outputs": [],
   "source": [
    "df['pcv'].replace(to_replace = {'\\t?':'0','\\t43':\"43\"},inplace=True)"
   ]
  },
  {
   "cell_type": "code",
   "execution_count": 44,
   "id": "486eb153",
   "metadata": {},
   "outputs": [],
   "source": [
    "df1= (df['rc']).isnull().sum()"
   ]
  },
  {
   "cell_type": "code",
   "execution_count": 45,
   "id": "79ef32b9",
   "metadata": {},
   "outputs": [
    {
     "data": {
      "text/plain": [
       "130"
      ]
     },
     "execution_count": 45,
     "metadata": {},
     "output_type": "execute_result"
    }
   ],
   "source": [
    "df1"
   ]
  },
  {
   "cell_type": "code",
   "execution_count": 49,
   "id": "363db94d",
   "metadata": {},
   "outputs": [
    {
     "data": {
      "text/plain": [
       "130"
      ]
     },
     "execution_count": 49,
     "metadata": {},
     "output_type": "execute_result"
    }
   ],
   "source": [
    "df['rc'].fillna(np.nan, inplace = True)\n",
    "df['rc'].isnull().sum()"
   ]
  },
  {
   "cell_type": "code",
   "execution_count": 56,
   "id": "b928c7df",
   "metadata": {},
   "outputs": [],
   "source": [
    "df['rc'] = df['rc'].astype(float)"
   ]
  },
  {
   "cell_type": "code",
   "execution_count": 57,
   "id": "f6623d96",
   "metadata": {},
   "outputs": [
    {
     "data": {
      "text/plain": [
       "0"
      ]
     },
     "execution_count": 57,
     "metadata": {},
     "output_type": "execute_result"
    }
   ],
   "source": [
    "df['rc'].fillna(df['rc'].mean(), inplace = True)\n",
    "df['rc'].isnull().sum()"
   ]
  },
  {
   "cell_type": "code",
   "execution_count": 59,
   "id": "1783cb1c",
   "metadata": {},
   "outputs": [],
   "source": [
    "df['wc'] = df['wc'].astype(float)"
   ]
  },
  {
   "cell_type": "code",
   "execution_count": 60,
   "id": "3e48d3c7",
   "metadata": {},
   "outputs": [
    {
     "data": {
      "text/plain": [
       "0"
      ]
     },
     "execution_count": 60,
     "metadata": {},
     "output_type": "execute_result"
    }
   ],
   "source": [
    "df['wc'].fillna(df['wc'].mean(), inplace = True)\n",
    "df['wc'].isnull().sum()"
   ]
  },
  {
   "cell_type": "code",
   "execution_count": 61,
   "id": "56b8f407",
   "metadata": {},
   "outputs": [],
   "source": [
    "df['pcv'] = df['pcv'].astype(float)"
   ]
  },
  {
   "cell_type": "code",
   "execution_count": 62,
   "id": "355f03bb",
   "metadata": {},
   "outputs": [
    {
     "data": {
      "text/plain": [
       "0"
      ]
     },
     "execution_count": 62,
     "metadata": {},
     "output_type": "execute_result"
    }
   ],
   "source": [
    "df['pcv'].fillna(df['pcv'].mean(), inplace = True)\n",
    "df['pcv'].isnull().sum()"
   ]
  },
  {
   "cell_type": "markdown",
   "id": "c5ccc6cf",
   "metadata": {},
   "source": [
    "## Looking for numerical columns"
   ]
  },
  {
   "cell_type": "code",
   "execution_count": 69,
   "id": "80674fee",
   "metadata": {},
   "outputs": [
    {
     "name": "stdout",
     "output_type": "stream",
     "text": [
      "age ***** [48.  7. 62. 51. 60. 68. 24. 52. 53. 50. 63. 40. 47. 61. 21. 42. 75. 69.\n",
      " nan 73. 70. 65. 76. 72. 82. 46. 45. 35. 54. 11. 59. 67. 15. 55. 44. 26.\n",
      " 64. 56.  5. 74. 38. 58. 71. 34. 17. 12. 43. 41. 57.  8. 39. 66. 81. 14.\n",
      " 27. 83. 30.  4.  3.  6. 32. 80. 49. 90. 78. 19.  2. 33. 36. 37. 23. 25.\n",
      " 20. 29. 28. 22. 79.]\n",
      "\n",
      "\n",
      "bp ***** [ 80.  50.  70.  90.  nan 100.  60. 110. 140. 180. 120.]\n",
      "\n",
      "\n",
      "sg ***** [1.02  1.01  1.005 1.015   nan 1.025]\n",
      "\n",
      "\n",
      "al ***** [ 1.  4.  2.  3.  0. nan  5.]\n",
      "\n",
      "\n",
      "su ***** [ 0.  3.  4.  1. nan  2.  5.]\n",
      "\n",
      "\n",
      "bgr ***** [121.  nan 423. 117. 106.  74. 100. 410. 138.  70. 490. 380. 208.  98.\n",
      " 157.  76.  99. 114. 263. 173.  95. 108. 156. 264. 123.  93. 107. 159.\n",
      " 140. 171. 270.  92. 137. 204.  79. 207. 124. 144.  91. 162. 246. 253.\n",
      " 141. 182.  86. 150. 146. 425. 112. 250. 360. 163. 129. 133. 102. 158.\n",
      " 165. 132. 104. 127. 415. 169. 251. 109. 280. 210. 219. 295.  94. 172.\n",
      " 101. 298. 153.  88. 226. 143. 115.  89. 297. 233. 294. 323. 125.  90.\n",
      " 308. 118. 224. 128. 122. 214. 213. 268. 256.  84. 105. 288. 139.  78.\n",
      " 273. 242. 424. 303. 148. 160. 192. 307. 220. 447. 309.  22. 111. 261.\n",
      " 215. 234. 131. 352.  80. 239. 110. 130. 184. 252. 113. 230. 341. 255.\n",
      " 103. 238. 248. 120. 241. 269. 201. 203. 463. 176.  82. 119.  97.  96.\n",
      "  81. 116. 134.  85.  83.  87.  75.]\n",
      "\n",
      "\n",
      "bu ***** [ 36.   18.   53.   56.   26.   25.   54.   31.   60.  107.   55.   72.\n",
      "  86.   90.  162.   46.   87.   27.  148.  180.  163.    nan  50.   75.\n",
      "  45.   28.  155.   33.   39.  153.   29.   65.  103.   70.   80.   20.\n",
      " 202.   77.   89.   24.   17.   32.  114.   66.   38.  164.  142.   96.\n",
      " 391.   15.  111.   73.   19.   92.   35.   16.  139.   48.   85.   98.\n",
      " 186.   37.   47.   52.   82.   51.  106.   22.  217.   88.  118.   50.1\n",
      "  71.   34.   40.   21.  219.   30.  125.  166.   49.  208.  176.   68.\n",
      " 145.  165.  322.   23.  235.  132.   76.   42.   44.   41.  113.    1.5\n",
      " 146.   58.  133.  137.   67.  115.  223.   98.6 158.   94.   74.  150.\n",
      "  61.   57.   95.  191.   93.  241.   64.   79.  215.  309.   10. ]\n",
      "\n",
      "\n",
      "sc ***** [ 1.2   0.8   1.8   3.8   1.4   1.1  24.    1.9   7.2   4.    2.7   2.1\n",
      "  4.6   4.1   9.6   2.2   5.2   1.3   1.6   3.9  76.    7.7    nan  2.4\n",
      "  7.3   1.5   2.5   2.    3.4   0.7   1.   10.8   6.3   5.9   0.9   3.\n",
      "  3.25  9.7   6.4   3.2  32.    0.6   6.1   3.3   6.7   8.5   2.8  15.\n",
      "  2.9   1.7   3.6   5.6   6.5   4.4  10.2  11.5   0.5  12.2   5.3   9.2\n",
      " 13.8  16.9   6.    7.1  18.    2.3  13.   48.1  14.2  16.4   2.6   7.5\n",
      "  4.3  18.1  11.8   9.3   6.8  13.5  12.8  11.9  12.   13.4  15.2  13.3\n",
      "  0.4 ]\n",
      "\n",
      "\n",
      "sod ***** [  nan 111.  142.  104.  114.  131.  138.  135.  130.  141.  139.    4.5\n",
      " 136.  129.  140.  132.  133.  134.  125.  163.  137.  128.  143.  127.\n",
      " 146.  126.  122.  147.  124.  115.  145.  113.  120.  150.  144. ]\n",
      "\n",
      "\n",
      "pot ***** [ nan  2.5  3.2  4.   3.7  4.2  5.8  3.4  6.4  4.9  4.1  4.3  5.2  3.8\n",
      "  4.6  3.9  4.7  5.9  4.8  4.4  6.6 39.   5.5  5.   3.5  3.6  7.6  2.9\n",
      "  4.5  5.7  5.4  5.3 47.   6.3  5.1  5.6  3.   2.8  2.7  6.5  3.3]\n",
      "\n",
      "\n",
      "hemo ***** [15.4 11.3  9.6 11.2 11.6 12.2 12.4 10.8  9.5  9.4  9.7  9.8  5.6  7.6\n",
      " 12.6 12.1 12.7 10.3  7.7 10.9  nan 11.1  9.9 12.5 12.9 10.1 12.  13.\n",
      "  7.9  9.3 15.  10.   8.6 13.6 10.2 10.5  6.6 11.   7.5 15.6 15.2  4.8\n",
      "  9.1  8.1 11.9 13.5  8.3  7.1 16.1 10.4  9.2  6.2 13.9 14.1  6.  11.8\n",
      " 11.7 11.4 14.   8.2 13.2  6.1  8.  12.3  8.4 14.3  9.   8.7 10.6 13.1\n",
      " 10.7  5.5  5.8  6.8  8.8  8.5 13.8 11.5  7.3 13.7 12.8 13.4  6.3  3.1\n",
      " 17.  15.9 14.5 15.5 16.2 14.4 14.2 16.3 14.8 16.5 15.7 13.3 14.6 16.4\n",
      " 16.9 16.  14.7 16.6 14.9 16.7 16.8 15.8 15.1 17.1 17.2 15.3 17.3 17.4\n",
      " 17.7 17.8 17.5 17.6]\n",
      "\n",
      "\n",
      "pcv ***** [44.         38.         31.         32.         35.         39.\n",
      " 36.         33.         29.         28.         38.76666667 16.\n",
      " 24.         37.         30.         34.         40.         45.\n",
      " 27.         48.          0.         52.         14.         22.\n",
      " 18.         42.         17.         46.         23.         19.\n",
      " 25.         41.         26.         15.         21.         43.\n",
      " 20.         47.          9.         49.         50.         53.\n",
      " 51.         54.        ]\n",
      "\n",
      "\n",
      "wc ***** [ 7800.          6000.          7500.          6700.\n",
      "  7300.          8377.62711864  6900.          9600.\n",
      " 12100.          4500.         12200.         11000.\n",
      "  3800.         11400.          5300.          9200.\n",
      "  6200.          8300.          8400.         10300.\n",
      "  9800.          9100.          7900.          6400.\n",
      "  8600.         18900.         21600.          4300.\n",
      "  8500.         11300.          7200.          7700.\n",
      " 14600.          6300.          7100.         11800.\n",
      "  9400.          5500.          5800.         13200.\n",
      " 12500.          5600.          7000.         11900.\n",
      " 10400.         10700.         12700.          6800.\n",
      "  6500.         13600.         10200.          9000.\n",
      " 14900.          8200.         15200.          5000.\n",
      " 16300.         12400.         10500.          4200.\n",
      "  4700.         10900.          8100.          9500.\n",
      "  2200.         12800.         11200.         19100.\n",
      "     0.         12300.         16700.          2600.\n",
      " 26400.          8800.          7400.          4900.\n",
      "  8000.         12000.         15700.          4100.\n",
      "  5700.         11500.          5400.         10800.\n",
      "  9900.          5200.          5900.          9300.\n",
      "  9700.          5100.          6600.        ]\n",
      "\n",
      "\n",
      "rc ***** [5.2  4.69 3.9  4.6  4.4  5.   4.   3.7  3.8  3.4  2.6  2.8  4.3  3.2\n",
      " 3.6  4.1  4.9  2.5  4.2  4.5  3.1  4.7  3.5  6.   2.1  5.6  2.3  2.9\n",
      " 2.7  8.   3.3  3.   2.4  4.8  0.   5.4  6.1  6.2  6.3  5.1  5.8  5.5\n",
      " 5.3  6.4  5.7  5.9  6.5 ]\n",
      "\n",
      "\n"
     ]
    }
   ],
   "source": [
    "for col in numerical_col:\n",
    "    print(col,\"*****\",df[col].unique())\n",
    "    print('\\n')"
   ]
  },
  {
   "cell_type": "code",
   "execution_count": 70,
   "id": "ffc9f945",
   "metadata": {},
   "outputs": [
    {
     "data": {
      "text/plain": [
       "['age',\n",
       " 'bp',\n",
       " 'sg',\n",
       " 'al',\n",
       " 'su',\n",
       " 'bgr',\n",
       " 'bu',\n",
       " 'sc',\n",
       " 'sod',\n",
       " 'pot',\n",
       " 'hemo',\n",
       " 'pcv',\n",
       " 'wc',\n",
       " 'rc']"
      ]
     },
     "execution_count": 70,
     "metadata": {},
     "output_type": "execute_result"
    }
   ],
   "source": [
    "numerical_col"
   ]
  },
  {
   "cell_type": "code",
   "execution_count": 72,
   "id": "fff3e400",
   "metadata": {},
   "outputs": [],
   "source": [
    "for col in numerical_col:\n",
    "    #print('{} has {} categories'.format(col, data[col].nunique()))\n",
    "    df[col].fillna(df[col].mean(), inplace = True)\n",
    "    "
   ]
  },
  {
   "cell_type": "code",
   "execution_count": 73,
   "id": "b31bc507",
   "metadata": {},
   "outputs": [
    {
     "data": {
      "text/plain": [
       "0"
      ]
     },
     "execution_count": 73,
     "metadata": {},
     "output_type": "execute_result"
    }
   ],
   "source": [
    "df['age'].isnull().sum()"
   ]
  },
  {
   "cell_type": "code",
   "execution_count": 74,
   "id": "8fc79d1d",
   "metadata": {},
   "outputs": [
    {
     "data": {
      "text/plain": [
       "0"
      ]
     },
     "execution_count": 74,
     "metadata": {},
     "output_type": "execute_result"
    }
   ],
   "source": [
    "df['bp'].isnull().sum()"
   ]
  },
  {
   "cell_type": "code",
   "execution_count": 75,
   "id": "0bad86d1",
   "metadata": {},
   "outputs": [
    {
     "data": {
      "text/plain": [
       "0"
      ]
     },
     "execution_count": 75,
     "metadata": {},
     "output_type": "execute_result"
    }
   ],
   "source": [
    "df['sg'].isnull().sum()"
   ]
  },
  {
   "cell_type": "code",
   "execution_count": 77,
   "id": "e9c7fe2f",
   "metadata": {},
   "outputs": [
    {
     "data": {
      "text/plain": [
       "0"
      ]
     },
     "execution_count": 77,
     "metadata": {},
     "output_type": "execute_result"
    }
   ],
   "source": [
    "df[\"al\"].isnull().sum()"
   ]
  },
  {
   "cell_type": "code",
   "execution_count": 78,
   "id": "4f332189",
   "metadata": {},
   "outputs": [
    {
     "data": {
      "text/plain": [
       "rbc               152\n",
       "pc                 65\n",
       "pcc                 4\n",
       "ba                  4\n",
       "cad                 2\n",
       "dm                  2\n",
       "htn                 2\n",
       "ane                 1\n",
       "pe                  1\n",
       "appet               1\n",
       "age                 0\n",
       "pcv                 0\n",
       "rc                  0\n",
       "wc                  0\n",
       "sod                 0\n",
       "hemo                0\n",
       "pot                 0\n",
       "bp                  0\n",
       "sc                  0\n",
       "bu                  0\n",
       "bgr                 0\n",
       "su                  0\n",
       "al                  0\n",
       "sg                  0\n",
       "classification      0\n",
       "dtype: int64"
      ]
     },
     "execution_count": 78,
     "metadata": {},
     "output_type": "execute_result"
    }
   ],
   "source": [
    "df.isna().sum().sort_values(ascending=False)"
   ]
  },
  {
   "cell_type": "code",
   "execution_count": 79,
   "id": "d0e7d97d",
   "metadata": {},
   "outputs": [],
   "source": [
    "\n",
    "df['rbc'] = df['rbc'].fillna(df['rbc'].mode()[0])\n",
    "\n",
    "\n",
    " #df.isnull().sum()"
   ]
  },
  {
   "cell_type": "code",
   "execution_count": 80,
   "id": "9c285576",
   "metadata": {},
   "outputs": [],
   "source": [
    "df['pc'] = df['pc'].fillna(df['pc'].mode()[0])"
   ]
  },
  {
   "cell_type": "code",
   "execution_count": 81,
   "id": "52dc1ecb",
   "metadata": {},
   "outputs": [],
   "source": [
    "df['pcc'] = df['pcc'].fillna(df['pcc'].mode()[0])"
   ]
  },
  {
   "cell_type": "code",
   "execution_count": 82,
   "id": "f6217050",
   "metadata": {},
   "outputs": [],
   "source": [
    "df['ba'] = df['ba'].fillna(df['ba'].mode()[0])"
   ]
  },
  {
   "cell_type": "code",
   "execution_count": 83,
   "id": "a42b65f4",
   "metadata": {},
   "outputs": [],
   "source": [
    "df['cad'] = df['cad'].fillna(df['cad'].mode()[0])"
   ]
  },
  {
   "cell_type": "code",
   "execution_count": 84,
   "id": "ef978374",
   "metadata": {},
   "outputs": [],
   "source": [
    "df['dm'] = df['dm'].fillna(df['dm'].mode()[0])"
   ]
  },
  {
   "cell_type": "code",
   "execution_count": null,
   "id": "c196056a",
   "metadata": {},
   "outputs": [],
   "source": [
    "df['dm'] = df['dm'].fillna(df['dm'].mode()[0])"
   ]
  },
  {
   "cell_type": "code",
   "execution_count": 85,
   "id": "d90d33ec",
   "metadata": {},
   "outputs": [],
   "source": [
    "df['htn'] = df['htn'].fillna(df['htn'].mode()[0])"
   ]
  },
  {
   "cell_type": "code",
   "execution_count": 86,
   "id": "35006189",
   "metadata": {},
   "outputs": [],
   "source": [
    "df['ane'] = df['ane'].fillna(df['ane'].mode()[0])"
   ]
  },
  {
   "cell_type": "code",
   "execution_count": 87,
   "id": "575e3dd7",
   "metadata": {},
   "outputs": [],
   "source": [
    "df['pe'] = df['pe'].fillna(df['pe'].mode()[0])"
   ]
  },
  {
   "cell_type": "code",
   "execution_count": 88,
   "id": "ba273416",
   "metadata": {},
   "outputs": [],
   "source": [
    "df['appet'] = df['appet'].fillna(df['appet'].mode()[0])"
   ]
  },
  {
   "cell_type": "code",
   "execution_count": 89,
   "id": "6747b4cb",
   "metadata": {},
   "outputs": [
    {
     "data": {
      "text/plain": [
       "0"
      ]
     },
     "execution_count": 89,
     "metadata": {},
     "output_type": "execute_result"
    }
   ],
   "source": [
    "df.isnull().sum().sum()"
   ]
  },
  {
   "cell_type": "markdown",
   "id": "929c7243",
   "metadata": {},
   "source": [
    "## Feature encoding"
   ]
  },
  {
   "cell_type": "code",
   "execution_count": 93,
   "id": "e3576978",
   "metadata": {},
   "outputs": [
    {
     "name": "stdout",
     "output_type": "stream",
     "text": [
      "rbc ********** 2\n",
      "pc ********** 2\n",
      "pcc ********** 2\n",
      "ba ********** 2\n",
      "htn ********** 2\n",
      "dm ********** 2\n",
      "cad ********** 2\n",
      "appet ********** 2\n",
      "pe ********** 2\n",
      "ane ********** 2\n",
      "classification ********** 2\n"
     ]
    }
   ],
   "source": [
    "for col in categorical_col:\n",
    "    print(col,\"**********\", df[col].nunique())\n",
    "    "
   ]
  },
  {
   "cell_type": "code",
   "execution_count": 94,
   "id": "ee05cd4a",
   "metadata": {},
   "outputs": [],
   "source": [
    "from sklearn.preprocessing import LabelEncoder"
   ]
  },
  {
   "cell_type": "code",
   "execution_count": 95,
   "id": "fed07923",
   "metadata": {},
   "outputs": [],
   "source": [
    "le = LabelEncoder()"
   ]
  },
  {
   "cell_type": "code",
   "execution_count": 96,
   "id": "ebb50b32",
   "metadata": {},
   "outputs": [],
   "source": [
    "for col in categorical_col:\n",
    "    df[col]=le.fit_transform(df[col])"
   ]
  },
  {
   "cell_type": "markdown",
   "id": "0b96b806",
   "metadata": {},
   "source": [
    "## Model building"
   ]
  },
  {
   "cell_type": "code",
   "execution_count": 97,
   "id": "3de52a00",
   "metadata": {},
   "outputs": [
    {
     "name": "stdout",
     "output_type": "stream",
     "text": [
      "<class 'pandas.core.frame.DataFrame'>\n",
      "RangeIndex: 400 entries, 0 to 399\n",
      "Data columns (total 25 columns):\n",
      " #   Column          Non-Null Count  Dtype  \n",
      "---  ------          --------------  -----  \n",
      " 0   age             400 non-null    float64\n",
      " 1   bp              400 non-null    float64\n",
      " 2   sg              400 non-null    float64\n",
      " 3   al              400 non-null    float64\n",
      " 4   su              400 non-null    float64\n",
      " 5   rbc             400 non-null    int32  \n",
      " 6   pc              400 non-null    int32  \n",
      " 7   pcc             400 non-null    int32  \n",
      " 8   ba              400 non-null    int32  \n",
      " 9   bgr             400 non-null    float64\n",
      " 10  bu              400 non-null    float64\n",
      " 11  sc              400 non-null    float64\n",
      " 12  sod             400 non-null    float64\n",
      " 13  pot             400 non-null    float64\n",
      " 14  hemo            400 non-null    float64\n",
      " 15  pcv             400 non-null    float64\n",
      " 16  wc              400 non-null    float64\n",
      " 17  rc              400 non-null    float64\n",
      " 18  htn             400 non-null    int32  \n",
      " 19  dm              400 non-null    int32  \n",
      " 20  cad             400 non-null    int32  \n",
      " 21  appet           400 non-null    int32  \n",
      " 22  pe              400 non-null    int32  \n",
      " 23  ane             400 non-null    int32  \n",
      " 24  classification  400 non-null    int32  \n",
      "dtypes: float64(14), int32(11)\n",
      "memory usage: 61.1 KB\n"
     ]
    }
   ],
   "source": [
    "df.info()"
   ]
  },
  {
   "cell_type": "code",
   "execution_count": 99,
   "id": "71841b43",
   "metadata": {},
   "outputs": [
    {
     "data": {
      "text/plain": [
       "(400, 25)"
      ]
     },
     "execution_count": 99,
     "metadata": {},
     "output_type": "execute_result"
    }
   ],
   "source": [
    "df.shape"
   ]
  },
  {
   "cell_type": "code",
   "execution_count": 102,
   "id": "04bc1d0f",
   "metadata": {},
   "outputs": [],
   "source": [
    "x = df.iloc[:,0:25]\n",
    "y = df['classification']"
   ]
  },
  {
   "cell_type": "code",
   "execution_count": 103,
   "id": "c8f10230",
   "metadata": {},
   "outputs": [],
   "source": [
    "from sklearn.model_selection import train_test_split\n",
    "X_train, X_test, y_train, y_test = train_test_split(x,y,train_size=0.75)"
   ]
  },
  {
   "cell_type": "code",
   "execution_count": 106,
   "id": "0105a4ea",
   "metadata": {},
   "outputs": [],
   "source": [
    "from sklearn.preprocessing import StandardScaler\n",
    "sc = StandardScaler()\n",
    "X_test = sc.fit_transform(X_test)\n",
    "X_train = sc.fit_transform(X_train)"
   ]
  },
  {
   "cell_type": "code",
   "execution_count": 108,
   "id": "50686fbf",
   "metadata": {},
   "outputs": [
    {
     "data": {
      "text/plain": [
       "array([0, 0, 0, 0, 0, 0, 0, 0, 1, 0, 0, 1, 0, 1, 0, 1, 0, 1, 1, 1, 0, 1,\n",
       "       0, 0, 1, 0, 0, 0, 0, 0, 0, 0, 1, 0, 1, 0, 0, 0, 0, 0, 1, 0, 1, 0,\n",
       "       1, 1, 1, 0, 0, 0, 1, 0, 0, 0, 0, 0, 0, 0, 1, 0, 1, 1, 0, 0, 0, 0,\n",
       "       0, 1, 0, 1, 0, 1, 0, 0, 0, 1, 1, 0, 0, 0, 1, 0, 0, 1, 0, 1, 0, 0,\n",
       "       0, 0, 1, 1, 0, 0, 1, 0, 0, 0, 0, 0])"
      ]
     },
     "execution_count": 108,
     "metadata": {},
     "output_type": "execute_result"
    }
   ],
   "source": [
    "from sklearn import tree\n",
    "# from sklearn.tree import DecisionTreeClassifier\n",
    "dt = tree.DecisionTreeClassifier(max_depth = 4 , criterion = 'entropy')\n",
    "dt.fit(X_train,y_train)\n",
    "y_pred = dt.predict(X_test)\n",
    "y_pred"
   ]
  },
  {
   "cell_type": "code",
   "execution_count": 109,
   "id": "28b415e1",
   "metadata": {},
   "outputs": [
    {
     "data": {
      "text/plain": [
       "1.0"
      ]
     },
     "execution_count": 109,
     "metadata": {},
     "output_type": "execute_result"
    }
   ],
   "source": [
    "from sklearn.metrics import accuracy_score\n",
    "score = accuracy_score(y_test,y_pred)\n",
    "score"
   ]
  },
  {
   "cell_type": "code",
   "execution_count": null,
   "id": "c4b57efc",
   "metadata": {},
   "outputs": [],
   "source": []
  }
 ],
 "metadata": {
  "kernelspec": {
   "display_name": "Python 3",
   "language": "python",
   "name": "python3"
  },
  "language_info": {
   "codemirror_mode": {
    "name": "ipython",
    "version": 3
   },
   "file_extension": ".py",
   "mimetype": "text/x-python",
   "name": "python",
   "nbconvert_exporter": "python",
   "pygments_lexer": "ipython3",
   "version": "3.8.8"
  }
 },
 "nbformat": 4,
 "nbformat_minor": 5
}
