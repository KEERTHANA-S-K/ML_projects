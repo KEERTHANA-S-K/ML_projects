{
 "cells": [
  {
   "cell_type": "code",
   "execution_count": 1,
   "id": "3a081124",
   "metadata": {},
   "outputs": [],
   "source": [
    "import pandas as pd\n",
    "import numpy as np\n",
    "import matplotlib.pyplot as plt\n",
    "%matplotlib inline\n",
    "import seaborn as sns\n",
    "from IPython import get_ipython\n",
    "import warnings\n",
    "warnings.filterwarnings(\"ignore\")\n",
    "\n",
    "\n",
    "\n",
    "pd.set_option('max_columns', None)\n"
   ]
  },
  {
   "cell_type": "code",
   "execution_count": 2,
   "id": "143350c2",
   "metadata": {},
   "outputs": [],
   "source": [
    "data=pd.read_csv(\"Mental Health Data.csv\")"
   ]
  },
  {
   "cell_type": "code",
   "execution_count": 3,
   "id": "a2d74e18",
   "metadata": {},
   "outputs": [
    {
     "data": {
      "text/html": [
       "<div>\n",
       "<style scoped>\n",
       "    .dataframe tbody tr th:only-of-type {\n",
       "        vertical-align: middle;\n",
       "    }\n",
       "\n",
       "    .dataframe tbody tr th {\n",
       "        vertical-align: top;\n",
       "    }\n",
       "\n",
       "    .dataframe thead th {\n",
       "        text-align: right;\n",
       "    }\n",
       "</style>\n",
       "<table border=\"1\" class=\"dataframe\">\n",
       "  <thead>\n",
       "    <tr style=\"text-align: right;\">\n",
       "      <th></th>\n",
       "      <th>Are you self-employed?</th>\n",
       "      <th>How many employees does your company or organization have?</th>\n",
       "      <th>Is your employer primarily a tech company/organization?</th>\n",
       "      <th>Is your primary role within your company related to tech/IT?</th>\n",
       "      <th>Does your employer provide mental health benefits as part of healthcare coverage?</th>\n",
       "      <th>Do you know the options for mental health care available under your employer-provided coverage?</th>\n",
       "      <th>Has your employer ever formally discussed mental health (for example, as part of a wellness campaign or other official communication)?</th>\n",
       "      <th>Does your employer offer resources to learn more about mental health concerns and options for seeking help?</th>\n",
       "      <th>If a mental health issue prompted you to request a medical leave from work, asking for that leave would be:</th>\n",
       "      <th>Would you feel comfortable discussing a mental health disorder with your coworkers?</th>\n",
       "      <th>Do you feel that your employer takes mental health as seriously as physical health?</th>\n",
       "      <th>Do you know local or online resources to seek help for a mental health disorder?</th>\n",
       "      <th>Do you believe your productivity is ever affected by a mental health issue?</th>\n",
       "      <th>If yes, what percentage of your work time (time performing primary or secondary job functions) is affected by a mental health issue?</th>\n",
       "      <th>How willing would you be to share with friends and family that you have a mental illness?</th>\n",
       "      <th>Do you have a family history of mental illness?</th>\n",
       "      <th>Have you had a mental health disorder in the past?</th>\n",
       "      <th>Do you currently have a mental health disorder?</th>\n",
       "      <th>Have you been diagnosed with a mental health condition by a medical professional?</th>\n",
       "      <th>If so, what condition(s) were you diagnosed with?</th>\n",
       "      <th>Have you ever sought treatment for a mental health issue from a mental health professional?</th>\n",
       "      <th>If you have a mental health issue, do you feel that it interferes with your work when being treated effectively?</th>\n",
       "      <th>If you have a mental health issue, do you feel that it interferes with your work when NOT being treated effectively?</th>\n",
       "      <th>What is your age?</th>\n",
       "      <th>What is your gender?</th>\n",
       "      <th>What country do you live in?</th>\n",
       "      <th>What US state or territory do you live in?</th>\n",
       "      <th>What country do you work in?</th>\n",
       "      <th>What US state or territory do you work in?</th>\n",
       "      <th>Which of the following best describes your work position?</th>\n",
       "      <th>Do you work remotely?</th>\n",
       "    </tr>\n",
       "  </thead>\n",
       "  <tbody>\n",
       "    <tr>\n",
       "      <th>0</th>\n",
       "      <td>0</td>\n",
       "      <td>1 to 5</td>\n",
       "      <td>1.0</td>\n",
       "      <td>NaN</td>\n",
       "      <td>Yes</td>\n",
       "      <td>Yes</td>\n",
       "      <td>No</td>\n",
       "      <td>No</td>\n",
       "      <td>Somewhat difficult</td>\n",
       "      <td>Maybe</td>\n",
       "      <td>I don't know</td>\n",
       "      <td>NaN</td>\n",
       "      <td>NaN</td>\n",
       "      <td>NaN</td>\n",
       "      <td>Somewhat open</td>\n",
       "      <td>Yes</td>\n",
       "      <td>Yes</td>\n",
       "      <td>No</td>\n",
       "      <td>Yes</td>\n",
       "      <td>Mood Disorder (Depression, Bipolar Disorder, e...</td>\n",
       "      <td>1</td>\n",
       "      <td>Sometimes</td>\n",
       "      <td>Often</td>\n",
       "      <td>33</td>\n",
       "      <td>Male</td>\n",
       "      <td>Canada</td>\n",
       "      <td>NaN</td>\n",
       "      <td>Canada</td>\n",
       "      <td>NaN</td>\n",
       "      <td>Back-end Developer</td>\n",
       "      <td>Sometimes</td>\n",
       "    </tr>\n",
       "    <tr>\n",
       "      <th>1</th>\n",
       "      <td>0</td>\n",
       "      <td>1 to 5</td>\n",
       "      <td>1.0</td>\n",
       "      <td>NaN</td>\n",
       "      <td>No</td>\n",
       "      <td>No</td>\n",
       "      <td>No</td>\n",
       "      <td>I don't know</td>\n",
       "      <td>Very easy</td>\n",
       "      <td>Yes</td>\n",
       "      <td>I don't know</td>\n",
       "      <td>NaN</td>\n",
       "      <td>NaN</td>\n",
       "      <td>NaN</td>\n",
       "      <td>Very open</td>\n",
       "      <td>No</td>\n",
       "      <td>Yes</td>\n",
       "      <td>No</td>\n",
       "      <td>Yes</td>\n",
       "      <td>Mood Disorder (Depression, Bipolar Disorder, etc)</td>\n",
       "      <td>1</td>\n",
       "      <td>Not applicable to me</td>\n",
       "      <td>Not applicable to me</td>\n",
       "      <td>40</td>\n",
       "      <td>male</td>\n",
       "      <td>Netherlands</td>\n",
       "      <td>NaN</td>\n",
       "      <td>Netherlands</td>\n",
       "      <td>NaN</td>\n",
       "      <td>Front-end Developer|Back-end Developer</td>\n",
       "      <td>Sometimes</td>\n",
       "    </tr>\n",
       "    <tr>\n",
       "      <th>2</th>\n",
       "      <td>0</td>\n",
       "      <td>1 to 5</td>\n",
       "      <td>1.0</td>\n",
       "      <td>NaN</td>\n",
       "      <td>Yes</td>\n",
       "      <td>Yes</td>\n",
       "      <td>No</td>\n",
       "      <td>I don't know</td>\n",
       "      <td>I don't know</td>\n",
       "      <td>Maybe</td>\n",
       "      <td>I don't know</td>\n",
       "      <td>NaN</td>\n",
       "      <td>NaN</td>\n",
       "      <td>NaN</td>\n",
       "      <td>Somewhat open</td>\n",
       "      <td>No</td>\n",
       "      <td>No</td>\n",
       "      <td>No</td>\n",
       "      <td>No</td>\n",
       "      <td>NaN</td>\n",
       "      <td>0</td>\n",
       "      <td>Not applicable to me</td>\n",
       "      <td>Not applicable to me</td>\n",
       "      <td>21</td>\n",
       "      <td>male</td>\n",
       "      <td>United Kingdom</td>\n",
       "      <td>NaN</td>\n",
       "      <td>United Kingdom</td>\n",
       "      <td>NaN</td>\n",
       "      <td>Back-end Developer|DevOps/SysAdmin</td>\n",
       "      <td>Never</td>\n",
       "    </tr>\n",
       "    <tr>\n",
       "      <th>3</th>\n",
       "      <td>0</td>\n",
       "      <td>1 to 5</td>\n",
       "      <td>1.0</td>\n",
       "      <td>NaN</td>\n",
       "      <td>No</td>\n",
       "      <td>No</td>\n",
       "      <td>No</td>\n",
       "      <td>No</td>\n",
       "      <td>Very difficult</td>\n",
       "      <td>No</td>\n",
       "      <td>I don't know</td>\n",
       "      <td>NaN</td>\n",
       "      <td>NaN</td>\n",
       "      <td>NaN</td>\n",
       "      <td>Somewhat not open</td>\n",
       "      <td>Yes</td>\n",
       "      <td>Yes</td>\n",
       "      <td>Yes</td>\n",
       "      <td>No</td>\n",
       "      <td>NaN</td>\n",
       "      <td>0</td>\n",
       "      <td>Often</td>\n",
       "      <td>Often</td>\n",
       "      <td>36</td>\n",
       "      <td>Male</td>\n",
       "      <td>Brazil</td>\n",
       "      <td>NaN</td>\n",
       "      <td>Brazil</td>\n",
       "      <td>NaN</td>\n",
       "      <td>Back-end Developer</td>\n",
       "      <td>Never</td>\n",
       "    </tr>\n",
       "    <tr>\n",
       "      <th>4</th>\n",
       "      <td>0</td>\n",
       "      <td>1 to 5</td>\n",
       "      <td>0.0</td>\n",
       "      <td>1.0</td>\n",
       "      <td>I don't know</td>\n",
       "      <td>No</td>\n",
       "      <td>Yes</td>\n",
       "      <td>No</td>\n",
       "      <td>Very difficult</td>\n",
       "      <td>Yes</td>\n",
       "      <td>I don't know</td>\n",
       "      <td>NaN</td>\n",
       "      <td>NaN</td>\n",
       "      <td>NaN</td>\n",
       "      <td>Somewhat open</td>\n",
       "      <td>I don't know</td>\n",
       "      <td>Maybe</td>\n",
       "      <td>Maybe</td>\n",
       "      <td>No</td>\n",
       "      <td>NaN</td>\n",
       "      <td>1</td>\n",
       "      <td>Not applicable to me</td>\n",
       "      <td>Often</td>\n",
       "      <td>36</td>\n",
       "      <td>F</td>\n",
       "      <td>United States of America</td>\n",
       "      <td>Indiana</td>\n",
       "      <td>United States of America</td>\n",
       "      <td>Indiana</td>\n",
       "      <td>Other</td>\n",
       "      <td>Sometimes</td>\n",
       "    </tr>\n",
       "  </tbody>\n",
       "</table>\n",
       "</div>"
      ],
      "text/plain": [
       "   Are you self-employed?  \\\n",
       "0                       0   \n",
       "1                       0   \n",
       "2                       0   \n",
       "3                       0   \n",
       "4                       0   \n",
       "\n",
       "  How many employees does your company or organization have?  \\\n",
       "0                                             1 to 5           \n",
       "1                                             1 to 5           \n",
       "2                                             1 to 5           \n",
       "3                                             1 to 5           \n",
       "4                                             1 to 5           \n",
       "\n",
       "   Is your employer primarily a tech company/organization?  \\\n",
       "0                                                1.0         \n",
       "1                                                1.0         \n",
       "2                                                1.0         \n",
       "3                                                1.0         \n",
       "4                                                0.0         \n",
       "\n",
       "   Is your primary role within your company related to tech/IT?  \\\n",
       "0                                                NaN              \n",
       "1                                                NaN              \n",
       "2                                                NaN              \n",
       "3                                                NaN              \n",
       "4                                                1.0              \n",
       "\n",
       "  Does your employer provide mental health benefits as part of healthcare coverage?  \\\n",
       "0                                                Yes                                  \n",
       "1                                                 No                                  \n",
       "2                                                Yes                                  \n",
       "3                                                 No                                  \n",
       "4                                       I don't know                                  \n",
       "\n",
       "  Do you know the options for mental health care available under your employer-provided coverage?  \\\n",
       "0                                                Yes                                                \n",
       "1                                                 No                                                \n",
       "2                                                Yes                                                \n",
       "3                                                 No                                                \n",
       "4                                                 No                                                \n",
       "\n",
       "  Has your employer ever formally discussed mental health (for example, as part of a wellness campaign or other official communication)?  \\\n",
       "0                                                 No                                                                                       \n",
       "1                                                 No                                                                                       \n",
       "2                                                 No                                                                                       \n",
       "3                                                 No                                                                                       \n",
       "4                                                Yes                                                                                       \n",
       "\n",
       "  Does your employer offer resources to learn more about mental health concerns and options for seeking help?  \\\n",
       "0                                                 No                                                            \n",
       "1                                       I don't know                                                            \n",
       "2                                       I don't know                                                            \n",
       "3                                                 No                                                            \n",
       "4                                                 No                                                            \n",
       "\n",
       "  If a mental health issue prompted you to request a medical leave from work, asking for that leave would be:  \\\n",
       "0                                 Somewhat difficult                                                            \n",
       "1                                          Very easy                                                            \n",
       "2                                       I don't know                                                            \n",
       "3                                     Very difficult                                                            \n",
       "4                                     Very difficult                                                            \n",
       "\n",
       "  Would you feel comfortable discussing a mental health disorder with your coworkers?  \\\n",
       "0                                              Maybe                                    \n",
       "1                                                Yes                                    \n",
       "2                                              Maybe                                    \n",
       "3                                                 No                                    \n",
       "4                                                Yes                                    \n",
       "\n",
       "  Do you feel that your employer takes mental health as seriously as physical health?  \\\n",
       "0                                       I don't know                                    \n",
       "1                                       I don't know                                    \n",
       "2                                       I don't know                                    \n",
       "3                                       I don't know                                    \n",
       "4                                       I don't know                                    \n",
       "\n",
       "  Do you know local or online resources to seek help for a mental health disorder?  \\\n",
       "0                                                NaN                                 \n",
       "1                                                NaN                                 \n",
       "2                                                NaN                                 \n",
       "3                                                NaN                                 \n",
       "4                                                NaN                                 \n",
       "\n",
       "  Do you believe your productivity is ever affected by a mental health issue?  \\\n",
       "0                                                NaN                            \n",
       "1                                                NaN                            \n",
       "2                                                NaN                            \n",
       "3                                                NaN                            \n",
       "4                                                NaN                            \n",
       "\n",
       "  If yes, what percentage of your work time (time performing primary or secondary job functions) is affected by a mental health issue?  \\\n",
       "0                                                NaN                                                                                     \n",
       "1                                                NaN                                                                                     \n",
       "2                                                NaN                                                                                     \n",
       "3                                                NaN                                                                                     \n",
       "4                                                NaN                                                                                     \n",
       "\n",
       "  How willing would you be to share with friends and family that you have a mental illness?  \\\n",
       "0                                      Somewhat open                                          \n",
       "1                                          Very open                                          \n",
       "2                                      Somewhat open                                          \n",
       "3                                  Somewhat not open                                          \n",
       "4                                      Somewhat open                                          \n",
       "\n",
       "  Do you have a family history of mental illness?  \\\n",
       "0                                             Yes   \n",
       "1                                              No   \n",
       "2                                              No   \n",
       "3                                             Yes   \n",
       "4                                    I don't know   \n",
       "\n",
       "  Have you had a mental health disorder in the past?  \\\n",
       "0                                                Yes   \n",
       "1                                                Yes   \n",
       "2                                                 No   \n",
       "3                                                Yes   \n",
       "4                                              Maybe   \n",
       "\n",
       "  Do you currently have a mental health disorder?  \\\n",
       "0                                              No   \n",
       "1                                              No   \n",
       "2                                              No   \n",
       "3                                             Yes   \n",
       "4                                           Maybe   \n",
       "\n",
       "  Have you been diagnosed with a mental health condition by a medical professional?  \\\n",
       "0                                                Yes                                  \n",
       "1                                                Yes                                  \n",
       "2                                                 No                                  \n",
       "3                                                 No                                  \n",
       "4                                                 No                                  \n",
       "\n",
       "   If so, what condition(s) were you diagnosed with?  \\\n",
       "0  Mood Disorder (Depression, Bipolar Disorder, e...   \n",
       "1  Mood Disorder (Depression, Bipolar Disorder, etc)   \n",
       "2                                                NaN   \n",
       "3                                                NaN   \n",
       "4                                                NaN   \n",
       "\n",
       "   Have you ever sought treatment for a mental health issue from a mental health professional?  \\\n",
       "0                                                  1                                             \n",
       "1                                                  1                                             \n",
       "2                                                  0                                             \n",
       "3                                                  0                                             \n",
       "4                                                  1                                             \n",
       "\n",
       "  If you have a mental health issue, do you feel that it interferes with your work when being treated effectively?  \\\n",
       "0                                          Sometimes                                                                 \n",
       "1                               Not applicable to me                                                                 \n",
       "2                               Not applicable to me                                                                 \n",
       "3                                              Often                                                                 \n",
       "4                               Not applicable to me                                                                 \n",
       "\n",
       "  If you have a mental health issue, do you feel that it interferes with your work when NOT being treated effectively?  \\\n",
       "0                                              Often                                                                     \n",
       "1                               Not applicable to me                                                                     \n",
       "2                               Not applicable to me                                                                     \n",
       "3                                              Often                                                                     \n",
       "4                                              Often                                                                     \n",
       "\n",
       "   What is your age? What is your gender? What country do you live in?  \\\n",
       "0                 33                 Male                       Canada   \n",
       "1                 40                 male                  Netherlands   \n",
       "2                 21                 male               United Kingdom   \n",
       "3                 36                 Male                       Brazil   \n",
       "4                 36                    F     United States of America   \n",
       "\n",
       "  What US state or territory do you live in? What country do you work in?  \\\n",
       "0                                        NaN                       Canada   \n",
       "1                                        NaN                  Netherlands   \n",
       "2                                        NaN               United Kingdom   \n",
       "3                                        NaN                       Brazil   \n",
       "4                                    Indiana     United States of America   \n",
       "\n",
       "  What US state or territory do you work in?  \\\n",
       "0                                        NaN   \n",
       "1                                        NaN   \n",
       "2                                        NaN   \n",
       "3                                        NaN   \n",
       "4                                    Indiana   \n",
       "\n",
       "  Which of the following best describes your work position?  \\\n",
       "0                                 Back-end Developer          \n",
       "1             Front-end Developer|Back-end Developer          \n",
       "2                 Back-end Developer|DevOps/SysAdmin          \n",
       "3                                 Back-end Developer          \n",
       "4                                              Other          \n",
       "\n",
       "  Do you work remotely?  \n",
       "0             Sometimes  \n",
       "1             Sometimes  \n",
       "2                 Never  \n",
       "3                 Never  \n",
       "4             Sometimes  "
      ]
     },
     "execution_count": 3,
     "metadata": {},
     "output_type": "execute_result"
    }
   ],
   "source": [
    "data.head()"
   ]
  },
  {
   "cell_type": "code",
   "execution_count": 4,
   "id": "0eb6aab9",
   "metadata": {},
   "outputs": [
    {
     "data": {
      "text/plain": [
       "(1433, 31)"
      ]
     },
     "execution_count": 4,
     "metadata": {},
     "output_type": "execute_result"
    }
   ],
   "source": [
    "data.shape"
   ]
  },
  {
   "cell_type": "code",
   "execution_count": 5,
   "id": "5ebd8b8f",
   "metadata": {},
   "outputs": [
    {
     "data": {
      "text/plain": [
       "Index(['Are you self-employed?',\n",
       "       'How many employees does your company or organization have?',\n",
       "       'Is your employer primarily a tech company/organization?',\n",
       "       'Is your primary role within your company related to tech/IT?',\n",
       "       'Does your employer provide mental health benefits as part of healthcare coverage?',\n",
       "       'Do you know the options for mental health care available under your employer-provided coverage?',\n",
       "       'Has your employer ever formally discussed mental health (for example, as part of a wellness campaign or other official communication)?',\n",
       "       'Does your employer offer resources to learn more about mental health concerns and options for seeking help?',\n",
       "       'If a mental health issue prompted you to request a medical leave from work, asking for that leave would be:',\n",
       "       'Would you feel comfortable discussing a mental health disorder with your coworkers?',\n",
       "       'Do you feel that your employer takes mental health as seriously as physical health?',\n",
       "       'Do you know local or online resources to seek help for a mental health disorder?',\n",
       "       'Do you believe your productivity is ever affected by a mental health issue?',\n",
       "       'If yes, what percentage of your work time (time performing primary or secondary job functions) is affected by a mental health issue?',\n",
       "       'How willing would you be to share with friends and family that you have a mental illness?',\n",
       "       'Do you have a family history of mental illness?',\n",
       "       'Have you had a mental health disorder in the past?',\n",
       "       'Do you currently have a mental health disorder?',\n",
       "       'Have you been diagnosed with a mental health condition by a medical professional?',\n",
       "       'If so, what condition(s) were you diagnosed with?',\n",
       "       'Have you ever sought treatment for a mental health issue from a mental health professional?',\n",
       "       'If you have a mental health issue, do you feel that it interferes with your work when being treated effectively?',\n",
       "       'If you have a mental health issue, do you feel that it interferes with your work when NOT being treated effectively?',\n",
       "       'What is your age?', 'What is your gender?',\n",
       "       'What country do you live in?',\n",
       "       'What US state or territory do you live in?',\n",
       "       'What country do you work in?',\n",
       "       'What US state or territory do you work in?',\n",
       "       'Which of the following best describes your work position?',\n",
       "       'Do you work remotely?'],\n",
       "      dtype='object')"
      ]
     },
     "execution_count": 5,
     "metadata": {},
     "output_type": "execute_result"
    }
   ],
   "source": [
    "data.columns"
   ]
  },
  {
   "cell_type": "code",
   "execution_count": 6,
   "id": "b451dedc",
   "metadata": {},
   "outputs": [
    {
     "name": "stdout",
     "output_type": "stream",
     "text": [
      "['Are you self-employed?', 'How many employees does your company or organization have?', 'Is your employer primarily a tech company/organization?', 'Is your primary role within your company related to tech/IT?', 'Does your employer provide mental health benefits as part of healthcare coverage?', 'Do you know the options for mental health care available under your employer-provided coverage?', 'Has your employer ever formally discussed mental health (for example, as part of a wellness campaign or other official communication)?', 'Does your employer offer resources to learn more about mental health concerns and options for seeking help?', 'If a mental health issue prompted you to request a medical leave from work, asking for that leave would be:', 'Would you feel comfortable discussing a mental health disorder with your coworkers?', 'Do you feel that your employer takes mental health as seriously as physical health?', 'Do you know local or online resources to seek help for a mental health disorder?', 'Do you believe your productivity is ever affected by a mental health issue?', 'If yes, what percentage of your work time (time performing primary or secondary job functions) is affected by a mental health issue?', 'How willing would you be to share with friends and family that you have a mental illness?', 'Do you have a family history of mental illness?', 'Have you had a mental health disorder in the past?', 'Do you currently have a mental health disorder?', 'Have you been diagnosed with a mental health condition by a medical professional?', 'If so, what condition(s) were you diagnosed with?', 'Have you ever sought treatment for a mental health issue from a mental health professional?', 'If you have a mental health issue, do you feel that it interferes with your work when being treated effectively?', 'If you have a mental health issue, do you feel that it interferes with your work when NOT being treated effectively?', 'What is your age?', 'What is your gender?', 'What country do you live in?', 'What US state or territory do you live in?', 'What country do you work in?', 'What US state or territory do you work in?', 'Which of the following best describes your work position?', 'Do you work remotely?']\n"
     ]
    }
   ],
   "source": [
    "print(data.columns.tolist())"
   ]
  },
  {
   "cell_type": "code",
   "execution_count": 7,
   "id": "4d749214",
   "metadata": {},
   "outputs": [],
   "source": [
    "data.drop([\"What US state or territory do you work in?\"], axis=1,inplace=True)"
   ]
  },
  {
   "cell_type": "code",
   "execution_count": 8,
   "id": "38205868",
   "metadata": {},
   "outputs": [],
   "source": [
    "data.drop([\"What US state or territory do you live in?\"], axis=1,inplace=True)"
   ]
  },
  {
   "cell_type": "code",
   "execution_count": 9,
   "id": "5d3af74a",
   "metadata": {},
   "outputs": [],
   "source": [
    "data.drop([\"Is your employer primarily a tech company/organization?\"], axis=1,inplace=True)"
   ]
  },
  {
   "cell_type": "code",
   "execution_count": 10,
   "id": "0e8f92c7",
   "metadata": {},
   "outputs": [],
   "source": [
    "data.drop([\"Is your primary role within your company related to tech/IT?\"],axis=1,inplace=True)"
   ]
  },
  {
   "cell_type": "code",
   "execution_count": 11,
   "id": "b9f6e958",
   "metadata": {},
   "outputs": [
    {
     "name": "stdout",
     "output_type": "stream",
     "text": [
      "['Are you self-employed?', 'How many employees does your company or organization have?', 'Does your employer provide mental health benefits as part of healthcare coverage?', 'Do you know the options for mental health care available under your employer-provided coverage?', 'Has your employer ever formally discussed mental health (for example, as part of a wellness campaign or other official communication)?', 'Does your employer offer resources to learn more about mental health concerns and options for seeking help?', 'If a mental health issue prompted you to request a medical leave from work, asking for that leave would be:', 'Would you feel comfortable discussing a mental health disorder with your coworkers?', 'Do you feel that your employer takes mental health as seriously as physical health?', 'Do you know local or online resources to seek help for a mental health disorder?', 'Do you believe your productivity is ever affected by a mental health issue?', 'If yes, what percentage of your work time (time performing primary or secondary job functions) is affected by a mental health issue?', 'How willing would you be to share with friends and family that you have a mental illness?', 'Do you have a family history of mental illness?', 'Have you had a mental health disorder in the past?', 'Do you currently have a mental health disorder?', 'Have you been diagnosed with a mental health condition by a medical professional?', 'If so, what condition(s) were you diagnosed with?', 'Have you ever sought treatment for a mental health issue from a mental health professional?', 'If you have a mental health issue, do you feel that it interferes with your work when being treated effectively?', 'If you have a mental health issue, do you feel that it interferes with your work when NOT being treated effectively?', 'What is your age?', 'What is your gender?', 'What country do you live in?', 'What country do you work in?', 'Which of the following best describes your work position?', 'Do you work remotely?']\n"
     ]
    }
   ],
   "source": [
    "print(data.columns.tolist())"
   ]
  },
  {
   "cell_type": "code",
   "execution_count": null,
   "id": "2f7363d4",
   "metadata": {},
   "outputs": [],
   "source": [
    "#data.drop([\"Are you self-employed?\"],axis=1,inplace=True)"
   ]
  },
  {
   "cell_type": "code",
   "execution_count": null,
   "id": "5470ae53",
   "metadata": {},
   "outputs": [],
   "source": []
  },
  {
   "cell_type": "code",
   "execution_count": 12,
   "id": "b66edc9a",
   "metadata": {},
   "outputs": [],
   "source": [
    "data.rename(columns = {'How many employees does your company or organization have?':'No_of_employees','Does your employer provide mental health benefits as part of healthcare coverage?':'healthcare_coverage','Do you know the options for mental health care available under your employer-provided coverage?':'knowing_mental_health_care','Has your employer ever formally discussed mental health (for example, as part of a wellness campaign or other official communication)?':'informed_campaign','Does your employer offer resources to learn more about mental health concerns and options for seeking help?':'offer_options'}, inplace = True)\n",
    "                              "
   ]
  },
  {
   "cell_type": "code",
   "execution_count": null,
   "id": "59c6d51d",
   "metadata": {},
   "outputs": [],
   "source": [
    "data.head()"
   ]
  },
  {
   "cell_type": "code",
   "execution_count": 13,
   "id": "4e84e689",
   "metadata": {},
   "outputs": [],
   "source": [
    "data.rename(columns={'If a mental health issue prompted you to request a medical leave from work, asking for that leave would be:':'asking_leave','Would you feel comfortable discussing a mental health disorder with your coworkers?':'discuss_with_coworkers','Do you feel that your employer takes mental health as seriously as physical health?':'seriousness _mental_health','Do you know local or online resources to seek help for a mental health disorder':'aware_localonline'},inplace=True)"
   ]
  },
  {
   "cell_type": "code",
   "execution_count": null,
   "id": "fdc5016a",
   "metadata": {},
   "outputs": [],
   "source": [
    "data.head()"
   ]
  },
  {
   "cell_type": "code",
   "execution_count": 14,
   "id": "b8e67add",
   "metadata": {},
   "outputs": [],
   "source": [
    "data.rename(columns={'Do you believe your productivity is ever affected by a mental health issue?':'productivity_affected','If yes, what percentage of your work time (time performing primary or secondary job functions) is affected by a mental health issue?':'% of time affected job','Do you have a family history of mental illness?':'family_history','Have you had a mental health disorder in the past?':'past_disorder','Do you currently have a mental health disorder?':'currently_disorder'},inplace=True)"
   ]
  },
  {
   "cell_type": "code",
   "execution_count": null,
   "id": "8ed9fa8b",
   "metadata": {},
   "outputs": [],
   "source": [
    "data.head()"
   ]
  },
  {
   "cell_type": "code",
   "execution_count": 15,
   "id": "159abdc2",
   "metadata": {},
   "outputs": [],
   "source": [
    "data.rename(columns={'Have you been diagnosed with a mental health condition by a medical professional?':'diagonised','If so, what condition(s) were you diagnosed with?':'conditions','Have you ever sought treatment for a mental health issue from a mental health professional?':'seek treatment','If you have a mental health issue, do you feel that it interferes with your work when being treated effectively?':'interfere the work(treatment)','If you have a mental health issue, do you feel that it interferes with your work when NOT being treated effectively?':'interfere the work(no treatment)'},inplace=True)"
   ]
  },
  {
   "cell_type": "code",
   "execution_count": null,
   "id": "3bcc8646",
   "metadata": {},
   "outputs": [],
   "source": [
    "data.head()"
   ]
  },
  {
   "cell_type": "code",
   "execution_count": 16,
   "id": "bf67891e",
   "metadata": {},
   "outputs": [],
   "source": [
    "data.rename(columns={'What is your age?':'age','What is your gender?':'gender','What country do you live in?':'country(living)','What country do you work in?':'working_country','Which of the following best describes your work position?':'position','Do you work remotely?':'remote work'},inplace=True)"
   ]
  },
  {
   "cell_type": "code",
   "execution_count": null,
   "id": "a1c9ca96",
   "metadata": {},
   "outputs": [],
   "source": [
    "data.head()"
   ]
  },
  {
   "cell_type": "code",
   "execution_count": 17,
   "id": "8bc17339",
   "metadata": {},
   "outputs": [],
   "source": [
    "data.drop([\"Do you know local or online resources to seek help for a mental health disorder?\"],axis=1,inplace=True)"
   ]
  },
  {
   "cell_type": "code",
   "execution_count": 18,
   "id": "da344fb2",
   "metadata": {},
   "outputs": [],
   "source": [
    "data.drop([\"How willing would you be to share with friends and family that you have a mental illness?\"],axis=1,inplace=True)"
   ]
  },
  {
   "cell_type": "code",
   "execution_count": null,
   "id": "b216c7bd",
   "metadata": {},
   "outputs": [],
   "source": [
    "data.head()"
   ]
  },
  {
   "cell_type": "code",
   "execution_count": 19,
   "id": "f650244b",
   "metadata": {},
   "outputs": [],
   "source": [
    "data.rename(columns={\"Are you self-employed?\":\"self_employed\"},inplace=True)"
   ]
  },
  {
   "cell_type": "code",
   "execution_count": null,
   "id": "ae60eb2b",
   "metadata": {},
   "outputs": [],
   "source": [
    "#first_column = data.pop('age')"
   ]
  },
  {
   "cell_type": "code",
   "execution_count": null,
   "id": "d820d28b",
   "metadata": {},
   "outputs": [],
   "source": [
    "#data.insert(0, 'age', first_column)"
   ]
  },
  {
   "cell_type": "code",
   "execution_count": null,
   "id": "43a8e20d",
   "metadata": {},
   "outputs": [],
   "source": [
    "#data.head()"
   ]
  },
  {
   "cell_type": "code",
   "execution_count": 20,
   "id": "7d4297a4",
   "metadata": {},
   "outputs": [],
   "source": []
  },
  {
   "cell_type": "code",
   "execution_count": 21,
   "id": "ade6f98c",
   "metadata": {},
   "outputs": [
    {
     "data": {
      "text/plain": [
       "['self_employed',\n",
       " 'No_of_employees',\n",
       " 'healthcare_coverage',\n",
       " 'knowing_mental_health_care',\n",
       " 'informed_campaign',\n",
       " 'offer_options',\n",
       " 'asking_leave',\n",
       " 'discuss_with_coworkers',\n",
       " 'seriousness _mental_health',\n",
       " 'productivity_affected',\n",
       " '% of time affected job',\n",
       " 'family_history',\n",
       " 'past_disorder',\n",
       " 'currently_disorder',\n",
       " 'diagonised',\n",
       " 'conditions',\n",
       " 'seek treatment',\n",
       " 'interfere the work(treatment)',\n",
       " 'interfere the work(no treatment)',\n",
       " 'age',\n",
       " 'gender',\n",
       " 'country(living)',\n",
       " 'working_country',\n",
       " 'position',\n",
       " 'remote work']"
      ]
     },
     "execution_count": 21,
     "metadata": {},
     "output_type": "execute_result"
    }
   ],
   "source": [
    "cols"
   ]
  },
  {
   "cell_type": "code",
   "execution_count": 22,
   "id": "c80c87df",
   "metadata": {},
   "outputs": [
    {
     "data": {
      "text/plain": [
       "(1433, 25)"
      ]
     },
     "execution_count": 22,
     "metadata": {},
     "output_type": "execute_result"
    }
   ],
   "source": [
    "data.shape"
   ]
  },
  {
   "cell_type": "code",
   "execution_count": 23,
   "id": "a83978cd",
   "metadata": {},
   "outputs": [],
   "source": [
    "data= data[['age','gender','country(living)','working_country','position','remote work','self_employed','No_of_employees','healthcare_coverage','knowing_mental_health_care','informed_campaign','offer_options','asking_leave','discuss_with_coworkers','seriousness _mental_health','productivity_affected','% of time affected job','family_history','past_disorder','currently_disorder','diagonised','conditions','interfere the work(treatment)','interfere the work(no treatment)','seek treatment']]"
   ]
  },
  {
   "cell_type": "code",
   "execution_count": 24,
   "id": "e2785fb7",
   "metadata": {},
   "outputs": [
    {
     "data": {
      "text/html": [
       "<div>\n",
       "<style scoped>\n",
       "    .dataframe tbody tr th:only-of-type {\n",
       "        vertical-align: middle;\n",
       "    }\n",
       "\n",
       "    .dataframe tbody tr th {\n",
       "        vertical-align: top;\n",
       "    }\n",
       "\n",
       "    .dataframe thead th {\n",
       "        text-align: right;\n",
       "    }\n",
       "</style>\n",
       "<table border=\"1\" class=\"dataframe\">\n",
       "  <thead>\n",
       "    <tr style=\"text-align: right;\">\n",
       "      <th></th>\n",
       "      <th>age</th>\n",
       "      <th>gender</th>\n",
       "      <th>country(living)</th>\n",
       "      <th>working_country</th>\n",
       "      <th>position</th>\n",
       "      <th>remote work</th>\n",
       "      <th>self_employed</th>\n",
       "      <th>No_of_employees</th>\n",
       "      <th>healthcare_coverage</th>\n",
       "      <th>knowing_mental_health_care</th>\n",
       "      <th>informed_campaign</th>\n",
       "      <th>offer_options</th>\n",
       "      <th>asking_leave</th>\n",
       "      <th>discuss_with_coworkers</th>\n",
       "      <th>seriousness _mental_health</th>\n",
       "      <th>productivity_affected</th>\n",
       "      <th>% of time affected job</th>\n",
       "      <th>family_history</th>\n",
       "      <th>past_disorder</th>\n",
       "      <th>currently_disorder</th>\n",
       "      <th>diagonised</th>\n",
       "      <th>conditions</th>\n",
       "      <th>interfere the work(treatment)</th>\n",
       "      <th>interfere the work(no treatment)</th>\n",
       "      <th>seek treatment</th>\n",
       "    </tr>\n",
       "  </thead>\n",
       "  <tbody>\n",
       "    <tr>\n",
       "      <th>0</th>\n",
       "      <td>33</td>\n",
       "      <td>Male</td>\n",
       "      <td>Canada</td>\n",
       "      <td>Canada</td>\n",
       "      <td>Back-end Developer</td>\n",
       "      <td>Sometimes</td>\n",
       "      <td>0</td>\n",
       "      <td>1 to 5</td>\n",
       "      <td>Yes</td>\n",
       "      <td>Yes</td>\n",
       "      <td>No</td>\n",
       "      <td>No</td>\n",
       "      <td>Somewhat difficult</td>\n",
       "      <td>Maybe</td>\n",
       "      <td>I don't know</td>\n",
       "      <td>NaN</td>\n",
       "      <td>NaN</td>\n",
       "      <td>Yes</td>\n",
       "      <td>Yes</td>\n",
       "      <td>No</td>\n",
       "      <td>Yes</td>\n",
       "      <td>Mood Disorder (Depression, Bipolar Disorder, e...</td>\n",
       "      <td>Sometimes</td>\n",
       "      <td>Often</td>\n",
       "      <td>1</td>\n",
       "    </tr>\n",
       "    <tr>\n",
       "      <th>1</th>\n",
       "      <td>40</td>\n",
       "      <td>male</td>\n",
       "      <td>Netherlands</td>\n",
       "      <td>Netherlands</td>\n",
       "      <td>Front-end Developer|Back-end Developer</td>\n",
       "      <td>Sometimes</td>\n",
       "      <td>0</td>\n",
       "      <td>1 to 5</td>\n",
       "      <td>No</td>\n",
       "      <td>No</td>\n",
       "      <td>No</td>\n",
       "      <td>I don't know</td>\n",
       "      <td>Very easy</td>\n",
       "      <td>Yes</td>\n",
       "      <td>I don't know</td>\n",
       "      <td>NaN</td>\n",
       "      <td>NaN</td>\n",
       "      <td>No</td>\n",
       "      <td>Yes</td>\n",
       "      <td>No</td>\n",
       "      <td>Yes</td>\n",
       "      <td>Mood Disorder (Depression, Bipolar Disorder, etc)</td>\n",
       "      <td>Not applicable to me</td>\n",
       "      <td>Not applicable to me</td>\n",
       "      <td>1</td>\n",
       "    </tr>\n",
       "    <tr>\n",
       "      <th>2</th>\n",
       "      <td>21</td>\n",
       "      <td>male</td>\n",
       "      <td>United Kingdom</td>\n",
       "      <td>United Kingdom</td>\n",
       "      <td>Back-end Developer|DevOps/SysAdmin</td>\n",
       "      <td>Never</td>\n",
       "      <td>0</td>\n",
       "      <td>1 to 5</td>\n",
       "      <td>Yes</td>\n",
       "      <td>Yes</td>\n",
       "      <td>No</td>\n",
       "      <td>I don't know</td>\n",
       "      <td>I don't know</td>\n",
       "      <td>Maybe</td>\n",
       "      <td>I don't know</td>\n",
       "      <td>NaN</td>\n",
       "      <td>NaN</td>\n",
       "      <td>No</td>\n",
       "      <td>No</td>\n",
       "      <td>No</td>\n",
       "      <td>No</td>\n",
       "      <td>NaN</td>\n",
       "      <td>Not applicable to me</td>\n",
       "      <td>Not applicable to me</td>\n",
       "      <td>0</td>\n",
       "    </tr>\n",
       "    <tr>\n",
       "      <th>3</th>\n",
       "      <td>36</td>\n",
       "      <td>Male</td>\n",
       "      <td>Brazil</td>\n",
       "      <td>Brazil</td>\n",
       "      <td>Back-end Developer</td>\n",
       "      <td>Never</td>\n",
       "      <td>0</td>\n",
       "      <td>1 to 5</td>\n",
       "      <td>No</td>\n",
       "      <td>No</td>\n",
       "      <td>No</td>\n",
       "      <td>No</td>\n",
       "      <td>Very difficult</td>\n",
       "      <td>No</td>\n",
       "      <td>I don't know</td>\n",
       "      <td>NaN</td>\n",
       "      <td>NaN</td>\n",
       "      <td>Yes</td>\n",
       "      <td>Yes</td>\n",
       "      <td>Yes</td>\n",
       "      <td>No</td>\n",
       "      <td>NaN</td>\n",
       "      <td>Often</td>\n",
       "      <td>Often</td>\n",
       "      <td>0</td>\n",
       "    </tr>\n",
       "    <tr>\n",
       "      <th>4</th>\n",
       "      <td>36</td>\n",
       "      <td>F</td>\n",
       "      <td>United States of America</td>\n",
       "      <td>United States of America</td>\n",
       "      <td>Other</td>\n",
       "      <td>Sometimes</td>\n",
       "      <td>0</td>\n",
       "      <td>1 to 5</td>\n",
       "      <td>I don't know</td>\n",
       "      <td>No</td>\n",
       "      <td>Yes</td>\n",
       "      <td>No</td>\n",
       "      <td>Very difficult</td>\n",
       "      <td>Yes</td>\n",
       "      <td>I don't know</td>\n",
       "      <td>NaN</td>\n",
       "      <td>NaN</td>\n",
       "      <td>I don't know</td>\n",
       "      <td>Maybe</td>\n",
       "      <td>Maybe</td>\n",
       "      <td>No</td>\n",
       "      <td>NaN</td>\n",
       "      <td>Not applicable to me</td>\n",
       "      <td>Often</td>\n",
       "      <td>1</td>\n",
       "    </tr>\n",
       "  </tbody>\n",
       "</table>\n",
       "</div>"
      ],
      "text/plain": [
       "   age gender           country(living)           working_country  \\\n",
       "0   33   Male                    Canada                    Canada   \n",
       "1   40   male               Netherlands               Netherlands   \n",
       "2   21   male            United Kingdom            United Kingdom   \n",
       "3   36   Male                    Brazil                    Brazil   \n",
       "4   36      F  United States of America  United States of America   \n",
       "\n",
       "                                 position remote work  self_employed  \\\n",
       "0                      Back-end Developer   Sometimes              0   \n",
       "1  Front-end Developer|Back-end Developer   Sometimes              0   \n",
       "2      Back-end Developer|DevOps/SysAdmin       Never              0   \n",
       "3                      Back-end Developer       Never              0   \n",
       "4                                   Other   Sometimes              0   \n",
       "\n",
       "  No_of_employees healthcare_coverage knowing_mental_health_care  \\\n",
       "0          1 to 5                 Yes                        Yes   \n",
       "1          1 to 5                  No                         No   \n",
       "2          1 to 5                 Yes                        Yes   \n",
       "3          1 to 5                  No                         No   \n",
       "4          1 to 5        I don't know                         No   \n",
       "\n",
       "  informed_campaign offer_options        asking_leave discuss_with_coworkers  \\\n",
       "0                No            No  Somewhat difficult                  Maybe   \n",
       "1                No  I don't know           Very easy                    Yes   \n",
       "2                No  I don't know        I don't know                  Maybe   \n",
       "3                No            No      Very difficult                     No   \n",
       "4               Yes            No      Very difficult                    Yes   \n",
       "\n",
       "  seriousness _mental_health productivity_affected % of time affected job  \\\n",
       "0               I don't know                   NaN                    NaN   \n",
       "1               I don't know                   NaN                    NaN   \n",
       "2               I don't know                   NaN                    NaN   \n",
       "3               I don't know                   NaN                    NaN   \n",
       "4               I don't know                   NaN                    NaN   \n",
       "\n",
       "  family_history past_disorder currently_disorder diagonised  \\\n",
       "0            Yes           Yes                 No        Yes   \n",
       "1             No           Yes                 No        Yes   \n",
       "2             No            No                 No         No   \n",
       "3            Yes           Yes                Yes         No   \n",
       "4   I don't know         Maybe              Maybe         No   \n",
       "\n",
       "                                          conditions  \\\n",
       "0  Mood Disorder (Depression, Bipolar Disorder, e...   \n",
       "1  Mood Disorder (Depression, Bipolar Disorder, etc)   \n",
       "2                                                NaN   \n",
       "3                                                NaN   \n",
       "4                                                NaN   \n",
       "\n",
       "  interfere the work(treatment) interfere the work(no treatment)  \\\n",
       "0                     Sometimes                            Often   \n",
       "1          Not applicable to me             Not applicable to me   \n",
       "2          Not applicable to me             Not applicable to me   \n",
       "3                         Often                            Often   \n",
       "4          Not applicable to me                            Often   \n",
       "\n",
       "   seek treatment  \n",
       "0               1  \n",
       "1               1  \n",
       "2               0  \n",
       "3               0  \n",
       "4               1  "
      ]
     },
     "execution_count": 24,
     "metadata": {},
     "output_type": "execute_result"
    }
   ],
   "source": [
    "data.head()"
   ]
  },
  {
   "cell_type": "code",
   "execution_count": 25,
   "id": "593740ab",
   "metadata": {},
   "outputs": [
    {
     "data": {
      "text/plain": [
       "(1433, 25)"
      ]
     },
     "execution_count": 25,
     "metadata": {},
     "output_type": "execute_result"
    }
   ],
   "source": [
    "data.shape"
   ]
  },
  {
   "cell_type": "code",
   "execution_count": 26,
   "id": "e65092e7",
   "metadata": {},
   "outputs": [],
   "source": [
    "cols = list(data.columns.values)"
   ]
  },
  {
   "cell_type": "code",
   "execution_count": 27,
   "id": "a6e4713e",
   "metadata": {},
   "outputs": [
    {
     "data": {
      "text/plain": [
       "['age',\n",
       " 'gender',\n",
       " 'country(living)',\n",
       " 'working_country',\n",
       " 'position',\n",
       " 'remote work',\n",
       " 'self_employed',\n",
       " 'No_of_employees',\n",
       " 'healthcare_coverage',\n",
       " 'knowing_mental_health_care',\n",
       " 'informed_campaign',\n",
       " 'offer_options',\n",
       " 'asking_leave',\n",
       " 'discuss_with_coworkers',\n",
       " 'seriousness _mental_health',\n",
       " 'productivity_affected',\n",
       " '% of time affected job',\n",
       " 'family_history',\n",
       " 'past_disorder',\n",
       " 'currently_disorder',\n",
       " 'diagonised',\n",
       " 'conditions',\n",
       " 'interfere the work(treatment)',\n",
       " 'interfere the work(no treatment)',\n",
       " 'seek treatment']"
      ]
     },
     "execution_count": 27,
     "metadata": {},
     "output_type": "execute_result"
    }
   ],
   "source": [
    "cols"
   ]
  },
  {
   "cell_type": "code",
   "execution_count": 45,
   "id": "6dd69fec",
   "metadata": {},
   "outputs": [],
   "source": [
    "columns=pd.read_csv('surveyquestions.txt',sep='=')\n",
    "columns=columns.reset_index()\n",
    "columns.columns=['cols','abbrevationnames']"
   ]
  },
  {
   "cell_type": "code",
   "execution_count": 46,
   "id": "2d57770c",
   "metadata": {},
   "outputs": [
    {
     "data": {
      "text/html": [
       "<div>\n",
       "<style scoped>\n",
       "    .dataframe tbody tr th:only-of-type {\n",
       "        vertical-align: middle;\n",
       "    }\n",
       "\n",
       "    .dataframe tbody tr th {\n",
       "        vertical-align: top;\n",
       "    }\n",
       "\n",
       "    .dataframe thead th {\n",
       "        text-align: right;\n",
       "    }\n",
       "</style>\n",
       "<table border=\"1\" class=\"dataframe\">\n",
       "  <thead>\n",
       "    <tr style=\"text-align: right;\">\n",
       "      <th></th>\n",
       "      <th>cols</th>\n",
       "      <th>abbrevationnames</th>\n",
       "    </tr>\n",
       "  </thead>\n",
       "  <tbody>\n",
       "    <tr>\n",
       "      <th>0</th>\n",
       "      <td>freelancer</td>\n",
       "      <td>Are you self-employed</td>\n",
       "    </tr>\n",
       "    <tr>\n",
       "      <th>1</th>\n",
       "      <td>no_employees</td>\n",
       "      <td>How many employees does your company or organi...</td>\n",
       "    </tr>\n",
       "    <tr>\n",
       "      <th>2</th>\n",
       "      <td>health_coverage</td>\n",
       "      <td>Does your employer provide mental health benef...</td>\n",
       "    </tr>\n",
       "    <tr>\n",
       "      <th>3</th>\n",
       "      <td>knowing_mental_healthcare</td>\n",
       "      <td>Do you know the options for mental health care...</td>\n",
       "    </tr>\n",
       "    <tr>\n",
       "      <th>4</th>\n",
       "      <td>informed_campagin</td>\n",
       "      <td>Has your employer ever formally discussed ment...</td>\n",
       "    </tr>\n",
       "    <tr>\n",
       "      <th>5</th>\n",
       "      <td>offer_options</td>\n",
       "      <td>Does your employer offer resources to learn mo...</td>\n",
       "    </tr>\n",
       "    <tr>\n",
       "      <th>6</th>\n",
       "      <td>asking_leave</td>\n",
       "      <td>If a mental health issue prompted you to reque...</td>\n",
       "    </tr>\n",
       "    <tr>\n",
       "      <th>7</th>\n",
       "      <td>discuss_with_coworkers</td>\n",
       "      <td>Would you feel comfortable discussing a mental...</td>\n",
       "    </tr>\n",
       "    <tr>\n",
       "      <th>8</th>\n",
       "      <td>seriousess mental_health</td>\n",
       "      <td>Do you feel that your employer takes mental he...</td>\n",
       "    </tr>\n",
       "    <tr>\n",
       "      <th>9</th>\n",
       "      <td>productivityaffected</td>\n",
       "      <td>Do you believe your productivity is ever affec...</td>\n",
       "    </tr>\n",
       "    <tr>\n",
       "      <th>10</th>\n",
       "      <td>% of time affected job</td>\n",
       "      <td>If yes, what percentage of your work time (tim...</td>\n",
       "    </tr>\n",
       "    <tr>\n",
       "      <th>11</th>\n",
       "      <td>familyhistory</td>\n",
       "      <td>Do you have a family history of mental illness?</td>\n",
       "    </tr>\n",
       "    <tr>\n",
       "      <th>12</th>\n",
       "      <td>pastdisorder</td>\n",
       "      <td>Have you had a mental health disorder in the past</td>\n",
       "    </tr>\n",
       "    <tr>\n",
       "      <th>13</th>\n",
       "      <td>currentlydisorder</td>\n",
       "      <td>Do you currently have a mental health disorder?</td>\n",
       "    </tr>\n",
       "    <tr>\n",
       "      <th>14</th>\n",
       "      <td>diagonised</td>\n",
       "      <td>Have you been diagnosed with a mental health c...</td>\n",
       "    </tr>\n",
       "    <tr>\n",
       "      <th>15</th>\n",
       "      <td>conditions</td>\n",
       "      <td>If so, what condition(s) were you diagnosed with?</td>\n",
       "    </tr>\n",
       "    <tr>\n",
       "      <th>16</th>\n",
       "      <td>seek treatment</td>\n",
       "      <td>Have you ever sought treatment for a mental he...</td>\n",
       "    </tr>\n",
       "    <tr>\n",
       "      <th>17</th>\n",
       "      <td>interfere the work(treatment)</td>\n",
       "      <td>If you have a mental health issue, do you feel...</td>\n",
       "    </tr>\n",
       "    <tr>\n",
       "      <th>18</th>\n",
       "      <td>interfere the work(no treatment)</td>\n",
       "      <td>If you have a mental health issue, do you feel...</td>\n",
       "    </tr>\n",
       "    <tr>\n",
       "      <th>19</th>\n",
       "      <td>gender</td>\n",
       "      <td>What is your gender?</td>\n",
       "    </tr>\n",
       "    <tr>\n",
       "      <th>20</th>\n",
       "      <td>country(living)</td>\n",
       "      <td>What country do you live in?</td>\n",
       "    </tr>\n",
       "    <tr>\n",
       "      <th>21</th>\n",
       "      <td>working_country</td>\n",
       "      <td>What country do you work in?</td>\n",
       "    </tr>\n",
       "    <tr>\n",
       "      <th>22</th>\n",
       "      <td>posiiton</td>\n",
       "      <td>Which of the following best describes your wor...</td>\n",
       "    </tr>\n",
       "    <tr>\n",
       "      <th>23</th>\n",
       "      <td>remote work</td>\n",
       "      <td>Do you work remotely?</td>\n",
       "    </tr>\n",
       "  </tbody>\n",
       "</table>\n",
       "</div>"
      ],
      "text/plain": [
       "                                cols  \\\n",
       "0                         freelancer   \n",
       "1                       no_employees   \n",
       "2                    health_coverage   \n",
       "3          knowing_mental_healthcare   \n",
       "4                  informed_campagin   \n",
       "5                      offer_options   \n",
       "6                       asking_leave   \n",
       "7             discuss_with_coworkers   \n",
       "8           seriousess mental_health   \n",
       "9               productivityaffected   \n",
       "10            % of time affected job   \n",
       "11                     familyhistory   \n",
       "12                      pastdisorder   \n",
       "13                 currentlydisorder   \n",
       "14                        diagonised   \n",
       "15                        conditions   \n",
       "16                    seek treatment   \n",
       "17     interfere the work(treatment)   \n",
       "18  interfere the work(no treatment)   \n",
       "19                            gender   \n",
       "20                   country(living)   \n",
       "21                   working_country   \n",
       "22                          posiiton   \n",
       "23                       remote work   \n",
       "\n",
       "                                     abbrevationnames  \n",
       "0                               Are you self-employed  \n",
       "1   How many employees does your company or organi...  \n",
       "2   Does your employer provide mental health benef...  \n",
       "3   Do you know the options for mental health care...  \n",
       "4   Has your employer ever formally discussed ment...  \n",
       "5   Does your employer offer resources to learn mo...  \n",
       "6   If a mental health issue prompted you to reque...  \n",
       "7   Would you feel comfortable discussing a mental...  \n",
       "8   Do you feel that your employer takes mental he...  \n",
       "9   Do you believe your productivity is ever affec...  \n",
       "10  If yes, what percentage of your work time (tim...  \n",
       "11    Do you have a family history of mental illness?  \n",
       "12  Have you had a mental health disorder in the past  \n",
       "13    Do you currently have a mental health disorder?  \n",
       "14  Have you been diagnosed with a mental health c...  \n",
       "15  If so, what condition(s) were you diagnosed with?  \n",
       "16  Have you ever sought treatment for a mental he...  \n",
       "17  If you have a mental health issue, do you feel...  \n",
       "18  If you have a mental health issue, do you feel...  \n",
       "19                               What is your gender?  \n",
       "20                       What country do you live in?  \n",
       "21                       What country do you work in?  \n",
       "22  Which of the following best describes your wor...  \n",
       "23                              Do you work remotely?  "
      ]
     },
     "execution_count": 46,
     "metadata": {},
     "output_type": "execute_result"
    }
   ],
   "source": [
    "columns"
   ]
  },
  {
   "cell_type": "markdown",
   "id": "5f805d62",
   "metadata": {},
   "source": [
    "## data pre_processing"
   ]
  },
  {
   "cell_type": "code",
   "execution_count": 47,
   "id": "a39e117b",
   "metadata": {},
   "outputs": [
    {
     "data": {
      "text/html": [
       "<div>\n",
       "<style scoped>\n",
       "    .dataframe tbody tr th:only-of-type {\n",
       "        vertical-align: middle;\n",
       "    }\n",
       "\n",
       "    .dataframe tbody tr th {\n",
       "        vertical-align: top;\n",
       "    }\n",
       "\n",
       "    .dataframe thead th {\n",
       "        text-align: right;\n",
       "    }\n",
       "</style>\n",
       "<table border=\"1\" class=\"dataframe\">\n",
       "  <thead>\n",
       "    <tr style=\"text-align: right;\">\n",
       "      <th></th>\n",
       "      <th>age</th>\n",
       "      <th>gender</th>\n",
       "      <th>country(living)</th>\n",
       "      <th>working_country</th>\n",
       "      <th>position</th>\n",
       "      <th>remote work</th>\n",
       "      <th>self_employed</th>\n",
       "      <th>No_of_employees</th>\n",
       "      <th>healthcare_coverage</th>\n",
       "      <th>knowing_mental_health_care</th>\n",
       "      <th>informed_campaign</th>\n",
       "      <th>offer_options</th>\n",
       "      <th>asking_leave</th>\n",
       "      <th>discuss_with_coworkers</th>\n",
       "      <th>seriousness _mental_health</th>\n",
       "      <th>productivity_affected</th>\n",
       "      <th>% of time affected job</th>\n",
       "      <th>family_history</th>\n",
       "      <th>past_disorder</th>\n",
       "      <th>currently_disorder</th>\n",
       "      <th>diagonised</th>\n",
       "      <th>conditions</th>\n",
       "      <th>interfere the work(treatment)</th>\n",
       "      <th>interfere the work(no treatment)</th>\n",
       "      <th>seek treatment</th>\n",
       "    </tr>\n",
       "  </thead>\n",
       "  <tbody>\n",
       "    <tr>\n",
       "      <th>0</th>\n",
       "      <td>33</td>\n",
       "      <td>Male</td>\n",
       "      <td>Canada</td>\n",
       "      <td>Canada</td>\n",
       "      <td>Back-end Developer</td>\n",
       "      <td>Sometimes</td>\n",
       "      <td>0</td>\n",
       "      <td>1 to 5</td>\n",
       "      <td>Yes</td>\n",
       "      <td>Yes</td>\n",
       "      <td>No</td>\n",
       "      <td>No</td>\n",
       "      <td>Somewhat difficult</td>\n",
       "      <td>Maybe</td>\n",
       "      <td>I don't know</td>\n",
       "      <td>NaN</td>\n",
       "      <td>NaN</td>\n",
       "      <td>Yes</td>\n",
       "      <td>Yes</td>\n",
       "      <td>No</td>\n",
       "      <td>Yes</td>\n",
       "      <td>Mood Disorder (Depression, Bipolar Disorder, e...</td>\n",
       "      <td>Sometimes</td>\n",
       "      <td>Often</td>\n",
       "      <td>1</td>\n",
       "    </tr>\n",
       "    <tr>\n",
       "      <th>1</th>\n",
       "      <td>40</td>\n",
       "      <td>male</td>\n",
       "      <td>Netherlands</td>\n",
       "      <td>Netherlands</td>\n",
       "      <td>Front-end Developer|Back-end Developer</td>\n",
       "      <td>Sometimes</td>\n",
       "      <td>0</td>\n",
       "      <td>1 to 5</td>\n",
       "      <td>No</td>\n",
       "      <td>No</td>\n",
       "      <td>No</td>\n",
       "      <td>I don't know</td>\n",
       "      <td>Very easy</td>\n",
       "      <td>Yes</td>\n",
       "      <td>I don't know</td>\n",
       "      <td>NaN</td>\n",
       "      <td>NaN</td>\n",
       "      <td>No</td>\n",
       "      <td>Yes</td>\n",
       "      <td>No</td>\n",
       "      <td>Yes</td>\n",
       "      <td>Mood Disorder (Depression, Bipolar Disorder, etc)</td>\n",
       "      <td>Not applicable to me</td>\n",
       "      <td>Not applicable to me</td>\n",
       "      <td>1</td>\n",
       "    </tr>\n",
       "    <tr>\n",
       "      <th>2</th>\n",
       "      <td>21</td>\n",
       "      <td>male</td>\n",
       "      <td>United Kingdom</td>\n",
       "      <td>United Kingdom</td>\n",
       "      <td>Back-end Developer|DevOps/SysAdmin</td>\n",
       "      <td>Never</td>\n",
       "      <td>0</td>\n",
       "      <td>1 to 5</td>\n",
       "      <td>Yes</td>\n",
       "      <td>Yes</td>\n",
       "      <td>No</td>\n",
       "      <td>I don't know</td>\n",
       "      <td>I don't know</td>\n",
       "      <td>Maybe</td>\n",
       "      <td>I don't know</td>\n",
       "      <td>NaN</td>\n",
       "      <td>NaN</td>\n",
       "      <td>No</td>\n",
       "      <td>No</td>\n",
       "      <td>No</td>\n",
       "      <td>No</td>\n",
       "      <td>NaN</td>\n",
       "      <td>Not applicable to me</td>\n",
       "      <td>Not applicable to me</td>\n",
       "      <td>0</td>\n",
       "    </tr>\n",
       "    <tr>\n",
       "      <th>3</th>\n",
       "      <td>36</td>\n",
       "      <td>Male</td>\n",
       "      <td>Brazil</td>\n",
       "      <td>Brazil</td>\n",
       "      <td>Back-end Developer</td>\n",
       "      <td>Never</td>\n",
       "      <td>0</td>\n",
       "      <td>1 to 5</td>\n",
       "      <td>No</td>\n",
       "      <td>No</td>\n",
       "      <td>No</td>\n",
       "      <td>No</td>\n",
       "      <td>Very difficult</td>\n",
       "      <td>No</td>\n",
       "      <td>I don't know</td>\n",
       "      <td>NaN</td>\n",
       "      <td>NaN</td>\n",
       "      <td>Yes</td>\n",
       "      <td>Yes</td>\n",
       "      <td>Yes</td>\n",
       "      <td>No</td>\n",
       "      <td>NaN</td>\n",
       "      <td>Often</td>\n",
       "      <td>Often</td>\n",
       "      <td>0</td>\n",
       "    </tr>\n",
       "    <tr>\n",
       "      <th>4</th>\n",
       "      <td>36</td>\n",
       "      <td>F</td>\n",
       "      <td>United States of America</td>\n",
       "      <td>United States of America</td>\n",
       "      <td>Other</td>\n",
       "      <td>Sometimes</td>\n",
       "      <td>0</td>\n",
       "      <td>1 to 5</td>\n",
       "      <td>I don't know</td>\n",
       "      <td>No</td>\n",
       "      <td>Yes</td>\n",
       "      <td>No</td>\n",
       "      <td>Very difficult</td>\n",
       "      <td>Yes</td>\n",
       "      <td>I don't know</td>\n",
       "      <td>NaN</td>\n",
       "      <td>NaN</td>\n",
       "      <td>I don't know</td>\n",
       "      <td>Maybe</td>\n",
       "      <td>Maybe</td>\n",
       "      <td>No</td>\n",
       "      <td>NaN</td>\n",
       "      <td>Not applicable to me</td>\n",
       "      <td>Often</td>\n",
       "      <td>1</td>\n",
       "    </tr>\n",
       "  </tbody>\n",
       "</table>\n",
       "</div>"
      ],
      "text/plain": [
       "   age gender           country(living)           working_country  \\\n",
       "0   33   Male                    Canada                    Canada   \n",
       "1   40   male               Netherlands               Netherlands   \n",
       "2   21   male            United Kingdom            United Kingdom   \n",
       "3   36   Male                    Brazil                    Brazil   \n",
       "4   36      F  United States of America  United States of America   \n",
       "\n",
       "                                 position remote work  self_employed  \\\n",
       "0                      Back-end Developer   Sometimes              0   \n",
       "1  Front-end Developer|Back-end Developer   Sometimes              0   \n",
       "2      Back-end Developer|DevOps/SysAdmin       Never              0   \n",
       "3                      Back-end Developer       Never              0   \n",
       "4                                   Other   Sometimes              0   \n",
       "\n",
       "  No_of_employees healthcare_coverage knowing_mental_health_care  \\\n",
       "0          1 to 5                 Yes                        Yes   \n",
       "1          1 to 5                  No                         No   \n",
       "2          1 to 5                 Yes                        Yes   \n",
       "3          1 to 5                  No                         No   \n",
       "4          1 to 5        I don't know                         No   \n",
       "\n",
       "  informed_campaign offer_options        asking_leave discuss_with_coworkers  \\\n",
       "0                No            No  Somewhat difficult                  Maybe   \n",
       "1                No  I don't know           Very easy                    Yes   \n",
       "2                No  I don't know        I don't know                  Maybe   \n",
       "3                No            No      Very difficult                     No   \n",
       "4               Yes            No      Very difficult                    Yes   \n",
       "\n",
       "  seriousness _mental_health productivity_affected % of time affected job  \\\n",
       "0               I don't know                   NaN                    NaN   \n",
       "1               I don't know                   NaN                    NaN   \n",
       "2               I don't know                   NaN                    NaN   \n",
       "3               I don't know                   NaN                    NaN   \n",
       "4               I don't know                   NaN                    NaN   \n",
       "\n",
       "  family_history past_disorder currently_disorder diagonised  \\\n",
       "0            Yes           Yes                 No        Yes   \n",
       "1             No           Yes                 No        Yes   \n",
       "2             No            No                 No         No   \n",
       "3            Yes           Yes                Yes         No   \n",
       "4   I don't know         Maybe              Maybe         No   \n",
       "\n",
       "                                          conditions  \\\n",
       "0  Mood Disorder (Depression, Bipolar Disorder, e...   \n",
       "1  Mood Disorder (Depression, Bipolar Disorder, etc)   \n",
       "2                                                NaN   \n",
       "3                                                NaN   \n",
       "4                                                NaN   \n",
       "\n",
       "  interfere the work(treatment) interfere the work(no treatment)  \\\n",
       "0                     Sometimes                            Often   \n",
       "1          Not applicable to me             Not applicable to me   \n",
       "2          Not applicable to me             Not applicable to me   \n",
       "3                         Often                            Often   \n",
       "4          Not applicable to me                            Often   \n",
       "\n",
       "   seek treatment  \n",
       "0               1  \n",
       "1               1  \n",
       "2               0  \n",
       "3               0  \n",
       "4               1  "
      ]
     },
     "execution_count": 47,
     "metadata": {},
     "output_type": "execute_result"
    }
   ],
   "source": [
    "data.head()"
   ]
  },
  {
   "cell_type": "code",
   "execution_count": 48,
   "id": "cb57c130",
   "metadata": {},
   "outputs": [
    {
     "data": {
      "text/plain": [
       "(1433, 25)"
      ]
     },
     "execution_count": 48,
     "metadata": {},
     "output_type": "execute_result"
    }
   ],
   "source": [
    "data.shape"
   ]
  },
  {
   "cell_type": "code",
   "execution_count": 49,
   "id": "9ab11cd9",
   "metadata": {},
   "outputs": [
    {
     "data": {
      "text/plain": [
       "0       False\n",
       "1       False\n",
       "2       False\n",
       "3       False\n",
       "4       False\n",
       "        ...  \n",
       "1428    False\n",
       "1429    False\n",
       "1430    False\n",
       "1431    False\n",
       "1432    False\n",
       "Length: 1433, dtype: bool"
      ]
     },
     "execution_count": 49,
     "metadata": {},
     "output_type": "execute_result"
    }
   ],
   "source": [
    "#check for duplicate data\n",
    "data.duplicated()"
   ]
  },
  {
   "cell_type": "code",
   "execution_count": null,
   "id": "968b3f84",
   "metadata": {},
   "outputs": [],
   "source": [
    "#data.drop_duplicates()"
   ]
  },
  {
   "cell_type": "markdown",
   "id": "e03a7567",
   "metadata": {},
   "source": [
    "## check the duplicates"
   ]
  },
  {
   "cell_type": "code",
   "execution_count": 50,
   "id": "e4bb94f1",
   "metadata": {},
   "outputs": [
    {
     "data": {
      "text/plain": [
       "0"
      ]
     },
     "execution_count": 50,
     "metadata": {},
     "output_type": "execute_result"
    }
   ],
   "source": [
    "data.duplicated().sum()"
   ]
  },
  {
   "cell_type": "code",
   "execution_count": 52,
   "id": "53b9f487",
   "metadata": {},
   "outputs": [
    {
     "name": "stdout",
     "output_type": "stream",
     "text": [
      "[ 33  40  21  36  42  26  29  30  56  35  51  24  38  44  27  55  22  25\n",
      "  28  23  32  31  43  37  39  45  46  17  20  54  34  99  61  41  48  66\n",
      "  19  52  50  49  47  57 323  74  53  58  70  59  62   3  63  15  65]\n"
     ]
    }
   ],
   "source": [
    "print(data['age'].unique())"
   ]
  },
  {
   "cell_type": "code",
   "execution_count": 53,
   "id": "4be93aa1",
   "metadata": {},
   "outputs": [
    {
     "name": "stdout",
     "output_type": "stream",
     "text": [
      "['Male' 'male' 'F' 'Transitioned, M2F' 'Other/Transfeminine' 'M' 'female'\n",
      " 'm' 'Female' 'f' 'non-binary' 'woman' 'male ' 'Male ' 'Bigender'\n",
      " 'Genderfluid (born female)' 'male 9:1 female, roughly' 'Male (cis)'\n",
      " 'Other' 'Sex is male' 'genderqueer' 'Human' 'mail' 'Cis-woman'\n",
      " 'female-bodied; no feelings about gender' 'Transgender woman'\n",
      " 'Genderfluid' 'female ' 'Male/genderqueer' 'fem' 'Nonbinary' ' Female'\n",
      " 'Female ' 'Genderqueer' nan 'I identify as female.' 'fm' 'Cis female '\n",
      " 'female/woman' 'Androgynous' 'man' 'nb masculine' 'Cisgender Female'\n",
      " 'Woman' 'Cis Male' 'Female or Multi-Gender Femme' 'Male.' 'Enby'\n",
      " 'Agender' 'Female (props for making this a freeform field, though)'\n",
      " 'cis man' 'Female assigned at birth ' 'Cis male' 'Man'\n",
      " 'none of your business' 'cis male' 'genderqueer woman' 'Queer' 'Dude'\n",
      " 'Male (trans, FtM)' 'cisdude' 'Genderflux demi-girl' 'Malr' 'mtf' 'Fluid'\n",
      " \"I'm a man why didn't you make this a drop down question. You should of asked sex? And I would of answered yes please. Seriously how much text can this take? \"\n",
      " 'M|' 'human' 'Unicorn' 'AFAB' 'MALE']\n"
     ]
    }
   ],
   "source": [
    "print(data['gender'].unique())"
   ]
  },
  {
   "cell_type": "code",
   "execution_count": 55,
   "id": "daf758b5",
   "metadata": {},
   "outputs": [],
   "source": [
    "data['gender'] = data['gender'].replace(['Male','male','M','m','Male (cis)','mail','man','Male.','cis man','Cis male','Man','cis male','Malr','MALE','M|'],'M')"
   ]
  },
  {
   "cell_type": "code",
   "execution_count": 56,
   "id": "63b5877c",
   "metadata": {},
   "outputs": [
    {
     "name": "stdout",
     "output_type": "stream",
     "text": [
      "['M' 'F' 'Transitioned, M2F' 'Other/Transfeminine' 'female' 'Female' 'f'\n",
      " 'non-binary' 'woman' 'male ' 'Male ' 'Bigender'\n",
      " 'Genderfluid (born female)' 'male 9:1 female, roughly' 'Other'\n",
      " 'Sex is male' 'genderqueer' 'Human' 'Cis-woman'\n",
      " 'female-bodied; no feelings about gender' 'Transgender woman'\n",
      " 'Genderfluid' 'female ' 'Male/genderqueer' 'fem' 'Nonbinary' ' Female'\n",
      " 'Female ' 'Genderqueer' nan 'I identify as female.' 'fm' 'Cis female '\n",
      " 'female/woman' 'Androgynous' 'nb masculine' 'Cisgender Female' 'Woman'\n",
      " 'Cis Male' 'Female or Multi-Gender Femme' 'Enby' 'Agender'\n",
      " 'Female (props for making this a freeform field, though)'\n",
      " 'Female assigned at birth ' 'none of your business' 'genderqueer woman'\n",
      " 'Queer' 'Dude' 'Male (trans, FtM)' 'cisdude' 'Genderflux demi-girl' 'mtf'\n",
      " 'Fluid'\n",
      " \"I'm a man why didn't you make this a drop down question. You should of asked sex? And I would of answered yes please. Seriously how much text can this take? \"\n",
      " 'human' 'Unicorn' 'AFAB']\n"
     ]
    }
   ],
   "source": [
    "print(data['gender'].unique())"
   ]
  },
  {
   "cell_type": "code",
   "execution_count": 60,
   "id": "5212c0bb",
   "metadata": {},
   "outputs": [],
   "source": [
    "data['gender'] = data['gender'].replace(['male ','Male ','Cis Male'],'M')"
   ]
  },
  {
   "cell_type": "code",
   "execution_count": 61,
   "id": "29ea2117",
   "metadata": {},
   "outputs": [
    {
     "name": "stdout",
     "output_type": "stream",
     "text": [
      "['M' 'F' 'Transitioned, M2F' 'Other/Transfeminine' 'female' 'Female' 'f'\n",
      " 'non-binary' 'woman' 'Bigender' 'Genderfluid (born female)'\n",
      " 'male 9:1 female, roughly' 'Other' 'Sex is male' 'genderqueer' 'Human'\n",
      " 'Cis-woman' 'female-bodied; no feelings about gender' 'Transgender woman'\n",
      " 'Genderfluid' 'female ' 'Male/genderqueer' 'fem' 'Nonbinary' ' Female'\n",
      " 'Female ' 'Genderqueer' nan 'I identify as female.' 'fm' 'Cis female '\n",
      " 'female/woman' 'Androgynous' 'nb masculine' 'Cisgender Female' 'Woman'\n",
      " 'Female or Multi-Gender Femme' 'Enby' 'Agender'\n",
      " 'Female (props for making this a freeform field, though)'\n",
      " 'Female assigned at birth ' 'none of your business' 'genderqueer woman'\n",
      " 'Queer' 'Dude' 'Male (trans, FtM)' 'cisdude' 'Genderflux demi-girl' 'mtf'\n",
      " 'Fluid'\n",
      " \"I'm a man why didn't you make this a drop down question. You should of asked sex? And I would of answered yes please. Seriously how much text can this take? \"\n",
      " 'human' 'Unicorn' 'AFAB']\n"
     ]
    }
   ],
   "source": [
    "print(data['gender'].unique())"
   ]
  },
  {
   "cell_type": "code",
   "execution_count": 62,
   "id": "8728b5f7",
   "metadata": {},
   "outputs": [],
   "source": [
    "data['gender'] = data['gender'].replace(['F','female','Female','f','woman','Cis-woman','female ','fem',' Female','Female ','fm','Cis female ','female/woman','Cisgender Female','Woman'],'F')"
   ]
  },
  {
   "cell_type": "code",
   "execution_count": 63,
   "id": "8f31fb65",
   "metadata": {
    "scrolled": true
   },
   "outputs": [
    {
     "name": "stdout",
     "output_type": "stream",
     "text": [
      "['M' 'F' 'Transitioned, M2F' 'Other/Transfeminine' 'non-binary' 'Bigender'\n",
      " 'Genderfluid (born female)' 'male 9:1 female, roughly' 'Other'\n",
      " 'Sex is male' 'genderqueer' 'Human'\n",
      " 'female-bodied; no feelings about gender' 'Transgender woman'\n",
      " 'Genderfluid' 'Male/genderqueer' 'Nonbinary' 'Genderqueer' nan\n",
      " 'I identify as female.' 'Androgynous' 'nb masculine'\n",
      " 'Female or Multi-Gender Femme' 'Enby' 'Agender'\n",
      " 'Female (props for making this a freeform field, though)'\n",
      " 'Female assigned at birth ' 'none of your business' 'genderqueer woman'\n",
      " 'Queer' 'Dude' 'Male (trans, FtM)' 'cisdude' 'Genderflux demi-girl' 'mtf'\n",
      " 'Fluid'\n",
      " \"I'm a man why didn't you make this a drop down question. You should of asked sex? And I would of answered yes please. Seriously how much text can this take? \"\n",
      " 'human' 'Unicorn' 'AFAB']\n"
     ]
    }
   ],
   "source": [
    "print(data['gender'].unique())"
   ]
  },
  {
   "cell_type": "code",
   "execution_count": null,
   "id": "85c19e24",
   "metadata": {},
   "outputs": [],
   "source": []
  },
  {
   "cell_type": "code",
   "execution_count": 64,
   "id": "0978e93f",
   "metadata": {},
   "outputs": [],
   "source": [
    "data['gender'] = data['gender'].replace([\"Transitioned, M2F\",\"Other/Transfeminine\",\"Transgender woman\",\"genderqueer woman\",\"mtf\"],'Transwoman')"
   ]
  },
  {
   "cell_type": "code",
   "execution_count": 65,
   "id": "4b0928ef",
   "metadata": {},
   "outputs": [
    {
     "name": "stdout",
     "output_type": "stream",
     "text": [
      "['M' 'F' 'Transwoman' 'non-binary' 'Bigender' 'Genderfluid (born female)'\n",
      " 'male 9:1 female, roughly' 'Other' 'Sex is male' 'genderqueer' 'Human'\n",
      " 'female-bodied; no feelings about gender' 'Genderfluid'\n",
      " 'Male/genderqueer' 'Nonbinary' 'Genderqueer' nan 'I identify as female.'\n",
      " 'Androgynous' 'nb masculine' 'Female or Multi-Gender Femme' 'Enby'\n",
      " 'Agender' 'Female (props for making this a freeform field, though)'\n",
      " 'Female assigned at birth ' 'none of your business' 'Queer' 'Dude'\n",
      " 'Male (trans, FtM)' 'cisdude' 'Genderflux demi-girl' 'Fluid'\n",
      " \"I'm a man why didn't you make this a drop down question. You should of asked sex? And I would of answered yes please. Seriously how much text can this take? \"\n",
      " 'human' 'Unicorn' 'AFAB']\n"
     ]
    }
   ],
   "source": [
    "print(data['gender'].unique())"
   ]
  },
  {
   "cell_type": "code",
   "execution_count": 74,
   "id": "dcf6686b",
   "metadata": {},
   "outputs": [],
   "source": [
    "data['gender'] = data['gender'].replace(['non-binary',\"genderqueer\",\"Human\",\"no feelings about gender\",\"Genderqueer\",\"I'm a man why didn't you make this a drop down question. You should of asked sex? And I would of answered yes please. Seriously how much text can this take? \",\"Enby\",\"human\",\"Nonbinary\",'Agender'],\"non_binary\")"
   ]
  },
  {
   "cell_type": "code",
   "execution_count": 76,
   "id": "8b94526e",
   "metadata": {},
   "outputs": [
    {
     "name": "stdout",
     "output_type": "stream",
     "text": [
      "['M' 'F' 'Transwoman' 'non_binay' 'Bigender' 'other' 'Other'\n",
      " 'female-bodied; no feelings about gender' 'Genderfluid'\n",
      " 'Male/genderqueer' nan 'I identify as female.' 'Androgynous'\n",
      " 'nb masculine' 'Female or Multi-Gender Femme'\n",
      " 'Female (props for making this a freeform field, though)'\n",
      " 'Female assigned at birth ' 'none of your business' 'Queer' 'Dude'\n",
      " 'Male (trans, FtM)' 'cisdude' 'AFAB']\n"
     ]
    }
   ],
   "source": [
    "print(data['gender'].unique())"
   ]
  },
  {
   "cell_type": "code",
   "execution_count": 71,
   "id": "6b9f2535",
   "metadata": {},
   "outputs": [],
   "source": [
    "data['gender'] = data['gender'].replace([\"Genderfluid (born female)\",\"Sex is male\",\"male 9:1 female, roughly\",\"Fluid\",\"Unicorn\",\"Genderflux demi-girl\"],\"other\")"
   ]
  },
  {
   "cell_type": "code",
   "execution_count": 72,
   "id": "41621f7c",
   "metadata": {},
   "outputs": [
    {
     "name": "stdout",
     "output_type": "stream",
     "text": [
      "['M' 'F' 'Transwoman' 'non_binay' 'Bigender' 'other' 'Other'\n",
      " 'female-bodied; no feelings about gender' 'Genderfluid'\n",
      " 'Male/genderqueer' nan 'I identify as female.' 'Androgynous'\n",
      " 'nb masculine' 'Female or Multi-Gender Femme'\n",
      " 'Female (props for making this a freeform field, though)'\n",
      " 'Female assigned at birth ' 'none of your business' 'Queer' 'Dude'\n",
      " 'Male (trans, FtM)' 'cisdude' 'AFAB']\n"
     ]
    }
   ],
   "source": [
    "print(data['gender'].unique())"
   ]
  },
  {
   "cell_type": "code",
   "execution_count": 77,
   "id": "3c111241",
   "metadata": {},
   "outputs": [],
   "source": [
    "data['gender'] = data['gender'].replace(['other','Other','female-bodied; no feelings about gender','Genderfluid','nb masculine'],\"non_binary\")"
   ]
  },
  {
   "cell_type": "code",
   "execution_count": 78,
   "id": "77d65161",
   "metadata": {},
   "outputs": [
    {
     "name": "stdout",
     "output_type": "stream",
     "text": [
      "['M' 'F' 'Transwoman' 'non_binay' 'Bigender' 'non_binary'\n",
      " 'Male/genderqueer' nan 'I identify as female.' 'Androgynous'\n",
      " 'Female or Multi-Gender Femme'\n",
      " 'Female (props for making this a freeform field, though)'\n",
      " 'Female assigned at birth ' 'none of your business' 'Queer' 'Dude'\n",
      " 'Male (trans, FtM)' 'cisdude' 'AFAB']\n"
     ]
    }
   ],
   "source": [
    "print(data['gender'].unique())"
   ]
  },
  {
   "cell_type": "code",
   "execution_count": 79,
   "id": "84912c9d",
   "metadata": {},
   "outputs": [],
   "source": [
    "data['gender'] = data['gender'].replace([\"non_binay\"],\"non_binary\")"
   ]
  },
  {
   "cell_type": "code",
   "execution_count": 80,
   "id": "a32b1432",
   "metadata": {},
   "outputs": [],
   "source": [
    "data['gender'] = data['gender'].replace([\"I identify as female\"],\"Transwoman\")"
   ]
  },
  {
   "cell_type": "code",
   "execution_count": 81,
   "id": "b52518d0",
   "metadata": {},
   "outputs": [],
   "source": [
    "data['gender'] = data['gender'].replace([\"Female (props for making this a freeform field, though)\",\"Female or Multi-Gender Femme\"],\"Transwoman\")"
   ]
  },
  {
   "cell_type": "code",
   "execution_count": 82,
   "id": "da64b24f",
   "metadata": {},
   "outputs": [
    {
     "name": "stdout",
     "output_type": "stream",
     "text": [
      "['M' 'F' 'Transwoman' 'non_binary' 'Bigender' 'Male/genderqueer' nan\n",
      " 'I identify as female.' 'Androgynous' 'Female assigned at birth '\n",
      " 'none of your business' 'Queer' 'Dude' 'Male (trans, FtM)' 'cisdude'\n",
      " 'AFAB']\n"
     ]
    }
   ],
   "source": [
    "print(data['gender'].unique())"
   ]
  },
  {
   "cell_type": "code",
   "execution_count": 85,
   "id": "9c1d2d54",
   "metadata": {},
   "outputs": [],
   "source": [
    "data['gender'] = data['gender'].replace([\"Male/genderqueer\",\"Queer\",\"Bigender\",\"Androgynous\"],\"non_binary\")"
   ]
  },
  {
   "cell_type": "code",
   "execution_count": 84,
   "id": "ebf91fe3",
   "metadata": {},
   "outputs": [],
   "source": [
    "data['gender'] = data['gender'].replace(['I identify as female.'],\"F\")"
   ]
  },
  {
   "cell_type": "code",
   "execution_count": 86,
   "id": "1f9cc70f",
   "metadata": {},
   "outputs": [],
   "source": [
    "data['gender'] = data['gender'].replace([\"Male (trans, FtM)\"],\"transmen\")"
   ]
  },
  {
   "cell_type": "code",
   "execution_count": 87,
   "id": "71772f89",
   "metadata": {},
   "outputs": [
    {
     "name": "stdout",
     "output_type": "stream",
     "text": [
      "['M' 'F' 'Transwoman' 'non_binary' nan 'Female assigned at birth '\n",
      " 'none of your business' 'Dude' 'transmen' 'cisdude' 'AFAB']\n"
     ]
    }
   ],
   "source": [
    "print(data['gender'].unique())"
   ]
  },
  {
   "cell_type": "code",
   "execution_count": 89,
   "id": "2d834230",
   "metadata": {},
   "outputs": [],
   "source": [
    "data['gender'] = data['gender'].replace([\"Female assigned at birth \",\"AFAB\",\"none of your business\"],\"non_binary\")"
   ]
  },
  {
   "cell_type": "code",
   "execution_count": 90,
   "id": "8fd9ef94",
   "metadata": {},
   "outputs": [
    {
     "name": "stdout",
     "output_type": "stream",
     "text": [
      "['M' 'F' 'Transwoman' 'non_binary' nan 'Dude' 'transmen' 'cisdude']\n"
     ]
    }
   ],
   "source": [
    "print(data['gender'].unique())"
   ]
  },
  {
   "cell_type": "code",
   "execution_count": 91,
   "id": "49166371",
   "metadata": {},
   "outputs": [],
   "source": [
    "data['gender'] = data['gender'].replace([\"cisdude\",'Dude'],\"M\")"
   ]
  },
  {
   "cell_type": "code",
   "execution_count": 92,
   "id": "7195c018",
   "metadata": {},
   "outputs": [
    {
     "name": "stdout",
     "output_type": "stream",
     "text": [
      "['M' 'F' 'Transwoman' 'non_binary' nan 'transmen']\n"
     ]
    }
   ],
   "source": [
    "print(data['gender'].unique())"
   ]
  },
  {
   "cell_type": "code",
   "execution_count": 97,
   "id": "6b319ed4",
   "metadata": {},
   "outputs": [],
   "source": [
    "data.gender.fillna(value=\"NA\",inplace=True)"
   ]
  },
  {
   "cell_type": "code",
   "execution_count": 98,
   "id": "710ea56c",
   "metadata": {},
   "outputs": [
    {
     "name": "stdout",
     "output_type": "stream",
     "text": [
      "['M' 'F' 'Transwoman' 'non_binary' 'NA' 'transmen']\n"
     ]
    }
   ],
   "source": [
    "print(data['gender'].unique())"
   ]
  },
  {
   "cell_type": "code",
   "execution_count": 100,
   "id": "183b1580",
   "metadata": {},
   "outputs": [
    {
     "name": "stdout",
     "output_type": "stream",
     "text": [
      "United States of America    840\n",
      "United Kingdom              180\n",
      "Canada                       78\n",
      "Germany                      58\n",
      "Netherlands                  48\n",
      "Australia                    35\n",
      "Sweden                       19\n",
      "France                       16\n",
      "Ireland                      15\n",
      "Brazil                       10\n",
      "Switzerland                  10\n",
      "New Zealand                   9\n",
      "India                         9\n",
      "Russia                        9\n",
      "Denmark                       7\n",
      "Finland                       7\n",
      "Bulgaria                      7\n",
      "Italy                         5\n",
      "Belgium                       5\n",
      "Austria                       4\n",
      "Spain                         4\n",
      "Poland                        4\n",
      "South Africa                  4\n",
      "Romania                       4\n",
      "Pakistan                      3\n",
      "Norway                        3\n",
      "Chile                         3\n",
      "Czech Republic                3\n",
      "Israel                        2\n",
      "Colombia                      2\n",
      "Lithuania                     2\n",
      "Mexico                        2\n",
      "Other                         2\n",
      "Japan                         2\n",
      "Estonia                       2\n",
      "Bosnia and Herzegovina        2\n",
      "Afghanistan                   2\n",
      "Guatemala                     1\n",
      "Serbia                        1\n",
      "Bangladesh                    1\n",
      "Ecuador                       1\n",
      "Vietnam                       1\n",
      "Taiwan                        1\n",
      "Argentina                     1\n",
      "Slovakia                      1\n",
      "Brunei                        1\n",
      "Venezuela                     1\n",
      "Costa Rica                    1\n",
      "Iran                          1\n",
      "Algeria                       1\n",
      "China                         1\n",
      "Greece                        1\n",
      "Hungary                       1\n",
      "Name: country(living), dtype: int64\n",
      "\n",
      " \n",
      "\n"
     ]
    }
   ],
   "source": [
    "print(data['country(living)'].value_counts())\n",
    "print(\"\\n \\n\")\n",
    "#print(df['state'].unique())"
   ]
  },
  {
   "cell_type": "code",
   "execution_count": 101,
   "id": "09242b99",
   "metadata": {},
   "outputs": [
    {
     "data": {
      "text/plain": [
       "% of time affected job              1229\n",
       "productivity_affected               1146\n",
       "conditions                           722\n",
       "knowing_mental_health_care           420\n",
       "seriousness _mental_health           287\n",
       "discuss_with_coworkers               287\n",
       "offer_options                        287\n",
       "informed_campaign                    287\n",
       "asking_leave                         287\n",
       "No_of_employees                      287\n",
       "healthcare_coverage                  287\n",
       "family_history                         0\n",
       "currently_disorder                     0\n",
       "past_disorder                          0\n",
       "diagonised                             0\n",
       "interfere the work(treatment)          0\n",
       "interfere the work(no treatment)       0\n",
       "age                                    0\n",
       "gender                                 0\n",
       "self_employed                          0\n",
       "remote work                            0\n",
       "position                               0\n",
       "working_country                        0\n",
       "country(living)                        0\n",
       "seek treatment                         0\n",
       "dtype: int64"
      ]
     },
     "execution_count": 101,
     "metadata": {},
     "output_type": "execute_result"
    }
   ],
   "source": [
    "data.isna().sum().sort_values(ascending=False)"
   ]
  },
  {
   "cell_type": "code",
   "execution_count": 103,
   "id": "c7824c9e",
   "metadata": {},
   "outputs": [],
   "source": [
    "missing=data.isnull().sum()"
   ]
  },
  {
   "cell_type": "code",
   "execution_count": 104,
   "id": "417242a6",
   "metadata": {},
   "outputs": [],
   "source": [
    "missing_percent = ((data.isnull().sum()/data.shape[0])*100).round(2)"
   ]
  },
  {
   "cell_type": "code",
   "execution_count": 105,
   "id": "8bda7c26",
   "metadata": {},
   "outputs": [],
   "source": [
    "missing_data = pd.concat([missing,missing_percent,],\n",
    "                                axis=1, \n",
    "                                keys=['missing_Total', 'missing_Percent %',],\n",
    "                                sort = True)"
   ]
  },
  {
   "cell_type": "code",
   "execution_count": 106,
   "id": "5207e563",
   "metadata": {},
   "outputs": [
    {
     "data": {
      "text/html": [
       "<div>\n",
       "<style scoped>\n",
       "    .dataframe tbody tr th:only-of-type {\n",
       "        vertical-align: middle;\n",
       "    }\n",
       "\n",
       "    .dataframe tbody tr th {\n",
       "        vertical-align: top;\n",
       "    }\n",
       "\n",
       "    .dataframe thead th {\n",
       "        text-align: right;\n",
       "    }\n",
       "</style>\n",
       "<table border=\"1\" class=\"dataframe\">\n",
       "  <thead>\n",
       "    <tr style=\"text-align: right;\">\n",
       "      <th></th>\n",
       "      <th>missing_Total</th>\n",
       "      <th>missing_Percent %</th>\n",
       "    </tr>\n",
       "  </thead>\n",
       "  <tbody>\n",
       "    <tr>\n",
       "      <th>% of time affected job</th>\n",
       "      <td>1229</td>\n",
       "      <td>85.76</td>\n",
       "    </tr>\n",
       "    <tr>\n",
       "      <th>No_of_employees</th>\n",
       "      <td>287</td>\n",
       "      <td>20.03</td>\n",
       "    </tr>\n",
       "    <tr>\n",
       "      <th>age</th>\n",
       "      <td>0</td>\n",
       "      <td>0.00</td>\n",
       "    </tr>\n",
       "    <tr>\n",
       "      <th>asking_leave</th>\n",
       "      <td>287</td>\n",
       "      <td>20.03</td>\n",
       "    </tr>\n",
       "    <tr>\n",
       "      <th>conditions</th>\n",
       "      <td>722</td>\n",
       "      <td>50.38</td>\n",
       "    </tr>\n",
       "    <tr>\n",
       "      <th>country(living)</th>\n",
       "      <td>0</td>\n",
       "      <td>0.00</td>\n",
       "    </tr>\n",
       "    <tr>\n",
       "      <th>currently_disorder</th>\n",
       "      <td>0</td>\n",
       "      <td>0.00</td>\n",
       "    </tr>\n",
       "    <tr>\n",
       "      <th>diagonised</th>\n",
       "      <td>0</td>\n",
       "      <td>0.00</td>\n",
       "    </tr>\n",
       "    <tr>\n",
       "      <th>discuss_with_coworkers</th>\n",
       "      <td>287</td>\n",
       "      <td>20.03</td>\n",
       "    </tr>\n",
       "    <tr>\n",
       "      <th>family_history</th>\n",
       "      <td>0</td>\n",
       "      <td>0.00</td>\n",
       "    </tr>\n",
       "    <tr>\n",
       "      <th>gender</th>\n",
       "      <td>0</td>\n",
       "      <td>0.00</td>\n",
       "    </tr>\n",
       "    <tr>\n",
       "      <th>healthcare_coverage</th>\n",
       "      <td>287</td>\n",
       "      <td>20.03</td>\n",
       "    </tr>\n",
       "    <tr>\n",
       "      <th>informed_campaign</th>\n",
       "      <td>287</td>\n",
       "      <td>20.03</td>\n",
       "    </tr>\n",
       "    <tr>\n",
       "      <th>interfere the work(no treatment)</th>\n",
       "      <td>0</td>\n",
       "      <td>0.00</td>\n",
       "    </tr>\n",
       "    <tr>\n",
       "      <th>interfere the work(treatment)</th>\n",
       "      <td>0</td>\n",
       "      <td>0.00</td>\n",
       "    </tr>\n",
       "    <tr>\n",
       "      <th>knowing_mental_health_care</th>\n",
       "      <td>420</td>\n",
       "      <td>29.31</td>\n",
       "    </tr>\n",
       "    <tr>\n",
       "      <th>offer_options</th>\n",
       "      <td>287</td>\n",
       "      <td>20.03</td>\n",
       "    </tr>\n",
       "    <tr>\n",
       "      <th>past_disorder</th>\n",
       "      <td>0</td>\n",
       "      <td>0.00</td>\n",
       "    </tr>\n",
       "    <tr>\n",
       "      <th>position</th>\n",
       "      <td>0</td>\n",
       "      <td>0.00</td>\n",
       "    </tr>\n",
       "    <tr>\n",
       "      <th>productivity_affected</th>\n",
       "      <td>1146</td>\n",
       "      <td>79.97</td>\n",
       "    </tr>\n",
       "    <tr>\n",
       "      <th>remote work</th>\n",
       "      <td>0</td>\n",
       "      <td>0.00</td>\n",
       "    </tr>\n",
       "    <tr>\n",
       "      <th>seek treatment</th>\n",
       "      <td>0</td>\n",
       "      <td>0.00</td>\n",
       "    </tr>\n",
       "    <tr>\n",
       "      <th>self_employed</th>\n",
       "      <td>0</td>\n",
       "      <td>0.00</td>\n",
       "    </tr>\n",
       "    <tr>\n",
       "      <th>seriousness _mental_health</th>\n",
       "      <td>287</td>\n",
       "      <td>20.03</td>\n",
       "    </tr>\n",
       "    <tr>\n",
       "      <th>working_country</th>\n",
       "      <td>0</td>\n",
       "      <td>0.00</td>\n",
       "    </tr>\n",
       "  </tbody>\n",
       "</table>\n",
       "</div>"
      ],
      "text/plain": [
       "                                  missing_Total  missing_Percent %\n",
       "% of time affected job                     1229              85.76\n",
       "No_of_employees                             287              20.03\n",
       "age                                           0               0.00\n",
       "asking_leave                                287              20.03\n",
       "conditions                                  722              50.38\n",
       "country(living)                               0               0.00\n",
       "currently_disorder                            0               0.00\n",
       "diagonised                                    0               0.00\n",
       "discuss_with_coworkers                      287              20.03\n",
       "family_history                                0               0.00\n",
       "gender                                        0               0.00\n",
       "healthcare_coverage                         287              20.03\n",
       "informed_campaign                           287              20.03\n",
       "interfere the work(no treatment)              0               0.00\n",
       "interfere the work(treatment)                 0               0.00\n",
       "knowing_mental_health_care                  420              29.31\n",
       "offer_options                               287              20.03\n",
       "past_disorder                                 0               0.00\n",
       "position                                      0               0.00\n",
       "productivity_affected                      1146              79.97\n",
       "remote work                                   0               0.00\n",
       "seek treatment                                0               0.00\n",
       "self_employed                                 0               0.00\n",
       "seriousness _mental_health                  287              20.03\n",
       "working_country                               0               0.00"
      ]
     },
     "execution_count": 106,
     "metadata": {},
     "output_type": "execute_result"
    }
   ],
   "source": [
    "missing_data"
   ]
  },
  {
   "cell_type": "markdown",
   "id": "b5ab1252",
   "metadata": {},
   "source": [
    "## drop columns greater than 50 percentage missing values"
   ]
  },
  {
   "cell_type": "code",
   "execution_count": 107,
   "id": "4a0a8e66",
   "metadata": {},
   "outputs": [],
   "source": [
    "data.drop([\"% of time affected job\",\"conditions\",\"productivity_affected\"], axis=1,inplace=True)"
   ]
  },
  {
   "cell_type": "code",
   "execution_count": 108,
   "id": "34ba60b7",
   "metadata": {},
   "outputs": [
    {
     "data": {
      "text/html": [
       "<div>\n",
       "<style scoped>\n",
       "    .dataframe tbody tr th:only-of-type {\n",
       "        vertical-align: middle;\n",
       "    }\n",
       "\n",
       "    .dataframe tbody tr th {\n",
       "        vertical-align: top;\n",
       "    }\n",
       "\n",
       "    .dataframe thead th {\n",
       "        text-align: right;\n",
       "    }\n",
       "</style>\n",
       "<table border=\"1\" class=\"dataframe\">\n",
       "  <thead>\n",
       "    <tr style=\"text-align: right;\">\n",
       "      <th></th>\n",
       "      <th>age</th>\n",
       "      <th>gender</th>\n",
       "      <th>country(living)</th>\n",
       "      <th>working_country</th>\n",
       "      <th>position</th>\n",
       "      <th>remote work</th>\n",
       "      <th>self_employed</th>\n",
       "      <th>No_of_employees</th>\n",
       "      <th>healthcare_coverage</th>\n",
       "      <th>knowing_mental_health_care</th>\n",
       "      <th>informed_campaign</th>\n",
       "      <th>offer_options</th>\n",
       "      <th>asking_leave</th>\n",
       "      <th>discuss_with_coworkers</th>\n",
       "      <th>seriousness _mental_health</th>\n",
       "      <th>family_history</th>\n",
       "      <th>past_disorder</th>\n",
       "      <th>currently_disorder</th>\n",
       "      <th>diagonised</th>\n",
       "      <th>interfere the work(treatment)</th>\n",
       "      <th>interfere the work(no treatment)</th>\n",
       "      <th>seek treatment</th>\n",
       "    </tr>\n",
       "  </thead>\n",
       "  <tbody>\n",
       "    <tr>\n",
       "      <th>0</th>\n",
       "      <td>33</td>\n",
       "      <td>M</td>\n",
       "      <td>Canada</td>\n",
       "      <td>Canada</td>\n",
       "      <td>Back-end Developer</td>\n",
       "      <td>Sometimes</td>\n",
       "      <td>0</td>\n",
       "      <td>1 to 5</td>\n",
       "      <td>Yes</td>\n",
       "      <td>Yes</td>\n",
       "      <td>No</td>\n",
       "      <td>No</td>\n",
       "      <td>Somewhat difficult</td>\n",
       "      <td>Maybe</td>\n",
       "      <td>I don't know</td>\n",
       "      <td>Yes</td>\n",
       "      <td>Yes</td>\n",
       "      <td>No</td>\n",
       "      <td>Yes</td>\n",
       "      <td>Sometimes</td>\n",
       "      <td>Often</td>\n",
       "      <td>1</td>\n",
       "    </tr>\n",
       "    <tr>\n",
       "      <th>1</th>\n",
       "      <td>40</td>\n",
       "      <td>M</td>\n",
       "      <td>Netherlands</td>\n",
       "      <td>Netherlands</td>\n",
       "      <td>Front-end Developer|Back-end Developer</td>\n",
       "      <td>Sometimes</td>\n",
       "      <td>0</td>\n",
       "      <td>1 to 5</td>\n",
       "      <td>No</td>\n",
       "      <td>No</td>\n",
       "      <td>No</td>\n",
       "      <td>I don't know</td>\n",
       "      <td>Very easy</td>\n",
       "      <td>Yes</td>\n",
       "      <td>I don't know</td>\n",
       "      <td>No</td>\n",
       "      <td>Yes</td>\n",
       "      <td>No</td>\n",
       "      <td>Yes</td>\n",
       "      <td>Not applicable to me</td>\n",
       "      <td>Not applicable to me</td>\n",
       "      <td>1</td>\n",
       "    </tr>\n",
       "    <tr>\n",
       "      <th>2</th>\n",
       "      <td>21</td>\n",
       "      <td>M</td>\n",
       "      <td>United Kingdom</td>\n",
       "      <td>United Kingdom</td>\n",
       "      <td>Back-end Developer|DevOps/SysAdmin</td>\n",
       "      <td>Never</td>\n",
       "      <td>0</td>\n",
       "      <td>1 to 5</td>\n",
       "      <td>Yes</td>\n",
       "      <td>Yes</td>\n",
       "      <td>No</td>\n",
       "      <td>I don't know</td>\n",
       "      <td>I don't know</td>\n",
       "      <td>Maybe</td>\n",
       "      <td>I don't know</td>\n",
       "      <td>No</td>\n",
       "      <td>No</td>\n",
       "      <td>No</td>\n",
       "      <td>No</td>\n",
       "      <td>Not applicable to me</td>\n",
       "      <td>Not applicable to me</td>\n",
       "      <td>0</td>\n",
       "    </tr>\n",
       "    <tr>\n",
       "      <th>3</th>\n",
       "      <td>36</td>\n",
       "      <td>M</td>\n",
       "      <td>Brazil</td>\n",
       "      <td>Brazil</td>\n",
       "      <td>Back-end Developer</td>\n",
       "      <td>Never</td>\n",
       "      <td>0</td>\n",
       "      <td>1 to 5</td>\n",
       "      <td>No</td>\n",
       "      <td>No</td>\n",
       "      <td>No</td>\n",
       "      <td>No</td>\n",
       "      <td>Very difficult</td>\n",
       "      <td>No</td>\n",
       "      <td>I don't know</td>\n",
       "      <td>Yes</td>\n",
       "      <td>Yes</td>\n",
       "      <td>Yes</td>\n",
       "      <td>No</td>\n",
       "      <td>Often</td>\n",
       "      <td>Often</td>\n",
       "      <td>0</td>\n",
       "    </tr>\n",
       "    <tr>\n",
       "      <th>4</th>\n",
       "      <td>36</td>\n",
       "      <td>F</td>\n",
       "      <td>United States of America</td>\n",
       "      <td>United States of America</td>\n",
       "      <td>Other</td>\n",
       "      <td>Sometimes</td>\n",
       "      <td>0</td>\n",
       "      <td>1 to 5</td>\n",
       "      <td>I don't know</td>\n",
       "      <td>No</td>\n",
       "      <td>Yes</td>\n",
       "      <td>No</td>\n",
       "      <td>Very difficult</td>\n",
       "      <td>Yes</td>\n",
       "      <td>I don't know</td>\n",
       "      <td>I don't know</td>\n",
       "      <td>Maybe</td>\n",
       "      <td>Maybe</td>\n",
       "      <td>No</td>\n",
       "      <td>Not applicable to me</td>\n",
       "      <td>Often</td>\n",
       "      <td>1</td>\n",
       "    </tr>\n",
       "  </tbody>\n",
       "</table>\n",
       "</div>"
      ],
      "text/plain": [
       "   age gender           country(living)           working_country  \\\n",
       "0   33      M                    Canada                    Canada   \n",
       "1   40      M               Netherlands               Netherlands   \n",
       "2   21      M            United Kingdom            United Kingdom   \n",
       "3   36      M                    Brazil                    Brazil   \n",
       "4   36      F  United States of America  United States of America   \n",
       "\n",
       "                                 position remote work  self_employed  \\\n",
       "0                      Back-end Developer   Sometimes              0   \n",
       "1  Front-end Developer|Back-end Developer   Sometimes              0   \n",
       "2      Back-end Developer|DevOps/SysAdmin       Never              0   \n",
       "3                      Back-end Developer       Never              0   \n",
       "4                                   Other   Sometimes              0   \n",
       "\n",
       "  No_of_employees healthcare_coverage knowing_mental_health_care  \\\n",
       "0          1 to 5                 Yes                        Yes   \n",
       "1          1 to 5                  No                         No   \n",
       "2          1 to 5                 Yes                        Yes   \n",
       "3          1 to 5                  No                         No   \n",
       "4          1 to 5        I don't know                         No   \n",
       "\n",
       "  informed_campaign offer_options        asking_leave discuss_with_coworkers  \\\n",
       "0                No            No  Somewhat difficult                  Maybe   \n",
       "1                No  I don't know           Very easy                    Yes   \n",
       "2                No  I don't know        I don't know                  Maybe   \n",
       "3                No            No      Very difficult                     No   \n",
       "4               Yes            No      Very difficult                    Yes   \n",
       "\n",
       "  seriousness _mental_health family_history past_disorder currently_disorder  \\\n",
       "0               I don't know            Yes           Yes                 No   \n",
       "1               I don't know             No           Yes                 No   \n",
       "2               I don't know             No            No                 No   \n",
       "3               I don't know            Yes           Yes                Yes   \n",
       "4               I don't know   I don't know         Maybe              Maybe   \n",
       "\n",
       "  diagonised interfere the work(treatment) interfere the work(no treatment)  \\\n",
       "0        Yes                     Sometimes                            Often   \n",
       "1        Yes          Not applicable to me             Not applicable to me   \n",
       "2         No          Not applicable to me             Not applicable to me   \n",
       "3         No                         Often                            Often   \n",
       "4         No          Not applicable to me                            Often   \n",
       "\n",
       "   seek treatment  \n",
       "0               1  \n",
       "1               1  \n",
       "2               0  \n",
       "3               0  \n",
       "4               1  "
      ]
     },
     "execution_count": 108,
     "metadata": {},
     "output_type": "execute_result"
    }
   ],
   "source": [
    "data.head()"
   ]
  },
  {
   "cell_type": "code",
   "execution_count": 110,
   "id": "3c851e6d",
   "metadata": {},
   "outputs": [
    {
     "data": {
      "text/plain": [
       "(1433, 22)"
      ]
     },
     "execution_count": 110,
     "metadata": {},
     "output_type": "execute_result"
    }
   ],
   "source": [
    "data.shape"
   ]
  },
  {
   "cell_type": "code",
   "execution_count": 113,
   "id": "00af9d1e",
   "metadata": {},
   "outputs": [],
   "source": [
    "data.offer_options.fillna(value=\"NA\",inplace=True)"
   ]
  },
  {
   "cell_type": "code",
   "execution_count": 114,
   "id": "db0fa25c",
   "metadata": {},
   "outputs": [],
   "source": [
    "data.healthcare_coverage.fillna(value=\"NA\",inplace=True)"
   ]
  },
  {
   "cell_type": "code",
   "execution_count": 115,
   "id": "25b2408c",
   "metadata": {},
   "outputs": [],
   "source": [
    "data.informed_campaign.fillna(value=\"NA\",inplace=True)"
   ]
  },
  {
   "cell_type": "code",
   "execution_count": null,
   "id": "c3b0d3c6",
   "metadata": {},
   "outputs": [],
   "source": [
    "data.offer_options.fillna(value=\"NA\",inplace=True)"
   ]
  },
  {
   "cell_type": "code",
   "execution_count": 116,
   "id": "4722dcf4",
   "metadata": {},
   "outputs": [],
   "source": [
    "data.discuss_with_coworkers.fillna(value=\"NA\",inplace=True)"
   ]
  },
  {
   "cell_type": "code",
   "execution_count": 117,
   "id": "6bd99ed5",
   "metadata": {},
   "outputs": [],
   "source": [
    "data.knowing_mental_health_care.fillna(value=\"NA\",inplace=True)"
   ]
  },
  {
   "cell_type": "code",
   "execution_count": 119,
   "id": "3c51ec3c",
   "metadata": {},
   "outputs": [
    {
     "data": {
      "text/plain": [
       "asking_leave                        287\n",
       "No_of_employees                     287\n",
       "seriousness _mental_health          287\n",
       "age                                   0\n",
       "interfere the work(no treatment)      0\n",
       "interfere the work(treatment)         0\n",
       "diagonised                            0\n",
       "currently_disorder                    0\n",
       "past_disorder                         0\n",
       "family_history                        0\n",
       "discuss_with_coworkers                0\n",
       "offer_options                         0\n",
       "gender                                0\n",
       "informed_campaign                     0\n",
       "knowing_mental_health_care            0\n",
       "healthcare_coverage                   0\n",
       "self_employed                         0\n",
       "remote work                           0\n",
       "position                              0\n",
       "working_country                       0\n",
       "country(living)                       0\n",
       "seek treatment                        0\n",
       "dtype: int64"
      ]
     },
     "execution_count": 119,
     "metadata": {},
     "output_type": "execute_result"
    }
   ],
   "source": [
    "data.isna().sum().sort_values(ascending=False)"
   ]
  },
  {
   "cell_type": "code",
   "execution_count": 120,
   "id": "f2cb583b",
   "metadata": {},
   "outputs": [
    {
     "name": "stdout",
     "output_type": "stream",
     "text": [
      "['age', 'gender', 'country(living)', 'working_country', 'position', 'remote work', 'self_employed', 'No_of_employees', 'healthcare_coverage', 'knowing_mental_health_care', 'informed_campaign', 'offer_options', 'asking_leave', 'discuss_with_coworkers', 'seriousness _mental_health', 'family_history', 'past_disorder', 'currently_disorder', 'diagonised', 'interfere the work(treatment)', 'interfere the work(no treatment)', 'seek treatment']\n"
     ]
    }
   ],
   "source": [
    "print(data.columns.tolist())"
   ]
  },
  {
   "cell_type": "code",
   "execution_count": 123,
   "id": "e375a425",
   "metadata": {},
   "outputs": [],
   "source": [
    "data.rename(columns={'seriousness _mental_health':'seriousness'},inplace=True)"
   ]
  },
  {
   "cell_type": "code",
   "execution_count": 124,
   "id": "f8d1874d",
   "metadata": {},
   "outputs": [
    {
     "name": "stdout",
     "output_type": "stream",
     "text": [
      "['age', 'gender', 'country(living)', 'working_country', 'position', 'remote work', 'self_employed', 'No_of_employees', 'healthcare_coverage', 'knowing_mental_health_care', 'informed_campaign', 'offer_options', 'asking_leave', 'discuss_with_coworkers', 'seriousness', 'family_history', 'past_disorder', 'currently_disorder', 'diagonised', 'interfere the work(treatment)', 'interfere the work(no treatment)', 'seek treatment']\n"
     ]
    }
   ],
   "source": [
    "print(data.columns.tolist())"
   ]
  },
  {
   "cell_type": "code",
   "execution_count": 125,
   "id": "568328f8",
   "metadata": {},
   "outputs": [],
   "source": [
    "data.seriousness.fillna(value=\"NA\",inplace=True)"
   ]
  },
  {
   "cell_type": "code",
   "execution_count": 126,
   "id": "ec5de90e",
   "metadata": {},
   "outputs": [],
   "source": [
    "data.asking_leave.fillna(value=\"NA\",inplace=True)"
   ]
  },
  {
   "cell_type": "code",
   "execution_count": 127,
   "id": "6f1c45df",
   "metadata": {},
   "outputs": [
    {
     "name": "stdout",
     "output_type": "stream",
     "text": [
      "['age', 'gender', 'country(living)', 'working_country', 'position', 'remote work', 'self_employed', 'No_of_employees', 'healthcare_coverage', 'knowing_mental_health_care', 'informed_campaign', 'offer_options', 'asking_leave', 'discuss_with_coworkers', 'seriousness', 'family_history', 'past_disorder', 'currently_disorder', 'diagonised', 'interfere the work(treatment)', 'interfere the work(no treatment)', 'seek treatment']\n"
     ]
    }
   ],
   "source": [
    "print(data.columns.tolist())"
   ]
  },
  {
   "cell_type": "code",
   "execution_count": 131,
   "id": "3ad56202",
   "metadata": {},
   "outputs": [
    {
     "data": {
      "text/plain": [
       "26-100            292\n",
       "More than 1000    256\n",
       "100-500           248\n",
       "6 to 25           176\n",
       "500-1000           80\n",
       "1 to 5             60\n",
       "26-99              34\n",
       "Name: No_of_employees, dtype: int64"
      ]
     },
     "execution_count": 131,
     "metadata": {},
     "output_type": "execute_result"
    }
   ],
   "source": [
    "data[\"No_of_employees\"].value_counts()"
   ]
  },
  {
   "cell_type": "code",
   "execution_count": 132,
   "id": "31ac1033",
   "metadata": {},
   "outputs": [
    {
     "data": {
      "text/plain": [
       "1    839\n",
       "0    594\n",
       "Name: seek treatment, dtype: int64"
      ]
     },
     "execution_count": 132,
     "metadata": {},
     "output_type": "execute_result"
    }
   ],
   "source": [
    "data[\"seek treatment\"].value_counts()"
   ]
  },
  {
   "cell_type": "code",
   "execution_count": 133,
   "id": "8f1a6335",
   "metadata": {},
   "outputs": [],
   "source": [
    "data['No_of_employees'] = data['No_of_employees'].replace([\"26-100\"],\"74\")"
   ]
  },
  {
   "cell_type": "code",
   "execution_count": 134,
   "id": "6e4b3604",
   "metadata": {},
   "outputs": [],
   "source": [
    "data['No_of_employees'] = data['No_of_employees'].replace([\"100-500\"],\"400\")"
   ]
  },
  {
   "cell_type": "code",
   "execution_count": 135,
   "id": "645db10a",
   "metadata": {},
   "outputs": [],
   "source": [
    "data['No_of_employees'] = data['No_of_employees'].replace([\"6 to 25\"],\"21\")"
   ]
  },
  {
   "cell_type": "code",
   "execution_count": 136,
   "id": "109c2d11",
   "metadata": {},
   "outputs": [],
   "source": [
    "data['No_of_employees'] = data['No_of_employees'].replace([\"More than 1000\"],\"2500\")"
   ]
  },
  {
   "cell_type": "code",
   "execution_count": 137,
   "id": "03babb5a",
   "metadata": {},
   "outputs": [],
   "source": [
    "data['No_of_employees'] = data['No_of_employees'].replace([\"500-1000\"],\"500\")"
   ]
  },
  {
   "cell_type": "code",
   "execution_count": 138,
   "id": "354a529f",
   "metadata": {},
   "outputs": [],
   "source": [
    "data['No_of_employees'] = data['No_of_employees'].replace([\"1 to 5\"],\"4\")"
   ]
  },
  {
   "cell_type": "code",
   "execution_count": 139,
   "id": "0e30c638",
   "metadata": {},
   "outputs": [],
   "source": [
    "data['No_of_employees'] = data['No_of_employees'].replace([\"26-99\"],\"73\")"
   ]
  },
  {
   "cell_type": "code",
   "execution_count": 142,
   "id": "bd31b261",
   "metadata": {},
   "outputs": [
    {
     "data": {
      "text/plain": [
       "<bound method IndexOpsMixin.nunique of 0         4\n",
       "1         4\n",
       "2         4\n",
       "3         4\n",
       "4         4\n",
       "       ... \n",
       "1428    NaN\n",
       "1429    NaN\n",
       "1430    NaN\n",
       "1431    NaN\n",
       "1432    NaN\n",
       "Name: No_of_employees, Length: 1433, dtype: object>"
      ]
     },
     "execution_count": 142,
     "metadata": {},
     "output_type": "execute_result"
    }
   ],
   "source": []
  },
  {
   "cell_type": "code",
   "execution_count": 143,
   "id": "397755b4",
   "metadata": {},
   "outputs": [],
   "source": [
    "data.No_of_employees.fillna(value=\"NA\",inplace=True)"
   ]
  },
  {
   "cell_type": "code",
   "execution_count": 144,
   "id": "a61ab6f3",
   "metadata": {},
   "outputs": [
    {
     "data": {
      "text/plain": [
       "74      292\n",
       "NA      287\n",
       "2500    256\n",
       "400     248\n",
       "21      176\n",
       "500      80\n",
       "4        60\n",
       "73       34\n",
       "Name: No_of_employees, dtype: int64"
      ]
     },
     "execution_count": 144,
     "metadata": {},
     "output_type": "execute_result"
    }
   ],
   "source": [
    "data[\"No_of_employees\"].value_counts()"
   ]
  },
  {
   "cell_type": "code",
   "execution_count": 145,
   "id": "ab444426",
   "metadata": {},
   "outputs": [],
   "source": [
    "data['No_of_employees'] = data['No_of_employees'].replace([\"NA\"],\"0\")"
   ]
  },
  {
   "cell_type": "code",
   "execution_count": 146,
   "id": "a9f197e5",
   "metadata": {},
   "outputs": [
    {
     "data": {
      "text/plain": [
       "74      292\n",
       "0       287\n",
       "2500    256\n",
       "400     248\n",
       "21      176\n",
       "500      80\n",
       "4        60\n",
       "73       34\n",
       "Name: No_of_employees, dtype: int64"
      ]
     },
     "execution_count": 146,
     "metadata": {},
     "output_type": "execute_result"
    }
   ],
   "source": [
    "data[\"No_of_employees\"].value_counts()"
   ]
  },
  {
   "cell_type": "code",
   "execution_count": 147,
   "id": "a1af25e9",
   "metadata": {},
   "outputs": [],
   "source": [
    "data['No_of_employees']=data['No_of_employees'].astype('float')"
   ]
  },
  {
   "cell_type": "code",
   "execution_count": 149,
   "id": "38e8732b",
   "metadata": {},
   "outputs": [
    {
     "data": {
      "text/plain": [
       "dtype('float64')"
      ]
     },
     "execution_count": 149,
     "metadata": {},
     "output_type": "execute_result"
    }
   ],
   "source": [
    "data['No_of_employees'].dtype"
   ]
  },
  {
   "cell_type": "code",
   "execution_count": 150,
   "id": "58145912",
   "metadata": {},
   "outputs": [
    {
     "name": "stdout",
     "output_type": "stream",
     "text": [
      "<class 'pandas.core.frame.DataFrame'>\n",
      "RangeIndex: 1433 entries, 0 to 1432\n",
      "Data columns (total 22 columns):\n",
      " #   Column                            Non-Null Count  Dtype  \n",
      "---  ------                            --------------  -----  \n",
      " 0   age                               1433 non-null   int64  \n",
      " 1   gender                            1433 non-null   object \n",
      " 2   country(living)                   1433 non-null   object \n",
      " 3   working_country                   1433 non-null   object \n",
      " 4   position                          1433 non-null   object \n",
      " 5   remote work                       1433 non-null   object \n",
      " 6   self_employed                     1433 non-null   int64  \n",
      " 7   No_of_employees                   1433 non-null   float64\n",
      " 8   healthcare_coverage               1433 non-null   object \n",
      " 9   knowing_mental_health_care        1433 non-null   object \n",
      " 10  informed_campaign                 1433 non-null   object \n",
      " 11  offer_options                     1433 non-null   object \n",
      " 12  asking_leave                      1433 non-null   object \n",
      " 13  discuss_with_coworkers            1433 non-null   object \n",
      " 14  seriousness                       1433 non-null   object \n",
      " 15  family_history                    1433 non-null   object \n",
      " 16  past_disorder                     1433 non-null   object \n",
      " 17  currently_disorder                1433 non-null   object \n",
      " 18  diagonised                        1433 non-null   object \n",
      " 19  interfere the work(treatment)     1433 non-null   object \n",
      " 20  interfere the work(no treatment)  1433 non-null   object \n",
      " 21  seek treatment                    1433 non-null   int64  \n",
      "dtypes: float64(1), int64(3), object(18)\n",
      "memory usage: 246.4+ KB\n"
     ]
    }
   ],
   "source": [
    "data.info()"
   ]
  },
  {
   "cell_type": "code",
   "execution_count": 157,
   "id": "7aa68876",
   "metadata": {},
   "outputs": [
    {
     "data": {
      "text/plain": [
       "Back-end Developer                                                                                                  263\n",
       "Front-end Developer                                                                                                 125\n",
       "Other                                                                                                               112\n",
       "Supervisor/Team Lead                                                                                                 68\n",
       "Back-end Developer|Front-end Developer                                                                               61\n",
       "                                                                                                                   ... \n",
       "One-person shop|Front-end Developer|Back-end Developer|Supervisor/Team Lead|Executive Leadership                      1\n",
       "Supervisor/Team Lead|Back-end Developer|DevOps/SysAdmin|Dev Evangelist/Advocate                                       1\n",
       "One-person shop|DevOps/SysAdmin                                                                                       1\n",
       "One-person shop|Designer|Sales|Support|Supervisor/Team Lead                                                           1\n",
       "One-person shop|Front-end Developer|Back-end Developer|DevOps/SysAdmin|Supervisor/Team Lead|Executive Leadership      1\n",
       "Name: position, Length: 264, dtype: int64"
      ]
     },
     "execution_count": 157,
     "metadata": {},
     "output_type": "execute_result"
    }
   ],
   "source": [
    "data[\"position\"].value_counts()"
   ]
  },
  {
   "cell_type": "code",
   "execution_count": 158,
   "id": "f017906d",
   "metadata": {},
   "outputs": [
    {
     "data": {
      "text/plain": [
       "Yes                                531\n",
       "I don't know                       319\n",
       "NA                                 287\n",
       "No                                 213\n",
       "Not eligible for coverage / N/A     83\n",
       "Name: healthcare_coverage, dtype: int64"
      ]
     },
     "execution_count": 158,
     "metadata": {},
     "output_type": "execute_result"
    }
   ],
   "source": [
    "data[\"healthcare_coverage\"].value_counts()"
   ]
  },
  {
   "cell_type": "code",
   "execution_count": 159,
   "id": "355dc304",
   "metadata": {},
   "outputs": [],
   "source": [
    "data['healthcare_coverage'] = data['healthcare_coverage'].replace([\"Yes\",\"I don't know\",\"NA\",\"No\",\"Not eligible for coverage / N/A\"],[\"Y\",'unaware','NA','N','NE'])"
   ]
  },
  {
   "cell_type": "code",
   "execution_count": 160,
   "id": "c13f6979",
   "metadata": {},
   "outputs": [
    {
     "data": {
      "text/plain": [
       "Y          531\n",
       "unaware    319\n",
       "NA         287\n",
       "N          213\n",
       "NE          83\n",
       "Name: healthcare_coverage, dtype: int64"
      ]
     },
     "execution_count": 160,
     "metadata": {},
     "output_type": "execute_result"
    }
   ],
   "source": [
    "data[\"healthcare_coverage\"].value_counts()"
   ]
  },
  {
   "cell_type": "code",
   "execution_count": 162,
   "id": "c9b785e6",
   "metadata": {},
   "outputs": [
    {
     "data": {
      "text/plain": [
       "Often                   538\n",
       "Not applicable to me    468\n",
       "Sometimes               363\n",
       "Rarely                   52\n",
       "Never                    12\n",
       "Name: interfere the work(no treatment), dtype: int64"
      ]
     },
     "execution_count": 162,
     "metadata": {},
     "output_type": "execute_result"
    }
   ],
   "source": [
    "data[\"interfere the work(no treatment)\"].value_counts()"
   ]
  },
  {
   "cell_type": "code",
   "execution_count": 163,
   "id": "8c1292ec",
   "metadata": {},
   "outputs": [],
   "source": [
    "data['interfere the work(no treatment)'] = data['interfere the work(no treatment)'].replace([\"Not applicable to me\"],\"Nill\")"
   ]
  },
  {
   "cell_type": "code",
   "execution_count": 164,
   "id": "d4d59bad",
   "metadata": {},
   "outputs": [
    {
     "data": {
      "text/plain": [
       "Not applicable to me    557\n",
       "Sometimes               369\n",
       "Rarely                  322\n",
       "Never                   120\n",
       "Often                    65\n",
       "Name: interfere the work(treatment), dtype: int64"
      ]
     },
     "execution_count": 164,
     "metadata": {},
     "output_type": "execute_result"
    }
   ],
   "source": [
    "data['interfere the work(treatment)'].value_counts()"
   ]
  },
  {
   "cell_type": "code",
   "execution_count": 165,
   "id": "e7be914b",
   "metadata": {},
   "outputs": [],
   "source": [
    "data['interfere the work(treatment)'] = data['interfere the work(treatment)'].replace([\"Not applicable to me\"],\"Nill\")"
   ]
  },
  {
   "cell_type": "code",
   "execution_count": 166,
   "id": "1ba0b7e4",
   "metadata": {},
   "outputs": [
    {
     "data": {
      "text/plain": [
       "No     717\n",
       "Yes    716\n",
       "Name: diagonised, dtype: int64"
      ]
     },
     "execution_count": 166,
     "metadata": {},
     "output_type": "execute_result"
    }
   ],
   "source": [
    "data['diagonised'].value_counts()"
   ]
  },
  {
   "cell_type": "code",
   "execution_count": 172,
   "id": "f0fb506d",
   "metadata": {},
   "outputs": [],
   "source": [
    "data['diagonised']=data[\"diagonised\"].replace([\"Yes\",\"No\"],[0,1])"
   ]
  },
  {
   "cell_type": "code",
   "execution_count": 173,
   "id": "66e48d43",
   "metadata": {},
   "outputs": [
    {
     "data": {
      "text/plain": [
       "1    717\n",
       "0    716\n",
       "Name: diagonised, dtype: int64"
      ]
     },
     "execution_count": 173,
     "metadata": {},
     "output_type": "execute_result"
    }
   ],
   "source": [
    "data['diagonised'].value_counts()"
   ]
  },
  {
   "cell_type": "code",
   "execution_count": 174,
   "id": "3dc561f8",
   "metadata": {},
   "outputs": [],
   "source": [
    "data['diagonised']=data[\"diagonised\"].replace([1,0],[0,1])"
   ]
  },
  {
   "cell_type": "code",
   "execution_count": 175,
   "id": "76bd3a30",
   "metadata": {},
   "outputs": [
    {
     "data": {
      "text/plain": [
       "0    717\n",
       "1    716\n",
       "Name: diagonised, dtype: int64"
      ]
     },
     "execution_count": 175,
     "metadata": {},
     "output_type": "execute_result"
    }
   ],
   "source": [
    "data['diagonised'].value_counts()"
   ]
  },
  {
   "cell_type": "code",
   "execution_count": 177,
   "id": "43aba22e",
   "metadata": {},
   "outputs": [
    {
     "data": {
      "text/plain": [
       "Yes      575\n",
       "No       531\n",
       "Maybe    327\n",
       "Name: currently_disorder, dtype: int64"
      ]
     },
     "execution_count": 177,
     "metadata": {},
     "output_type": "execute_result"
    }
   ],
   "source": [
    "data['currently_disorder'].value_counts()"
   ]
  },
  {
   "cell_type": "code",
   "execution_count": 178,
   "id": "50f622c5",
   "metadata": {},
   "outputs": [
    {
     "data": {
      "text/plain": [
       "Yes      736\n",
       "No       451\n",
       "Maybe    246\n",
       "Name: past_disorder, dtype: int64"
      ]
     },
     "execution_count": 178,
     "metadata": {},
     "output_type": "execute_result"
    }
   ],
   "source": [
    "data['past_disorder'].value_counts()"
   ]
  },
  {
   "cell_type": "code",
   "execution_count": 179,
   "id": "b09e6983",
   "metadata": {},
   "outputs": [
    {
     "data": {
      "text/plain": [
       "age                                 0\n",
       "gender                              0\n",
       "interfere the work(no treatment)    0\n",
       "interfere the work(treatment)       0\n",
       "diagonised                          0\n",
       "currently_disorder                  0\n",
       "past_disorder                       0\n",
       "family_history                      0\n",
       "seriousness                         0\n",
       "discuss_with_coworkers              0\n",
       "asking_leave                        0\n",
       "offer_options                       0\n",
       "informed_campaign                   0\n",
       "knowing_mental_health_care          0\n",
       "healthcare_coverage                 0\n",
       "No_of_employees                     0\n",
       "self_employed                       0\n",
       "remote work                         0\n",
       "position                            0\n",
       "working_country                     0\n",
       "country(living)                     0\n",
       "seek treatment                      0\n",
       "dtype: int64"
      ]
     },
     "execution_count": 179,
     "metadata": {},
     "output_type": "execute_result"
    }
   ],
   "source": [
    "data.isna().sum().sort_values(ascending=False)"
   ]
  },
  {
   "cell_type": "code",
   "execution_count": 180,
   "id": "1d63d582",
   "metadata": {},
   "outputs": [
    {
     "data": {
      "text/plain": [
       "Yes             670\n",
       "No              488\n",
       "I don't know    275\n",
       "Name: family_history, dtype: int64"
      ]
     },
     "execution_count": 180,
     "metadata": {},
     "output_type": "execute_result"
    }
   ],
   "source": [
    "data['family_history'].value_counts()"
   ]
  },
  {
   "cell_type": "code",
   "execution_count": 187,
   "id": "99e38292",
   "metadata": {},
   "outputs": [],
   "source": [
    "data[\"family_history\"]=data[\"family_history\"].replace([\"I don't know\",\"Yes\",\"No\"],[\"unaware\",\"Y\",\"N\"])"
   ]
  },
  {
   "cell_type": "code",
   "execution_count": 188,
   "id": "0f1f857e",
   "metadata": {},
   "outputs": [
    {
     "data": {
      "text/plain": [
       "Y          670\n",
       "N          488\n",
       "unaware    275\n",
       "Name: family_history, dtype: int64"
      ]
     },
     "execution_count": 188,
     "metadata": {},
     "output_type": "execute_result"
    }
   ],
   "source": [
    "data['family_history'].value_counts()"
   ]
  },
  {
   "cell_type": "code",
   "execution_count": 183,
   "id": "f734b827",
   "metadata": {},
   "outputs": [
    {
     "data": {
      "text/plain": [
       "I don't know    493\n",
       "Yes             350\n",
       "No              303\n",
       "NA              287\n",
       "Name: seriousness, dtype: int64"
      ]
     },
     "execution_count": 183,
     "metadata": {},
     "output_type": "execute_result"
    }
   ],
   "source": [
    "data['seriousness'].value_counts()"
   ]
  },
  {
   "cell_type": "code",
   "execution_count": 184,
   "id": "a45c9b58",
   "metadata": {},
   "outputs": [],
   "source": [
    "data[\"seriousness\"]=data[\"seriousness\"].replace([\"I don't know\",\"Yes\",\"No\"],[\"unaware\",\"Y\",\"N\"])"
   ]
  },
  {
   "cell_type": "code",
   "execution_count": 186,
   "id": "78e8f928",
   "metadata": {},
   "outputs": [
    {
     "data": {
      "text/plain": [
       "Maybe    479\n",
       "No       392\n",
       "NA       287\n",
       "Yes      275\n",
       "Name: discuss_with_coworkers, dtype: int64"
      ]
     },
     "execution_count": 186,
     "metadata": {},
     "output_type": "execute_result"
    }
   ],
   "source": [
    "data[\"discuss_with_coworkers\"].value_counts()"
   ]
  },
  {
   "cell_type": "code",
   "execution_count": 189,
   "id": "47719122",
   "metadata": {},
   "outputs": [],
   "source": [
    "data[\"discuss_with_coworkers\"]=data[\"discuss_with_coworkers\"].replace([\"Yes\",\"No\"],[\"Y\",\"N\"])"
   ]
  },
  {
   "cell_type": "code",
   "execution_count": 190,
   "id": "287acb87",
   "metadata": {},
   "outputs": [
    {
     "data": {
      "text/plain": [
       "NA                            287\n",
       "Somewhat easy                 281\n",
       "Very easy                     220\n",
       "Somewhat difficult            199\n",
       "Neither easy nor difficult    178\n",
       "I don't know                  150\n",
       "Very difficult                118\n",
       "Name: asking_leave, dtype: int64"
      ]
     },
     "execution_count": 190,
     "metadata": {},
     "output_type": "execute_result"
    }
   ],
   "source": [
    "data[\"asking_leave\"].value_counts()"
   ]
  },
  {
   "cell_type": "code",
   "execution_count": 191,
   "id": "d1cb0e5e",
   "metadata": {},
   "outputs": [],
   "source": [
    "data[\"asking_leave\"]=data[\"asking_leave\"].replace([\"Somewhat easy\",\"Somewhat difficult\",\"I don't know\",\"Neither easy nor difficult\",\"Very difficult\",\"Very easy\"],[\"easy\",\"difficult\",\"nill\",\"ok\",\"vdifficult\",\"veasy\"])"
   ]
  },
  {
   "cell_type": "code",
   "execution_count": 192,
   "id": "17ab26e6",
   "metadata": {},
   "outputs": [
    {
     "data": {
      "text/plain": [
       "NA            287\n",
       "easy          281\n",
       "veasy         220\n",
       "difficult     199\n",
       "ok            178\n",
       "nill          150\n",
       "vdifficult    118\n",
       "Name: asking_leave, dtype: int64"
      ]
     },
     "execution_count": 192,
     "metadata": {},
     "output_type": "execute_result"
    }
   ],
   "source": [
    "data[\"asking_leave\"].value_counts()"
   ]
  },
  {
   "cell_type": "code",
   "execution_count": 193,
   "id": "dcfedd5f",
   "metadata": {},
   "outputs": [
    {
     "data": {
      "text/plain": [
       "No              531\n",
       "I don't know    320\n",
       "Yes             295\n",
       "NA              287\n",
       "Name: offer_options, dtype: int64"
      ]
     },
     "execution_count": 193,
     "metadata": {},
     "output_type": "execute_result"
    }
   ],
   "source": [
    "data[\"offer_options\"].value_counts()"
   ]
  },
  {
   "cell_type": "code",
   "execution_count": 194,
   "id": "1f90f18e",
   "metadata": {},
   "outputs": [],
   "source": [
    "data[\"offer_options\"]=data[\"offer_options\"].replace([\"No\",\"I don't know\",\"Yes\"],[\"N\",\"Y\",\"Nill\"])"
   ]
  },
  {
   "cell_type": "code",
   "execution_count": 195,
   "id": "18809ad8",
   "metadata": {},
   "outputs": [
    {
     "data": {
      "text/plain": [
       "No              813\n",
       "NA              287\n",
       "Yes             230\n",
       "I don't know    103\n",
       "Name: informed_campaign, dtype: int64"
      ]
     },
     "execution_count": 195,
     "metadata": {},
     "output_type": "execute_result"
    }
   ],
   "source": [
    "data[\"informed_campaign\"].value_counts()"
   ]
  },
  {
   "cell_type": "code",
   "execution_count": 196,
   "id": "4ee88fcb",
   "metadata": {},
   "outputs": [],
   "source": [
    "data[\"informed_campaign\"]=data[\"informed_campaign\"].replace([\"No\",\"I don't know\",\"Yes\"],[\"N\",\"Y\",\"Nill\"])"
   ]
  },
  {
   "cell_type": "code",
   "execution_count": 199,
   "id": "dc9e197c",
   "metadata": {},
   "outputs": [
    {
     "data": {
      "text/plain": [
       "N       813\n",
       "NA      287\n",
       "Nill    230\n",
       "Y       103\n",
       "Name: informed_campaign, dtype: int64"
      ]
     },
     "execution_count": 199,
     "metadata": {},
     "output_type": "execute_result"
    }
   ],
   "source": [
    "data[\"informed_campaign\"].value_counts()"
   ]
  },
  {
   "cell_type": "code",
   "execution_count": 200,
   "id": "6b2487fd",
   "metadata": {},
   "outputs": [],
   "source": [
    "data[\"informed_campaign\"]=data[\"informed_campaign\"].replace([\"Nill\",\"Y\"],[\"Y\",\"Nill\"])"
   ]
  },
  {
   "cell_type": "code",
   "execution_count": 197,
   "id": "34cf2eb2",
   "metadata": {},
   "outputs": [
    {
     "data": {
      "text/plain": [
       "NA               420\n",
       "No               354\n",
       "I am not sure    352\n",
       "Yes              307\n",
       "Name: knowing_mental_health_care, dtype: int64"
      ]
     },
     "execution_count": 197,
     "metadata": {},
     "output_type": "execute_result"
    }
   ],
   "source": [
    "data[\"knowing_mental_health_care\"].value_counts()"
   ]
  },
  {
   "cell_type": "code",
   "execution_count": 198,
   "id": "2046cfc8",
   "metadata": {},
   "outputs": [],
   "source": [
    "data[\"knowing_mental_health_care\"]=data[\"knowing_mental_health_care\"].replace([\"No\",\"I am not sure\",\"Yes\"],[\"N\",\"Nill\",\"Y\"])"
   ]
  },
  {
   "cell_type": "code",
   "execution_count": 203,
   "id": "8a5c1c4b",
   "metadata": {
    "scrolled": true
   },
   "outputs": [
    {
     "data": {
      "text/plain": [
       "United States of America    851\n",
       "United Kingdom              183\n",
       "Canada                       74\n",
       "Germany                      58\n",
       "Netherlands                  47\n",
       "Australia                    34\n",
       "Sweden                       20\n",
       "Ireland                      15\n",
       "France                       14\n",
       "Switzerland                  10\n",
       "Brazil                       10\n",
       "Russia                        9\n",
       "New Zealand                   9\n",
       "India                         9\n",
       "Finland                       7\n",
       "Bulgaria                      7\n",
       "Denmark                       7\n",
       "Belgium                       5\n",
       "Poland                        4\n",
       "South Africa                  4\n",
       "Austria                       4\n",
       "Norway                        3\n",
       "Chile                         3\n",
       "Spain                         3\n",
       "Italy                         3\n",
       "Czech Republic                3\n",
       "Romania                       3\n",
       "Other                         2\n",
       "Pakistan                      2\n",
       "Israel                        2\n",
       "Mexico                        2\n",
       "Colombia                      2\n",
       "Afghanistan                   2\n",
       "Bosnia and Herzegovina        2\n",
       "Estonia                       2\n",
       "Ecuador                       1\n",
       "Vietnam                       1\n",
       "Serbia                        1\n",
       "Argentina                     1\n",
       "Bangladesh                    1\n",
       "Guatemala                     1\n",
       "United Arab Emirates          1\n",
       "Lithuania                     1\n",
       "Slovakia                      1\n",
       "Brunei                        1\n",
       "Venezuela                     1\n",
       "Costa Rica                    1\n",
       "Iran                          1\n",
       "Turkey                        1\n",
       "Japan                         1\n",
       "China                         1\n",
       "Greece                        1\n",
       "Hungary                       1\n",
       "Name: working_country, dtype: int64"
      ]
     },
     "execution_count": 203,
     "metadata": {},
     "output_type": "execute_result"
    }
   ],
   "source": [
    "data[\"working_country\"].value_counts()"
   ]
  },
  {
   "cell_type": "code",
   "execution_count": 204,
   "id": "4b2ecfa1",
   "metadata": {},
   "outputs": [],
   "source": [
    "data[\"working_country\"]=data[\"working_country\"].replace([\"United States of America\",\"United Kingdom\",\"Canada\",\"Germany\",\"Netherlands\",\"Australia\",\"Sweden\",\"Ireland\",\"France\",\"Switzerland\",\"Brazil\",\"Russia\",\"New Zealand\",\"India\",\"Finland\",\"Bulgaria\",\"Denmark\"],[\"US\",\"UK\",\"CAN\",\"GER\",\"NET\",\"AS\",\"SWD\",\"IR\",\"FR\",\"SWZ\",\"BR\",\"RU\",\"NW\",\"IN\",\"FI\",\"BU\",\"DE\"])"
   ]
  },
  {
   "cell_type": "code",
   "execution_count": 205,
   "id": "40126950",
   "metadata": {},
   "outputs": [],
   "source": [
    "data[\"working_country\"]=data[\"working_country\"].replace([\"Belgium\",\"Poland\",\"South Africa\",\"Austria\",\"Norway\",\"Chile\",\"Spain\",\"Italy\",\"Czech Republic\",\"Romania\",\"Other\",\"Pakistan\",\"Israel\",\"Mexico\",\"Colombia\",\"Afghanistan\",\"Bosnia and Herzegovina\",\"Estonia\",\"Ecuador\"],[\"BEL\",\"POL\",\"SA\",\"AUS\",\"NOR\",\"CHI\",\"SPA\",\"ITA\",\"CZR\",\"ROM\",\"OTH\",\"PAK\",\"ISR\",\"MEX\",\"COL\",\"AF\",\"BAH\",\"ES\",\"EUD\"])"
   ]
  },
  {
   "cell_type": "code",
   "execution_count": 206,
   "id": "e049ad0a",
   "metadata": {},
   "outputs": [],
   "source": [
    "data[\"working_country\"]=data[\"working_country\"].replace([\"Vietnam\",\"Serbia\",\"Argentina\",\"Bangladesh\",\"Guatemala\",\"United Arab Emirates\",\"Lithuania\",\"Slovakia\",\"Brunei\",\"Venezuela\",\"Costa Rica\",\"Iran\",\"Turkey\",\"Japan\",\"China\",\"Greece\",\"Hungary\"],[\"VIE\",\"SER\",\"ARG\",\"BAN\",\"GUA\",\"UAE\",\"LIT\",\"SLO\",\"BRUN\",\"VENZ\",\"COST\",\"IRN\",\"TUR\",\"JAP\",\"CHN\",\"GRC\",\"HUNG\"])"
   ]
  },
  {
   "cell_type": "code",
   "execution_count": 207,
   "id": "6fee7c6b",
   "metadata": {},
   "outputs": [
    {
     "data": {
      "text/plain": [
       "US      851\n",
       "UK      183\n",
       "CAN      74\n",
       "GER      58\n",
       "NET      47\n",
       "AS       34\n",
       "SWD      20\n",
       "IR       15\n",
       "FR       14\n",
       "BR       10\n",
       "SWZ      10\n",
       "RU        9\n",
       "NW        9\n",
       "IN        9\n",
       "FI        7\n",
       "BU        7\n",
       "DE        7\n",
       "BEL       5\n",
       "AUS       4\n",
       "SA        4\n",
       "POL       4\n",
       "ITA       3\n",
       "ROM       3\n",
       "CHI       3\n",
       "CZR       3\n",
       "NOR       3\n",
       "SPA       3\n",
       "AF        2\n",
       "OTH       2\n",
       "COL       2\n",
       "BAH       2\n",
       "PAK       2\n",
       "ES        2\n",
       "ISR       2\n",
       "MEX       2\n",
       "TUR       1\n",
       "SER       1\n",
       "LIT       1\n",
       "JAP       1\n",
       "HUNG      1\n",
       "CHN       1\n",
       "BAN       1\n",
       "GRC       1\n",
       "BRUN      1\n",
       "VIE       1\n",
       "SLO       1\n",
       "IRN       1\n",
       "COST      1\n",
       "GUA       1\n",
       "ARG       1\n",
       "VENZ      1\n",
       "UAE       1\n",
       "EUD       1\n",
       "Name: working_country, dtype: int64"
      ]
     },
     "execution_count": 207,
     "metadata": {},
     "output_type": "execute_result"
    }
   ],
   "source": [
    "data[\"working_country\"].value_counts()"
   ]
  },
  {
   "cell_type": "code",
   "execution_count": 208,
   "id": "8ee5251d",
   "metadata": {},
   "outputs": [
    {
     "data": {
      "text/plain": [
       "United States of America    840\n",
       "United Kingdom              180\n",
       "Canada                       78\n",
       "Germany                      58\n",
       "Netherlands                  48\n",
       "Australia                    35\n",
       "Sweden                       19\n",
       "France                       16\n",
       "Ireland                      15\n",
       "Brazil                       10\n",
       "Switzerland                  10\n",
       "New Zealand                   9\n",
       "India                         9\n",
       "Russia                        9\n",
       "Denmark                       7\n",
       "Finland                       7\n",
       "Bulgaria                      7\n",
       "Italy                         5\n",
       "Belgium                       5\n",
       "Austria                       4\n",
       "Spain                         4\n",
       "Poland                        4\n",
       "South Africa                  4\n",
       "Romania                       4\n",
       "Pakistan                      3\n",
       "Norway                        3\n",
       "Chile                         3\n",
       "Czech Republic                3\n",
       "Israel                        2\n",
       "Colombia                      2\n",
       "Lithuania                     2\n",
       "Mexico                        2\n",
       "Other                         2\n",
       "Japan                         2\n",
       "Estonia                       2\n",
       "Bosnia and Herzegovina        2\n",
       "Afghanistan                   2\n",
       "Guatemala                     1\n",
       "Serbia                        1\n",
       "Bangladesh                    1\n",
       "Ecuador                       1\n",
       "Vietnam                       1\n",
       "Taiwan                        1\n",
       "Argentina                     1\n",
       "Slovakia                      1\n",
       "Brunei                        1\n",
       "Venezuela                     1\n",
       "Costa Rica                    1\n",
       "Iran                          1\n",
       "Algeria                       1\n",
       "China                         1\n",
       "Greece                        1\n",
       "Hungary                       1\n",
       "Name: country(living), dtype: int64"
      ]
     },
     "execution_count": 208,
     "metadata": {},
     "output_type": "execute_result"
    }
   ],
   "source": [
    "data['country(living)'].value_counts()"
   ]
  },
  {
   "cell_type": "code",
   "execution_count": 209,
   "id": "78a7bf0c",
   "metadata": {},
   "outputs": [],
   "source": [
    "data[\"country(living)\"]=data[\"country(living)\"].replace([\"United States of America\",\"United Kingdom\",\"Canada\",\"Germany\",\"Netherlands\",\"Australia\",\"Sweden\",\"Ireland\",\"France\",\"Switzerland\",\"Brazil\",\"Russia\",\"New Zealand\",\"India\",\"Finland\",\"Bulgaria\",\"Denmark\"],[\"US\",\"UK\",\"CAN\",\"GER\",\"NET\",\"AS\",\"SWD\",\"IR\",\"FR\",\"SWZ\",\"BR\",\"RU\",\"NW\",\"IN\",\"FI\",\"BU\",\"DE\"])"
   ]
  },
  {
   "cell_type": "code",
   "execution_count": 210,
   "id": "ec477ee0",
   "metadata": {},
   "outputs": [],
   "source": [
    "data[\"country(living)\"]=data[\"country(living)\"].replace([\"Belgium\",\"Poland\",\"South Africa\",\"Austria\",\"Norway\",\"Chile\",\"Spain\",\"Italy\",\"Czech Republic\",\"Romania\",\"Other\",\"Pakistan\",\"Israel\",\"Mexico\",\"Colombia\",\"Afghanistan\",\"Bosnia and Herzegovina\",\"Estonia\",\"Ecuador\"],[\"BEL\",\"POL\",\"SA\",\"AUS\",\"NOR\",\"CHI\",\"SPA\",\"ITA\",\"CZR\",\"ROM\",\"OTH\",\"PAK\",\"ISR\",\"MEX\",\"COL\",\"AF\",\"BAH\",\"ES\",\"EUD\"])"
   ]
  },
  {
   "cell_type": "code",
   "execution_count": 211,
   "id": "b2df0e5c",
   "metadata": {},
   "outputs": [],
   "source": [
    "data[\"country(living)\"]=data[\"country(living)\"].replace([\"Vietnam\",\"Serbia\",\"Argentina\",\"Bangladesh\",\"Guatemala\",\"United Arab Emirates\",\"Lithuania\",\"Slovakia\",\"Brunei\",\"Venezuela\",\"Costa Rica\",\"Iran\",\"Turkey\",\"Japan\",\"China\",\"Greece\",\"Hungary\"],[\"VIE\",\"SER\",\"ARG\",\"BAN\",\"GUA\",\"UAE\",\"LIT\",\"SLO\",\"BRUN\",\"VENZ\",\"COST\",\"IRN\",\"TUR\",\"JAP\",\"CHN\",\"GRC\",\"HUNG\"])"
   ]
  },
  {
   "cell_type": "code",
   "execution_count": 213,
   "id": "0e7a1a61",
   "metadata": {},
   "outputs": [
    {
     "data": {
      "text/plain": [
       "1    839\n",
       "0    594\n",
       "Name: seek treatment, dtype: int64"
      ]
     },
     "execution_count": 213,
     "metadata": {},
     "output_type": "execute_result"
    }
   ],
   "source": [
    "data['seek treatment'].value_counts()"
   ]
  },
  {
   "cell_type": "code",
   "execution_count": 214,
   "id": "0be1340b",
   "metadata": {},
   "outputs": [
    {
     "data": {
      "text/html": [
       "<div>\n",
       "<style scoped>\n",
       "    .dataframe tbody tr th:only-of-type {\n",
       "        vertical-align: middle;\n",
       "    }\n",
       "\n",
       "    .dataframe tbody tr th {\n",
       "        vertical-align: top;\n",
       "    }\n",
       "\n",
       "    .dataframe thead th {\n",
       "        text-align: right;\n",
       "    }\n",
       "</style>\n",
       "<table border=\"1\" class=\"dataframe\">\n",
       "  <thead>\n",
       "    <tr style=\"text-align: right;\">\n",
       "      <th></th>\n",
       "      <th>age</th>\n",
       "      <th>gender</th>\n",
       "      <th>country(living)</th>\n",
       "      <th>working_country</th>\n",
       "      <th>position</th>\n",
       "      <th>remote work</th>\n",
       "      <th>self_employed</th>\n",
       "      <th>No_of_employees</th>\n",
       "      <th>healthcare_coverage</th>\n",
       "      <th>knowing_mental_health_care</th>\n",
       "      <th>informed_campaign</th>\n",
       "      <th>offer_options</th>\n",
       "      <th>asking_leave</th>\n",
       "      <th>discuss_with_coworkers</th>\n",
       "      <th>seriousness</th>\n",
       "      <th>family_history</th>\n",
       "      <th>past_disorder</th>\n",
       "      <th>currently_disorder</th>\n",
       "      <th>diagonised</th>\n",
       "      <th>interfere the work(treatment)</th>\n",
       "      <th>interfere the work(no treatment)</th>\n",
       "      <th>seek treatment</th>\n",
       "    </tr>\n",
       "  </thead>\n",
       "  <tbody>\n",
       "    <tr>\n",
       "      <th>0</th>\n",
       "      <td>33</td>\n",
       "      <td>M</td>\n",
       "      <td>CAN</td>\n",
       "      <td>CAN</td>\n",
       "      <td>Back-end Developer</td>\n",
       "      <td>Sometimes</td>\n",
       "      <td>0</td>\n",
       "      <td>4.0</td>\n",
       "      <td>Y</td>\n",
       "      <td>Y</td>\n",
       "      <td>N</td>\n",
       "      <td>N</td>\n",
       "      <td>difficult</td>\n",
       "      <td>Maybe</td>\n",
       "      <td>unaware</td>\n",
       "      <td>Y</td>\n",
       "      <td>Yes</td>\n",
       "      <td>No</td>\n",
       "      <td>1</td>\n",
       "      <td>Sometimes</td>\n",
       "      <td>Often</td>\n",
       "      <td>1</td>\n",
       "    </tr>\n",
       "    <tr>\n",
       "      <th>1</th>\n",
       "      <td>40</td>\n",
       "      <td>M</td>\n",
       "      <td>NET</td>\n",
       "      <td>NET</td>\n",
       "      <td>Front-end Developer|Back-end Developer</td>\n",
       "      <td>Sometimes</td>\n",
       "      <td>0</td>\n",
       "      <td>4.0</td>\n",
       "      <td>N</td>\n",
       "      <td>N</td>\n",
       "      <td>N</td>\n",
       "      <td>Y</td>\n",
       "      <td>veasy</td>\n",
       "      <td>Y</td>\n",
       "      <td>unaware</td>\n",
       "      <td>N</td>\n",
       "      <td>Yes</td>\n",
       "      <td>No</td>\n",
       "      <td>1</td>\n",
       "      <td>Nill</td>\n",
       "      <td>Nill</td>\n",
       "      <td>1</td>\n",
       "    </tr>\n",
       "    <tr>\n",
       "      <th>2</th>\n",
       "      <td>21</td>\n",
       "      <td>M</td>\n",
       "      <td>UK</td>\n",
       "      <td>UK</td>\n",
       "      <td>Back-end Developer|DevOps/SysAdmin</td>\n",
       "      <td>Never</td>\n",
       "      <td>0</td>\n",
       "      <td>4.0</td>\n",
       "      <td>Y</td>\n",
       "      <td>Y</td>\n",
       "      <td>N</td>\n",
       "      <td>Y</td>\n",
       "      <td>nill</td>\n",
       "      <td>Maybe</td>\n",
       "      <td>unaware</td>\n",
       "      <td>N</td>\n",
       "      <td>No</td>\n",
       "      <td>No</td>\n",
       "      <td>0</td>\n",
       "      <td>Nill</td>\n",
       "      <td>Nill</td>\n",
       "      <td>0</td>\n",
       "    </tr>\n",
       "    <tr>\n",
       "      <th>3</th>\n",
       "      <td>36</td>\n",
       "      <td>M</td>\n",
       "      <td>BR</td>\n",
       "      <td>BR</td>\n",
       "      <td>Back-end Developer</td>\n",
       "      <td>Never</td>\n",
       "      <td>0</td>\n",
       "      <td>4.0</td>\n",
       "      <td>N</td>\n",
       "      <td>N</td>\n",
       "      <td>N</td>\n",
       "      <td>N</td>\n",
       "      <td>vdifficult</td>\n",
       "      <td>N</td>\n",
       "      <td>unaware</td>\n",
       "      <td>Y</td>\n",
       "      <td>Yes</td>\n",
       "      <td>Yes</td>\n",
       "      <td>0</td>\n",
       "      <td>Often</td>\n",
       "      <td>Often</td>\n",
       "      <td>0</td>\n",
       "    </tr>\n",
       "    <tr>\n",
       "      <th>4</th>\n",
       "      <td>36</td>\n",
       "      <td>F</td>\n",
       "      <td>US</td>\n",
       "      <td>US</td>\n",
       "      <td>Other</td>\n",
       "      <td>Sometimes</td>\n",
       "      <td>0</td>\n",
       "      <td>4.0</td>\n",
       "      <td>unaware</td>\n",
       "      <td>N</td>\n",
       "      <td>Y</td>\n",
       "      <td>N</td>\n",
       "      <td>vdifficult</td>\n",
       "      <td>Y</td>\n",
       "      <td>unaware</td>\n",
       "      <td>unaware</td>\n",
       "      <td>Maybe</td>\n",
       "      <td>Maybe</td>\n",
       "      <td>0</td>\n",
       "      <td>Nill</td>\n",
       "      <td>Often</td>\n",
       "      <td>1</td>\n",
       "    </tr>\n",
       "  </tbody>\n",
       "</table>\n",
       "</div>"
      ],
      "text/plain": [
       "   age gender country(living) working_country  \\\n",
       "0   33      M             CAN             CAN   \n",
       "1   40      M             NET             NET   \n",
       "2   21      M              UK              UK   \n",
       "3   36      M              BR              BR   \n",
       "4   36      F              US              US   \n",
       "\n",
       "                                 position remote work  self_employed  \\\n",
       "0                      Back-end Developer   Sometimes              0   \n",
       "1  Front-end Developer|Back-end Developer   Sometimes              0   \n",
       "2      Back-end Developer|DevOps/SysAdmin       Never              0   \n",
       "3                      Back-end Developer       Never              0   \n",
       "4                                   Other   Sometimes              0   \n",
       "\n",
       "   No_of_employees healthcare_coverage knowing_mental_health_care  \\\n",
       "0              4.0                   Y                          Y   \n",
       "1              4.0                   N                          N   \n",
       "2              4.0                   Y                          Y   \n",
       "3              4.0                   N                          N   \n",
       "4              4.0             unaware                          N   \n",
       "\n",
       "  informed_campaign offer_options asking_leave discuss_with_coworkers  \\\n",
       "0                 N             N    difficult                  Maybe   \n",
       "1                 N             Y        veasy                      Y   \n",
       "2                 N             Y         nill                  Maybe   \n",
       "3                 N             N   vdifficult                      N   \n",
       "4                 Y             N   vdifficult                      Y   \n",
       "\n",
       "  seriousness family_history past_disorder currently_disorder  diagonised  \\\n",
       "0     unaware              Y           Yes                 No           1   \n",
       "1     unaware              N           Yes                 No           1   \n",
       "2     unaware              N            No                 No           0   \n",
       "3     unaware              Y           Yes                Yes           0   \n",
       "4     unaware        unaware         Maybe              Maybe           0   \n",
       "\n",
       "  interfere the work(treatment) interfere the work(no treatment)  \\\n",
       "0                     Sometimes                            Often   \n",
       "1                          Nill                             Nill   \n",
       "2                          Nill                             Nill   \n",
       "3                         Often                            Often   \n",
       "4                          Nill                            Often   \n",
       "\n",
       "   seek treatment  \n",
       "0               1  \n",
       "1               1  \n",
       "2               0  \n",
       "3               0  \n",
       "4               1  "
      ]
     },
     "execution_count": 214,
     "metadata": {},
     "output_type": "execute_result"
    }
   ],
   "source": [
    "data.head()"
   ]
  },
  {
   "cell_type": "markdown",
   "id": "cee165af",
   "metadata": {},
   "source": [
    "## handling the \"position\" feature"
   ]
  },
  {
   "cell_type": "code",
   "execution_count": 217,
   "id": "a1562621",
   "metadata": {},
   "outputs": [
    {
     "data": {
      "text/plain": [
       "Back-end Developer                                             263\n",
       "Front-end Developer                                            125\n",
       "Other                                                          112\n",
       "Supervisor/Team Lead                                            68\n",
       "Back-end Developer|Front-end Developer                          61\n",
       "DevOps/SysAdmin                                                 54\n",
       "One-person shop                                                 50\n",
       "Executive Leadership                                            46\n",
       "Front-end Developer|Back-end Developer                          40\n",
       "Support                                                         34\n",
       "Designer                                                        28\n",
       "Dev Evangelist/Advocate                                         28\n",
       "Supervisor/Team Lead|Back-end Developer                         19\n",
       "Front-end Developer|Designer                                    18\n",
       "DevOps/SysAdmin|Back-end Developer|Front-end Developer          17\n",
       "Back-end Developer|DevOps/SysAdmin                              16\n",
       "DevOps/SysAdmin|Back-end Developer                              15\n",
       "Supervisor/Team Lead|Back-end Developer|Front-end Developer     15\n",
       "Front-end Developer|Back-end Developer|DevOps/SysAdmin          12\n",
       "Supervisor/Team Lead|DevOps/SysAdmin|Back-end Developer          9\n",
       "Name: position, dtype: int64"
      ]
     },
     "execution_count": 217,
     "metadata": {},
     "output_type": "execute_result"
    }
   ],
   "source": [
    "data['position'].value_counts()[:20]"
   ]
  },
  {
   "cell_type": "code",
   "execution_count": 222,
   "id": "f48cffde",
   "metadata": {},
   "outputs": [],
   "source": [
    "position = data['position'].value_counts(ascending  = False)"
   ]
  },
  {
   "cell_type": "code",
   "execution_count": 223,
   "id": "c66baf77",
   "metadata": {},
   "outputs": [
    {
     "data": {
      "text/plain": [
       "Back-end Developer                                                                                                  263\n",
       "Front-end Developer                                                                                                 125\n",
       "Other                                                                                                               112\n",
       "Supervisor/Team Lead                                                                                                 68\n",
       "Back-end Developer|Front-end Developer                                                                               61\n",
       "                                                                                                                   ... \n",
       "One-person shop|Front-end Developer|Back-end Developer|Supervisor/Team Lead|Executive Leadership                      1\n",
       "Supervisor/Team Lead|Back-end Developer|DevOps/SysAdmin|Dev Evangelist/Advocate                                       1\n",
       "One-person shop|DevOps/SysAdmin                                                                                       1\n",
       "One-person shop|Designer|Sales|Support|Supervisor/Team Lead                                                           1\n",
       "One-person shop|Front-end Developer|Back-end Developer|DevOps/SysAdmin|Supervisor/Team Lead|Executive Leadership      1\n",
       "Name: position, Length: 264, dtype: int64"
      ]
     },
     "execution_count": 223,
     "metadata": {},
     "output_type": "execute_result"
    }
   ],
   "source": [
    "position"
   ]
  },
  {
   "cell_type": "code",
   "execution_count": 225,
   "id": "082077f9",
   "metadata": {},
   "outputs": [
    {
     "data": {
      "text/plain": [
       "others                                                         412\n",
       "Back-end Developer                                             263\n",
       "Front-end Developer                                            125\n",
       "Other                                                          112\n",
       "Supervisor/Team Lead                                            68\n",
       "Back-end Developer|Front-end Developer                          61\n",
       "DevOps/SysAdmin                                                 54\n",
       "One-person shop                                                 50\n",
       "Executive Leadership                                            46\n",
       "Front-end Developer|Back-end Developer                          40\n",
       "Support                                                         34\n",
       "Designer                                                        28\n",
       "Dev Evangelist/Advocate                                         28\n",
       "Supervisor/Team Lead|Back-end Developer                         19\n",
       "Front-end Developer|Designer                                    18\n",
       "DevOps/SysAdmin|Back-end Developer|Front-end Developer          17\n",
       "Back-end Developer|DevOps/SysAdmin                              16\n",
       "DevOps/SysAdmin|Back-end Developer                              15\n",
       "Supervisor/Team Lead|Back-end Developer|Front-end Developer     15\n",
       "Front-end Developer|Back-end Developer|DevOps/SysAdmin          12\n",
       "Name: position, dtype: int64"
      ]
     },
     "execution_count": 225,
     "metadata": {},
     "output_type": "execute_result"
    }
   ],
   "source": [
    "position = data['position'].value_counts(ascending  = False)\n",
    "\n",
    "\n",
    "positionlessthan10 = position[position<10]\n",
    "\n",
    "\n",
    "\n",
    "def handle_positions(value):\n",
    "    if(value in positionlessthan10):\n",
    "        return 'others'\n",
    "    else:\n",
    "        return value\n",
    "        \n",
    "data['position'] = data['position'].apply(handle_positions)\n",
    "data['position'].value_counts()"
   ]
  },
  {
   "cell_type": "code",
   "execution_count": 229,
   "id": "fb1e9bf3",
   "metadata": {},
   "outputs": [],
   "source": [
    "data[\"position\"]=data[\"position\"].replace([\"Back-end Developer\",\"Front-end Developer\",\"Other\",\"Supervisor/Team Lead\",\"Back-end Developer|Front-end Developer\",\"DevOps/SysAdmin\",\"Executive Leadership\",\"Dev Evangelist/Advocate\"],[\"BED\",\"FED\",\"OTH\",\"SUPV\",\"BEAFE\",\"SYSA\",\"EL\",\"DE\"])"
   ]
  },
  {
   "cell_type": "code",
   "execution_count": 231,
   "id": "25d6e478",
   "metadata": {},
   "outputs": [],
   "source": [
    "data[\"position\"]=data[\"position\"].replace([\"One-person shop\",\"Front-end Developer|Back-end Developer\",\"Supervisor/Team Lead|Back-end Developer\",\"Front-end Developer|Designer\",\"DevOps/SysAdmin|Back-end Developer|Front-end Developer\",\"Back-end Developer|DevOps/SysAdmin\",\"DevOps/SysAdmin|Back-end Developer\",\"Supervisor/Team Lead|Back-end Developer|Front-end Developer\",\"Front-end Developer|Back-end Developer|DevOps/SysAdmin\"],[\"OTH\",\"BEAFE\",\"SUPV\",\"FED\",\"SYSA\",\"SYSA\",\"SYSA\",\"SUPV\",\"SYSA\"])"
   ]
  },
  {
   "cell_type": "code",
   "execution_count": 241,
   "id": "727980b5",
   "metadata": {},
   "outputs": [],
   "source": [
    "data[\"position\"]=data[\"position\"].replace([\"others\"],[\"technicians\"])"
   ]
  },
  {
   "cell_type": "code",
   "execution_count": 232,
   "id": "321fdf1f",
   "metadata": {},
   "outputs": [
    {
     "data": {
      "text/plain": [
       "others      412\n",
       "BED         263\n",
       "OTH         162\n",
       "FED         143\n",
       "SYSA        114\n",
       "SUPV        102\n",
       "BEAFE       101\n",
       "EL           46\n",
       "Support      34\n",
       "DE           28\n",
       "Designer     28\n",
       "Name: position, dtype: int64"
      ]
     },
     "execution_count": 232,
     "metadata": {},
     "output_type": "execute_result"
    }
   ],
   "source": [
    "data['position'].value_counts()"
   ]
  },
  {
   "cell_type": "code",
   "execution_count": 233,
   "id": "4a1a4d0e",
   "metadata": {},
   "outputs": [
    {
     "data": {
      "text/html": [
       "<div>\n",
       "<style scoped>\n",
       "    .dataframe tbody tr th:only-of-type {\n",
       "        vertical-align: middle;\n",
       "    }\n",
       "\n",
       "    .dataframe tbody tr th {\n",
       "        vertical-align: top;\n",
       "    }\n",
       "\n",
       "    .dataframe thead th {\n",
       "        text-align: right;\n",
       "    }\n",
       "</style>\n",
       "<table border=\"1\" class=\"dataframe\">\n",
       "  <thead>\n",
       "    <tr style=\"text-align: right;\">\n",
       "      <th></th>\n",
       "      <th>age</th>\n",
       "      <th>gender</th>\n",
       "      <th>country(living)</th>\n",
       "      <th>working_country</th>\n",
       "      <th>position</th>\n",
       "      <th>remote work</th>\n",
       "      <th>self_employed</th>\n",
       "      <th>No_of_employees</th>\n",
       "      <th>healthcare_coverage</th>\n",
       "      <th>knowing_mental_health_care</th>\n",
       "      <th>informed_campaign</th>\n",
       "      <th>offer_options</th>\n",
       "      <th>asking_leave</th>\n",
       "      <th>discuss_with_coworkers</th>\n",
       "      <th>seriousness</th>\n",
       "      <th>family_history</th>\n",
       "      <th>past_disorder</th>\n",
       "      <th>currently_disorder</th>\n",
       "      <th>diagonised</th>\n",
       "      <th>interfere the work(treatment)</th>\n",
       "      <th>interfere the work(no treatment)</th>\n",
       "      <th>seek treatment</th>\n",
       "    </tr>\n",
       "  </thead>\n",
       "  <tbody>\n",
       "    <tr>\n",
       "      <th>0</th>\n",
       "      <td>33</td>\n",
       "      <td>M</td>\n",
       "      <td>CAN</td>\n",
       "      <td>CAN</td>\n",
       "      <td>BED</td>\n",
       "      <td>Sometimes</td>\n",
       "      <td>0</td>\n",
       "      <td>4.0</td>\n",
       "      <td>Y</td>\n",
       "      <td>Y</td>\n",
       "      <td>N</td>\n",
       "      <td>N</td>\n",
       "      <td>difficult</td>\n",
       "      <td>Maybe</td>\n",
       "      <td>unaware</td>\n",
       "      <td>Y</td>\n",
       "      <td>Yes</td>\n",
       "      <td>No</td>\n",
       "      <td>1</td>\n",
       "      <td>Sometimes</td>\n",
       "      <td>Often</td>\n",
       "      <td>1</td>\n",
       "    </tr>\n",
       "    <tr>\n",
       "      <th>1</th>\n",
       "      <td>40</td>\n",
       "      <td>M</td>\n",
       "      <td>NET</td>\n",
       "      <td>NET</td>\n",
       "      <td>BEAFE</td>\n",
       "      <td>Sometimes</td>\n",
       "      <td>0</td>\n",
       "      <td>4.0</td>\n",
       "      <td>N</td>\n",
       "      <td>N</td>\n",
       "      <td>N</td>\n",
       "      <td>Y</td>\n",
       "      <td>veasy</td>\n",
       "      <td>Y</td>\n",
       "      <td>unaware</td>\n",
       "      <td>N</td>\n",
       "      <td>Yes</td>\n",
       "      <td>No</td>\n",
       "      <td>1</td>\n",
       "      <td>Nill</td>\n",
       "      <td>Nill</td>\n",
       "      <td>1</td>\n",
       "    </tr>\n",
       "    <tr>\n",
       "      <th>2</th>\n",
       "      <td>21</td>\n",
       "      <td>M</td>\n",
       "      <td>UK</td>\n",
       "      <td>UK</td>\n",
       "      <td>SYSA</td>\n",
       "      <td>Never</td>\n",
       "      <td>0</td>\n",
       "      <td>4.0</td>\n",
       "      <td>Y</td>\n",
       "      <td>Y</td>\n",
       "      <td>N</td>\n",
       "      <td>Y</td>\n",
       "      <td>nill</td>\n",
       "      <td>Maybe</td>\n",
       "      <td>unaware</td>\n",
       "      <td>N</td>\n",
       "      <td>No</td>\n",
       "      <td>No</td>\n",
       "      <td>0</td>\n",
       "      <td>Nill</td>\n",
       "      <td>Nill</td>\n",
       "      <td>0</td>\n",
       "    </tr>\n",
       "    <tr>\n",
       "      <th>3</th>\n",
       "      <td>36</td>\n",
       "      <td>M</td>\n",
       "      <td>BR</td>\n",
       "      <td>BR</td>\n",
       "      <td>BED</td>\n",
       "      <td>Never</td>\n",
       "      <td>0</td>\n",
       "      <td>4.0</td>\n",
       "      <td>N</td>\n",
       "      <td>N</td>\n",
       "      <td>N</td>\n",
       "      <td>N</td>\n",
       "      <td>vdifficult</td>\n",
       "      <td>N</td>\n",
       "      <td>unaware</td>\n",
       "      <td>Y</td>\n",
       "      <td>Yes</td>\n",
       "      <td>Yes</td>\n",
       "      <td>0</td>\n",
       "      <td>Often</td>\n",
       "      <td>Often</td>\n",
       "      <td>0</td>\n",
       "    </tr>\n",
       "    <tr>\n",
       "      <th>4</th>\n",
       "      <td>36</td>\n",
       "      <td>F</td>\n",
       "      <td>US</td>\n",
       "      <td>US</td>\n",
       "      <td>OTH</td>\n",
       "      <td>Sometimes</td>\n",
       "      <td>0</td>\n",
       "      <td>4.0</td>\n",
       "      <td>unaware</td>\n",
       "      <td>N</td>\n",
       "      <td>Y</td>\n",
       "      <td>N</td>\n",
       "      <td>vdifficult</td>\n",
       "      <td>Y</td>\n",
       "      <td>unaware</td>\n",
       "      <td>unaware</td>\n",
       "      <td>Maybe</td>\n",
       "      <td>Maybe</td>\n",
       "      <td>0</td>\n",
       "      <td>Nill</td>\n",
       "      <td>Often</td>\n",
       "      <td>1</td>\n",
       "    </tr>\n",
       "  </tbody>\n",
       "</table>\n",
       "</div>"
      ],
      "text/plain": [
       "   age gender country(living) working_country position remote work  \\\n",
       "0   33      M             CAN             CAN      BED   Sometimes   \n",
       "1   40      M             NET             NET    BEAFE   Sometimes   \n",
       "2   21      M              UK              UK     SYSA       Never   \n",
       "3   36      M              BR              BR      BED       Never   \n",
       "4   36      F              US              US      OTH   Sometimes   \n",
       "\n",
       "   self_employed  No_of_employees healthcare_coverage  \\\n",
       "0              0              4.0                   Y   \n",
       "1              0              4.0                   N   \n",
       "2              0              4.0                   Y   \n",
       "3              0              4.0                   N   \n",
       "4              0              4.0             unaware   \n",
       "\n",
       "  knowing_mental_health_care informed_campaign offer_options asking_leave  \\\n",
       "0                          Y                 N             N    difficult   \n",
       "1                          N                 N             Y        veasy   \n",
       "2                          Y                 N             Y         nill   \n",
       "3                          N                 N             N   vdifficult   \n",
       "4                          N                 Y             N   vdifficult   \n",
       "\n",
       "  discuss_with_coworkers seriousness family_history past_disorder  \\\n",
       "0                  Maybe     unaware              Y           Yes   \n",
       "1                      Y     unaware              N           Yes   \n",
       "2                  Maybe     unaware              N            No   \n",
       "3                      N     unaware              Y           Yes   \n",
       "4                      Y     unaware        unaware         Maybe   \n",
       "\n",
       "  currently_disorder  diagonised interfere the work(treatment)  \\\n",
       "0                 No           1                     Sometimes   \n",
       "1                 No           1                          Nill   \n",
       "2                 No           0                          Nill   \n",
       "3                Yes           0                         Often   \n",
       "4              Maybe           0                          Nill   \n",
       "\n",
       "  interfere the work(no treatment)  seek treatment  \n",
       "0                            Often               1  \n",
       "1                             Nill               1  \n",
       "2                             Nill               0  \n",
       "3                            Often               0  \n",
       "4                            Often               1  "
      ]
     },
     "execution_count": 233,
     "metadata": {},
     "output_type": "execute_result"
    }
   ],
   "source": [
    "data.head()"
   ]
  },
  {
   "cell_type": "markdown",
   "id": "2b496ad7",
   "metadata": {},
   "source": [
    "# UNIVARIATE AND BIVARIATE ANALYSIS"
   ]
  },
  {
   "cell_type": "code",
   "execution_count": 242,
   "id": "f5aee1de",
   "metadata": {},
   "outputs": [
    {
     "data": {
      "text/plain": [
       "(array([ 0,  1,  2,  3,  4,  5,  6,  7,  8,  9, 10]),\n",
       " [Text(0, 0, 'BED'),\n",
       "  Text(1, 0, 'BEAFE'),\n",
       "  Text(2, 0, 'SYSA'),\n",
       "  Text(3, 0, 'OTH'),\n",
       "  Text(4, 0, 'technicians'),\n",
       "  Text(5, 0, 'FED'),\n",
       "  Text(6, 0, 'EL'),\n",
       "  Text(7, 0, 'DE'),\n",
       "  Text(8, 0, 'Designer'),\n",
       "  Text(9, 0, 'Support'),\n",
       "  Text(10, 0, 'SUPV')])"
      ]
     },
     "execution_count": 242,
     "metadata": {},
     "output_type": "execute_result"
    },
    {
     "data": {
      "image/png": "[encoded data removed]",
      "text/plain": [
       "<Figure size 1152x720 with 1 Axes>"
      ]
     },
     "metadata": {
      "needs_background": "light"
     },
     "output_type": "display_data"
    }
   ],
   "source": [
    "plt.figure(figsize = (16,10))\n",
    "ax = sns.countplot(data[\"position\"])\n",
    "plt.xticks(rotation=90)"
   ]
  },
  {
   "cell_type": "code",
   "execution_count": 243,
   "id": "12d6e212",
   "metadata": {},
   "outputs": [
    {
     "data": {
      "text/plain": [
       "<AxesSubplot:xlabel='seek treatment', ylabel='count'>"
      ]
     },
     "execution_count": 243,
     "metadata": {},
     "output_type": "execute_result"
    },
    {
     "data": {
      "image/png": "[encoded data removed]",
      "text/plain": [
       "<Figure size 432x432 with 1 Axes>"
      ]
     },
     "metadata": {
      "needs_background": "light"
     },
     "output_type": "display_data"
    }
   ],
   "source": [
    "plt.figure(figsize = (6,6))\n",
    "sns.countplot(data['seek treatment'], palette = 'inferno')"
   ]
  },
  {
   "cell_type": "code",
   "execution_count": 237,
   "id": "9cbca2e4",
   "metadata": {},
   "outputs": [
    {
     "data": {
      "text/plain": [
       "<AxesSubplot:xlabel='gender', ylabel='count'>"
      ]
     },
     "execution_count": 237,
     "metadata": {},
     "output_type": "execute_result"
    },
    {
     "data": {
      "image/png": "[encoded data removed]",
      "text/plain": [
       "<Figure size 432x432 with 1 Axes>"
      ]
     },
     "metadata": {
      "needs_background": "light"
     },
     "output_type": "display_data"
    }
   ],
   "source": [
    "plt.figure(figsize = (6,6))\n",
    "sns.countplot(data['gender'], palette = 'rainbow')"
   ]
  },
  {
   "cell_type": "code",
   "execution_count": 238,
   "id": "62c16860",
   "metadata": {},
   "outputs": [
    {
     "data": {
      "image/png": "[encoded data removed]",
      "text/plain": [
       "<Figure size 576x360 with 1 Axes>"
      ]
     },
     "metadata": {
      "needs_background": "light"
     },
     "output_type": "display_data"
    }
   ],
   "source": [
    "plt.figure(figsize=(8,5))\n",
    "sns.countplot(data['asking_leave'])\n",
    "plt.show()"
   ]
  },
  {
   "cell_type": "code",
   "execution_count": 244,
   "id": "50c91197",
   "metadata": {},
   "outputs": [
    {
     "data": {
      "text/html": [
       "<div>\n",
       "<style scoped>\n",
       "    .dataframe tbody tr th:only-of-type {\n",
       "        vertical-align: middle;\n",
       "    }\n",
       "\n",
       "    .dataframe tbody tr th {\n",
       "        vertical-align: top;\n",
       "    }\n",
       "\n",
       "    .dataframe thead th {\n",
       "        text-align: right;\n",
       "    }\n",
       "</style>\n",
       "<table border=\"1\" class=\"dataframe\">\n",
       "  <thead>\n",
       "    <tr style=\"text-align: right;\">\n",
       "      <th>seek treatment</th>\n",
       "      <th>0</th>\n",
       "      <th>1</th>\n",
       "    </tr>\n",
       "    <tr>\n",
       "      <th>position</th>\n",
       "      <th></th>\n",
       "      <th></th>\n",
       "    </tr>\n",
       "  </thead>\n",
       "  <tbody>\n",
       "    <tr>\n",
       "      <th>BEAFE</th>\n",
       "      <td>40</td>\n",
       "      <td>61</td>\n",
       "    </tr>\n",
       "    <tr>\n",
       "      <th>BED</th>\n",
       "      <td>116</td>\n",
       "      <td>147</td>\n",
       "    </tr>\n",
       "    <tr>\n",
       "      <th>DE</th>\n",
       "      <td>7</td>\n",
       "      <td>21</td>\n",
       "    </tr>\n",
       "    <tr>\n",
       "      <th>Designer</th>\n",
       "      <td>7</td>\n",
       "      <td>21</td>\n",
       "    </tr>\n",
       "    <tr>\n",
       "      <th>EL</th>\n",
       "      <td>17</td>\n",
       "      <td>29</td>\n",
       "    </tr>\n",
       "    <tr>\n",
       "      <th>FED</th>\n",
       "      <td>64</td>\n",
       "      <td>79</td>\n",
       "    </tr>\n",
       "    <tr>\n",
       "      <th>OTH</th>\n",
       "      <td>65</td>\n",
       "      <td>97</td>\n",
       "    </tr>\n",
       "    <tr>\n",
       "      <th>SUPV</th>\n",
       "      <td>46</td>\n",
       "      <td>56</td>\n",
       "    </tr>\n",
       "    <tr>\n",
       "      <th>SYSA</th>\n",
       "      <td>51</td>\n",
       "      <td>63</td>\n",
       "    </tr>\n",
       "    <tr>\n",
       "      <th>Support</th>\n",
       "      <td>13</td>\n",
       "      <td>21</td>\n",
       "    </tr>\n",
       "    <tr>\n",
       "      <th>technicians</th>\n",
       "      <td>168</td>\n",
       "      <td>244</td>\n",
       "    </tr>\n",
       "  </tbody>\n",
       "</table>\n",
       "</div>"
      ],
      "text/plain": [
       "seek treatment    0    1\n",
       "position                \n",
       "BEAFE            40   61\n",
       "BED             116  147\n",
       "DE                7   21\n",
       "Designer          7   21\n",
       "EL               17   29\n",
       "FED              64   79\n",
       "OTH              65   97\n",
       "SUPV             46   56\n",
       "SYSA             51   63\n",
       "Support          13   21\n",
       "technicians     168  244"
      ]
     },
     "execution_count": 244,
     "metadata": {},
     "output_type": "execute_result"
    }
   ],
   "source": [
    "positionwise_seektreatment = data.groupby(['position', 'seek treatment']).size().unstack('seek treatment', fill_value=0)\n",
    "positionwise_seektreatment"
   ]
  },
  {
   "cell_type": "code",
   "execution_count": 245,
   "id": "728fba65",
   "metadata": {},
   "outputs": [
    {
     "data": {
      "image/png": "[encoded data removed]",
      "text/plain": [
       "<Figure size 1080x576 with 1 Axes>"
      ]
     },
     "metadata": {
      "needs_background": "light"
     },
     "output_type": "display_data"
    }
   ],
   "source": [
    "positionwise_seektreatment.plot(kind='bar', figsize=(15, 8))\n",
    "plt.show()"
   ]
  },
  {
   "cell_type": "markdown",
   "id": "8efc7b9b",
   "metadata": {},
   "source": [
    "### from the above graph ,back deveolopers are larger in number who  sloley took treatment .Technicians include all mixed number of positons in tech industry"
   ]
  },
  {
   "cell_type": "code",
   "execution_count": 246,
   "id": "61864de0",
   "metadata": {},
   "outputs": [
    {
     "data": {
      "text/html": [
       "<div>\n",
       "<style scoped>\n",
       "    .dataframe tbody tr th:only-of-type {\n",
       "        vertical-align: middle;\n",
       "    }\n",
       "\n",
       "    .dataframe tbody tr th {\n",
       "        vertical-align: top;\n",
       "    }\n",
       "\n",
       "    .dataframe thead th {\n",
       "        text-align: right;\n",
       "    }\n",
       "</style>\n",
       "<table border=\"1\" class=\"dataframe\">\n",
       "  <thead>\n",
       "    <tr style=\"text-align: right;\">\n",
       "      <th>seek treatment</th>\n",
       "      <th>0</th>\n",
       "      <th>1</th>\n",
       "    </tr>\n",
       "    <tr>\n",
       "      <th>working_country</th>\n",
       "      <th></th>\n",
       "      <th></th>\n",
       "    </tr>\n",
       "  </thead>\n",
       "  <tbody>\n",
       "    <tr>\n",
       "      <th>AF</th>\n",
       "      <td>2</td>\n",
       "      <td>0</td>\n",
       "    </tr>\n",
       "    <tr>\n",
       "      <th>ARG</th>\n",
       "      <td>0</td>\n",
       "      <td>1</td>\n",
       "    </tr>\n",
       "    <tr>\n",
       "      <th>AS</th>\n",
       "      <td>11</td>\n",
       "      <td>23</td>\n",
       "    </tr>\n",
       "    <tr>\n",
       "      <th>AUS</th>\n",
       "      <td>0</td>\n",
       "      <td>4</td>\n",
       "    </tr>\n",
       "    <tr>\n",
       "      <th>BAH</th>\n",
       "      <td>2</td>\n",
       "      <td>0</td>\n",
       "    </tr>\n",
       "    <tr>\n",
       "      <th>BAN</th>\n",
       "      <td>0</td>\n",
       "      <td>1</td>\n",
       "    </tr>\n",
       "    <tr>\n",
       "      <th>BEL</th>\n",
       "      <td>4</td>\n",
       "      <td>1</td>\n",
       "    </tr>\n",
       "    <tr>\n",
       "      <th>BR</th>\n",
       "      <td>5</td>\n",
       "      <td>5</td>\n",
       "    </tr>\n",
       "    <tr>\n",
       "      <th>BRUN</th>\n",
       "      <td>0</td>\n",
       "      <td>1</td>\n",
       "    </tr>\n",
       "    <tr>\n",
       "      <th>BU</th>\n",
       "      <td>5</td>\n",
       "      <td>2</td>\n",
       "    </tr>\n",
       "    <tr>\n",
       "      <th>CAN</th>\n",
       "      <td>40</td>\n",
       "      <td>34</td>\n",
       "    </tr>\n",
       "    <tr>\n",
       "      <th>CHI</th>\n",
       "      <td>1</td>\n",
       "      <td>2</td>\n",
       "    </tr>\n",
       "    <tr>\n",
       "      <th>CHN</th>\n",
       "      <td>1</td>\n",
       "      <td>0</td>\n",
       "    </tr>\n",
       "    <tr>\n",
       "      <th>COL</th>\n",
       "      <td>1</td>\n",
       "      <td>1</td>\n",
       "    </tr>\n",
       "    <tr>\n",
       "      <th>COST</th>\n",
       "      <td>0</td>\n",
       "      <td>1</td>\n",
       "    </tr>\n",
       "    <tr>\n",
       "      <th>CZR</th>\n",
       "      <td>1</td>\n",
       "      <td>2</td>\n",
       "    </tr>\n",
       "    <tr>\n",
       "      <th>DE</th>\n",
       "      <td>5</td>\n",
       "      <td>2</td>\n",
       "    </tr>\n",
       "    <tr>\n",
       "      <th>ES</th>\n",
       "      <td>2</td>\n",
       "      <td>0</td>\n",
       "    </tr>\n",
       "    <tr>\n",
       "      <th>EUD</th>\n",
       "      <td>0</td>\n",
       "      <td>1</td>\n",
       "    </tr>\n",
       "    <tr>\n",
       "      <th>FI</th>\n",
       "      <td>5</td>\n",
       "      <td>2</td>\n",
       "    </tr>\n",
       "    <tr>\n",
       "      <th>FR</th>\n",
       "      <td>11</td>\n",
       "      <td>3</td>\n",
       "    </tr>\n",
       "    <tr>\n",
       "      <th>GER</th>\n",
       "      <td>33</td>\n",
       "      <td>25</td>\n",
       "    </tr>\n",
       "    <tr>\n",
       "      <th>GRC</th>\n",
       "      <td>1</td>\n",
       "      <td>0</td>\n",
       "    </tr>\n",
       "    <tr>\n",
       "      <th>GUA</th>\n",
       "      <td>1</td>\n",
       "      <td>0</td>\n",
       "    </tr>\n",
       "    <tr>\n",
       "      <th>HUNG</th>\n",
       "      <td>0</td>\n",
       "      <td>1</td>\n",
       "    </tr>\n",
       "    <tr>\n",
       "      <th>IN</th>\n",
       "      <td>5</td>\n",
       "      <td>4</td>\n",
       "    </tr>\n",
       "    <tr>\n",
       "      <th>IR</th>\n",
       "      <td>8</td>\n",
       "      <td>7</td>\n",
       "    </tr>\n",
       "    <tr>\n",
       "      <th>IRN</th>\n",
       "      <td>1</td>\n",
       "      <td>0</td>\n",
       "    </tr>\n",
       "    <tr>\n",
       "      <th>ISR</th>\n",
       "      <td>1</td>\n",
       "      <td>1</td>\n",
       "    </tr>\n",
       "    <tr>\n",
       "      <th>ITA</th>\n",
       "      <td>3</td>\n",
       "      <td>0</td>\n",
       "    </tr>\n",
       "    <tr>\n",
       "      <th>JAP</th>\n",
       "      <td>1</td>\n",
       "      <td>0</td>\n",
       "    </tr>\n",
       "    <tr>\n",
       "      <th>LIT</th>\n",
       "      <td>0</td>\n",
       "      <td>1</td>\n",
       "    </tr>\n",
       "    <tr>\n",
       "      <th>MEX</th>\n",
       "      <td>2</td>\n",
       "      <td>0</td>\n",
       "    </tr>\n",
       "    <tr>\n",
       "      <th>NET</th>\n",
       "      <td>19</td>\n",
       "      <td>28</td>\n",
       "    </tr>\n",
       "    <tr>\n",
       "      <th>NOR</th>\n",
       "      <td>2</td>\n",
       "      <td>1</td>\n",
       "    </tr>\n",
       "    <tr>\n",
       "      <th>NW</th>\n",
       "      <td>5</td>\n",
       "      <td>4</td>\n",
       "    </tr>\n",
       "    <tr>\n",
       "      <th>OTH</th>\n",
       "      <td>1</td>\n",
       "      <td>1</td>\n",
       "    </tr>\n",
       "    <tr>\n",
       "      <th>PAK</th>\n",
       "      <td>1</td>\n",
       "      <td>1</td>\n",
       "    </tr>\n",
       "    <tr>\n",
       "      <th>POL</th>\n",
       "      <td>2</td>\n",
       "      <td>2</td>\n",
       "    </tr>\n",
       "    <tr>\n",
       "      <th>ROM</th>\n",
       "      <td>2</td>\n",
       "      <td>1</td>\n",
       "    </tr>\n",
       "    <tr>\n",
       "      <th>RU</th>\n",
       "      <td>7</td>\n",
       "      <td>2</td>\n",
       "    </tr>\n",
       "    <tr>\n",
       "      <th>SA</th>\n",
       "      <td>4</td>\n",
       "      <td>0</td>\n",
       "    </tr>\n",
       "    <tr>\n",
       "      <th>SER</th>\n",
       "      <td>0</td>\n",
       "      <td>1</td>\n",
       "    </tr>\n",
       "    <tr>\n",
       "      <th>SLO</th>\n",
       "      <td>1</td>\n",
       "      <td>0</td>\n",
       "    </tr>\n",
       "    <tr>\n",
       "      <th>SPA</th>\n",
       "      <td>1</td>\n",
       "      <td>2</td>\n",
       "    </tr>\n",
       "    <tr>\n",
       "      <th>SWD</th>\n",
       "      <td>11</td>\n",
       "      <td>9</td>\n",
       "    </tr>\n",
       "    <tr>\n",
       "      <th>SWZ</th>\n",
       "      <td>2</td>\n",
       "      <td>8</td>\n",
       "    </tr>\n",
       "    <tr>\n",
       "      <th>TUR</th>\n",
       "      <td>1</td>\n",
       "      <td>0</td>\n",
       "    </tr>\n",
       "    <tr>\n",
       "      <th>UAE</th>\n",
       "      <td>0</td>\n",
       "      <td>1</td>\n",
       "    </tr>\n",
       "    <tr>\n",
       "      <th>UK</th>\n",
       "      <td>85</td>\n",
       "      <td>98</td>\n",
       "    </tr>\n",
       "    <tr>\n",
       "      <th>US</th>\n",
       "      <td>296</td>\n",
       "      <td>555</td>\n",
       "    </tr>\n",
       "    <tr>\n",
       "      <th>VENZ</th>\n",
       "      <td>1</td>\n",
       "      <td>0</td>\n",
       "    </tr>\n",
       "    <tr>\n",
       "      <th>VIE</th>\n",
       "      <td>1</td>\n",
       "      <td>0</td>\n",
       "    </tr>\n",
       "  </tbody>\n",
       "</table>\n",
       "</div>"
      ],
      "text/plain": [
       "seek treatment     0    1\n",
       "working_country          \n",
       "AF                 2    0\n",
       "ARG                0    1\n",
       "AS                11   23\n",
       "AUS                0    4\n",
       "BAH                2    0\n",
       "BAN                0    1\n",
       "BEL                4    1\n",
       "BR                 5    5\n",
       "BRUN               0    1\n",
       "BU                 5    2\n",
       "CAN               40   34\n",
       "CHI                1    2\n",
       "CHN                1    0\n",
       "COL                1    1\n",
       "COST               0    1\n",
       "CZR                1    2\n",
       "DE                 5    2\n",
       "ES                 2    0\n",
       "EUD                0    1\n",
       "FI                 5    2\n",
       "FR                11    3\n",
       "GER               33   25\n",
       "GRC                1    0\n",
       "GUA                1    0\n",
       "HUNG               0    1\n",
       "IN                 5    4\n",
       "IR                 8    7\n",
       "IRN                1    0\n",
       "ISR                1    1\n",
       "ITA                3    0\n",
       "JAP                1    0\n",
       "LIT                0    1\n",
       "MEX                2    0\n",
       "NET               19   28\n",
       "NOR                2    1\n",
       "NW                 5    4\n",
       "OTH                1    1\n",
       "PAK                1    1\n",
       "POL                2    2\n",
       "ROM                2    1\n",
       "RU                 7    2\n",
       "SA                 4    0\n",
       "SER                0    1\n",
       "SLO                1    0\n",
       "SPA                1    2\n",
       "SWD               11    9\n",
       "SWZ                2    8\n",
       "TUR                1    0\n",
       "UAE                0    1\n",
       "UK                85   98\n",
       "US               296  555\n",
       "VENZ               1    0\n",
       "VIE                1    0"
      ]
     },
     "execution_count": 246,
     "metadata": {},
     "output_type": "execute_result"
    }
   ],
   "source": [
    "seek_treatment_by_working_country= data.groupby(['working_country', 'seek treatment']).size().unstack('seek treatment', fill_value=0)\n",
    "seek_treatment_by_working_country"
   ]
  },
  {
   "cell_type": "code",
   "execution_count": 248,
   "id": "2930938f",
   "metadata": {},
   "outputs": [
    {
     "data": {
      "image/png": "[encoded data removed]",
      "text/plain": [
       "<Figure size 2160x1152 with 1 Axes>"
      ]
     },
     "metadata": {
      "needs_background": "light"
     },
     "output_type": "display_data"
    }
   ],
   "source": [
    "seek_treatment_by_working_country.plot(kind='bar', figsize=(30, 16))\n",
    "plt.show()"
   ]
  },
  {
   "cell_type": "markdown",
   "id": "f89d6f44",
   "metadata": {},
   "source": [
    "### large number of people took the treatment in US followed by UK ,CANADA,GERMANY"
   ]
  },
  {
   "cell_type": "code",
   "execution_count": 252,
   "id": "417da787",
   "metadata": {},
   "outputs": [
    {
     "data": {
      "text/html": [
       "<div>\n",
       "<style scoped>\n",
       "    .dataframe tbody tr th:only-of-type {\n",
       "        vertical-align: middle;\n",
       "    }\n",
       "\n",
       "    .dataframe tbody tr th {\n",
       "        vertical-align: top;\n",
       "    }\n",
       "\n",
       "    .dataframe thead th {\n",
       "        text-align: right;\n",
       "    }\n",
       "</style>\n",
       "<table border=\"1\" class=\"dataframe\">\n",
       "  <thead>\n",
       "    <tr style=\"text-align: right;\">\n",
       "      <th>asking_leave</th>\n",
       "      <th>NA</th>\n",
       "      <th>difficult</th>\n",
       "      <th>easy</th>\n",
       "      <th>nill</th>\n",
       "      <th>ok</th>\n",
       "      <th>vdifficult</th>\n",
       "      <th>veasy</th>\n",
       "    </tr>\n",
       "    <tr>\n",
       "      <th>remote work</th>\n",
       "      <th></th>\n",
       "      <th></th>\n",
       "      <th></th>\n",
       "      <th></th>\n",
       "      <th></th>\n",
       "      <th></th>\n",
       "      <th></th>\n",
       "    </tr>\n",
       "  </thead>\n",
       "  <tbody>\n",
       "    <tr>\n",
       "      <th>Always</th>\n",
       "      <td>126</td>\n",
       "      <td>30</td>\n",
       "      <td>63</td>\n",
       "      <td>34</td>\n",
       "      <td>20</td>\n",
       "      <td>14</td>\n",
       "      <td>56</td>\n",
       "    </tr>\n",
       "    <tr>\n",
       "      <th>Never</th>\n",
       "      <td>15</td>\n",
       "      <td>69</td>\n",
       "      <td>67</td>\n",
       "      <td>43</td>\n",
       "      <td>56</td>\n",
       "      <td>41</td>\n",
       "      <td>42</td>\n",
       "    </tr>\n",
       "    <tr>\n",
       "      <th>Sometimes</th>\n",
       "      <td>146</td>\n",
       "      <td>100</td>\n",
       "      <td>151</td>\n",
       "      <td>73</td>\n",
       "      <td>102</td>\n",
       "      <td>63</td>\n",
       "      <td>122</td>\n",
       "    </tr>\n",
       "  </tbody>\n",
       "</table>\n",
       "</div>"
      ],
      "text/plain": [
       "asking_leave   NA  difficult  easy  nill   ok  vdifficult  veasy\n",
       "remote work                                                     \n",
       "Always        126         30    63    34   20          14     56\n",
       "Never          15         69    67    43   56          41     42\n",
       "Sometimes     146        100   151    73  102          63    122"
      ]
     },
     "execution_count": 252,
     "metadata": {},
     "output_type": "execute_result"
    }
   ],
   "source": [
    "position_by_asking_leave = data.groupby(['remote work', 'asking_leave']).size().unstack('asking_leave', fill_value=0)\n",
    "position_by_asking_leave"
   ]
  },
  {
   "cell_type": "code",
   "execution_count": 253,
   "id": "606f1ccb",
   "metadata": {},
   "outputs": [
    {
     "data": {
      "image/png": "[encoded data removed]",
      "text/plain": [
       "<Figure size 2160x1152 with 1 Axes>"
      ]
     },
     "metadata": {
      "needs_background": "light"
     },
     "output_type": "display_data"
    }
   ],
   "source": [
    "position_by_asking_leave.plot(kind='bar', figsize=(30, 16))\n",
    "plt.show()"
   ]
  },
  {
   "cell_type": "code",
   "execution_count": 255,
   "id": "9a701416",
   "metadata": {},
   "outputs": [
    {
     "data": {
      "image/png": "[encoded data removed]",
      "text/plain": [
       "<Figure size 1080x216 with 1 Axes>"
      ]
     },
     "metadata": {
      "needs_background": "light"
     },
     "output_type": "display_data"
    }
   ],
   "source": [
    "import warnings\n",
    "warnings.filterwarnings('ignore')\n",
    "\n",
    "plt.rcParams['figure.figsize'] = (15, 3)\n",
    "x = pd.crosstab(data['gender'], data['seek treatment'])\n",
    "colors = plt.cm.Wistia(np.linspace(0, 1, 5))\n",
    "x.div(x.sum(1).astype(float), axis = 0).plot(kind = 'bar', stacked = False)\n",
    "plt.title('Effect of Gender on treament', fontsize = 15)\n",
    "plt.xlabel(' ')\n",
    "plt.show()"
   ]
  },
  {
   "cell_type": "markdown",
   "id": "e54f99fd",
   "metadata": {},
   "source": [
    "### from the above graph it is clear that female,transwoman,non_binary,transmen took more treatment than men"
   ]
  },
  {
   "cell_type": "code",
   "execution_count": 256,
   "id": "2039f5d7",
   "metadata": {},
   "outputs": [
    {
     "data": {
      "image/png": "[encoded data removed]",
      "text/plain": [
       "<Figure size 1080x432 with 1 Axes>"
      ]
     },
     "metadata": {},
     "output_type": "display_data"
    }
   ],
   "source": [
    "# percentage pie chart\n",
    "\n",
    "colors = sns.color_palette('dark')[0:10]\n",
    "\n",
    "\n",
    "data['healthcare_coverage'].value_counts().plot(kind='pie',\n",
    "                                      figsize=(15, 6),\n",
    "                                      autopct='%1.1f%%', \n",
    "                                      startangle=90,    \n",
    "                                      shadow=True,       \n",
    "                                      labels=None,                 \n",
    "                                      pctdistance=1.12  ,colors=colors     \n",
    "                                      ) \n",
    "\n",
    "plt.title('', y=1.12) \n",
    "plt.axis('equal') \n",
    "\n",
    "# add legend\n",
    "plt.legend(labels=data['healthcare_coverage'].value_counts().index, loc='center left') \n",
    "\n",
    "# show plot\n",
    "plt.show()\n"
   ]
  },
  {
   "cell_type": "markdown",
   "id": "5d75f539",
   "metadata": {},
   "source": [
    "#####  Around 37 percentage employees are provided with health coverage and 22 percentage employees are unaware about whether the employer provide health coverage or not."
   ]
  },
  {
   "cell_type": "code",
   "execution_count": 257,
   "id": "23a257dc",
   "metadata": {},
   "outputs": [
    {
     "data": {
      "image/png": "[encoded data removed]",
      "text/plain": [
       "<Figure size 1080x360 with 2 Axes>"
      ]
     },
     "metadata": {},
     "output_type": "display_data"
    }
   ],
   "source": [
    "plt.rcParams['figure.figsize'] = (15, 5)\n",
    "plt.style.use('fivethirtyeight')\n",
    "\n",
    "plt.subplot(1, 2, 1)\n",
    "sns.countplot(data['seek treatment'],)\n",
    "\n",
    "plt.xlabel('seek treatment or not', fontsize = 10)\n",
    "\n",
    "plt.subplot(1, 2, 2)\n",
    "data['seek treatment'].value_counts().plot(kind = 'pie', explode = [0, 0.1], autopct = '%.2f%%', startangle = 90,\n",
    "                                       labels = ['1','0'], shadow = True, pctdistance = 0.5)\n",
    "plt.axis('off')\n",
    "\n",
    "plt.suptitle('Target Class Balance', fontsize = 15)\n",
    "plt.show()"
   ]
  },
  {
   "cell_type": "markdown",
   "id": "c6b6a0ea",
   "metadata": {},
   "source": [
    "### Target guided mean encoding"
   ]
  },
  {
   "cell_type": "code",
   "execution_count": 259,
   "id": "e51c9d14",
   "metadata": {},
   "outputs": [],
   "source": [
    "countryliving=data.groupby(['country(living)'])['seek treatment'].mean().sort_values().index"
   ]
  },
  {
   "cell_type": "code",
   "execution_count": 260,
   "id": "f7f83f0e",
   "metadata": {},
   "outputs": [],
   "source": [
    "dict1={key:index for index,key in enumerate(countryliving,0)}"
   ]
  },
  {
   "cell_type": "code",
   "execution_count": 263,
   "id": "7f32870c",
   "metadata": {},
   "outputs": [],
   "source": [
    "data['country(living)']=data['country(living)'].map(dict1)"
   ]
  },
  {
   "cell_type": "code",
   "execution_count": 264,
   "id": "359d7805",
   "metadata": {},
   "outputs": [],
   "source": [
    "working_country=data.groupby(['working_country'])['seek treatment'].mean().sort_values().index"
   ]
  },
  {
   "cell_type": "code",
   "execution_count": 265,
   "id": "1195f8b7",
   "metadata": {},
   "outputs": [],
   "source": [
    "dict1={key:index for index,key in enumerate(working_country,0)}"
   ]
  },
  {
   "cell_type": "code",
   "execution_count": 266,
   "id": "5ad87bcd",
   "metadata": {},
   "outputs": [],
   "source": [
    "data['working_country']=data['working_country'].map(dict1)"
   ]
  },
  {
   "cell_type": "code",
   "execution_count": 271,
   "id": "9372f7b1",
   "metadata": {},
   "outputs": [],
   "source": [
    "position=data.groupby(['knowing_mental_health_care'])['seek treatment'].mean().sort_values().index\n",
    "dict1={key:index for index,key in enumerate(position,0)}\n",
    "data[\"knowing_mental_health_care\"]=data['knowing_mental_health_care'].map(dict1)"
   ]
  },
  {
   "cell_type": "code",
   "execution_count": 278,
   "id": "2147f3b5",
   "metadata": {},
   "outputs": [
    {
     "name": "stdout",
     "output_type": "stream",
     "text": [
      "<class 'pandas.core.frame.DataFrame'>\n",
      "RangeIndex: 1433 entries, 0 to 1432\n",
      "Data columns (total 23 columns):\n",
      " #   Column                            Non-Null Count  Dtype  \n",
      "---  ------                            --------------  -----  \n",
      " 0   age                               1433 non-null   int64  \n",
      " 1   gender                            1433 non-null   object \n",
      " 2   country(living)                   1433 non-null   int64  \n",
      " 3   working_country                   1433 non-null   int64  \n",
      " 4   position                          0 non-null      float64\n",
      " 5   remote work                       1433 non-null   int64  \n",
      " 6   self_employed                     1433 non-null   int64  \n",
      " 7   No_of_employees                   1433 non-null   float64\n",
      " 8   healthcare_coverage               1433 non-null   int64  \n",
      " 9   knowing_mental_health_care        1433 non-null   int64  \n",
      " 10  informed_campaign                 1433 non-null   object \n",
      " 11  offer_options                     1433 non-null   object \n",
      " 12  asking_leave                      1433 non-null   object \n",
      " 13  discuss_with_coworkers            1433 non-null   object \n",
      " 14  seriousness                       1433 non-null   object \n",
      " 15  family_history                    1433 non-null   object \n",
      " 16  past_disorder                     1433 non-null   int64  \n",
      " 17  currently_disorder                1433 non-null   int64  \n",
      " 18  diagonised                        1433 non-null   int64  \n",
      " 19  interfere the work(treatment)     1433 non-null   int64  \n",
      " 20  interfere the work(no treatment)  1433 non-null   int64  \n",
      " 21  seek treatment                    1433 non-null   int64  \n",
      " 22  currently_disorde                 1433 non-null   int64  \n",
      "dtypes: float64(2), int64(14), object(7)\n",
      "memory usage: 257.6+ KB\n"
     ]
    }
   ],
   "source": [
    "data.info()"
   ]
  },
  {
   "cell_type": "code",
   "execution_count": 283,
   "id": "58506d97",
   "metadata": {},
   "outputs": [],
   "source": [
    "position=data.groupby([\"seriousness\"])['seek treatment'].mean().sort_values().index\n",
    "dict1={key:index for index,key in enumerate(position,0)}\n",
    "data[\"seriousness\"]=data[\"seriousness\"].map(dict1)"
   ]
  },
  {
   "cell_type": "code",
   "execution_count": 290,
   "id": "7cfd43dd",
   "metadata": {},
   "outputs": [
    {
     "data": {
      "text/plain": [
       "age                                 0\n",
       "gender                              0\n",
       "seek treatment                      0\n",
       "interfere the work(no treatment)    0\n",
       "interfere the work(treatment)       0\n",
       "diagonised                          0\n",
       "currently_disorder                  0\n",
       "past_disorder                       0\n",
       "family_history                      0\n",
       "seriousness                         0\n",
       "discuss_with_coworkers              0\n",
       "asking_leave                        0\n",
       "offer_options                       0\n",
       "informed_campaign                   0\n",
       "knowing_mental_health_care          0\n",
       "healthcare_coverage                 0\n",
       "No_of_employees                     0\n",
       "self_employed                       0\n",
       "remote work                         0\n",
       "working_country                     0\n",
       "country(living)                     0\n",
       "currently_disorde                   0\n",
       "dtype: int64"
      ]
     },
     "execution_count": 290,
     "metadata": {},
     "output_type": "execute_result"
    }
   ],
   "source": [
    "data.isna().sum().sort_values(ascending=False)"
   ]
  },
  {
   "cell_type": "code",
   "execution_count": 296,
   "id": "2b518fe0",
   "metadata": {},
   "outputs": [],
   "source": [
    "data.drop([\"currently_disorde\"], axis=1,inplace=True)"
   ]
  },
  {
   "cell_type": "code",
   "execution_count": 297,
   "id": "63cfb45f",
   "metadata": {},
   "outputs": [
    {
     "name": "stdout",
     "output_type": "stream",
     "text": [
      "<class 'pandas.core.frame.DataFrame'>\n",
      "RangeIndex: 1433 entries, 0 to 1432\n",
      "Data columns (total 21 columns):\n",
      " #   Column                            Non-Null Count  Dtype  \n",
      "---  ------                            --------------  -----  \n",
      " 0   age                               1433 non-null   int64  \n",
      " 1   gender                            1433 non-null   int64  \n",
      " 2   country(living)                   1433 non-null   int64  \n",
      " 3   working_country                   1433 non-null   int64  \n",
      " 4   remote work                       1433 non-null   int64  \n",
      " 5   self_employed                     1433 non-null   int64  \n",
      " 6   No_of_employees                   1433 non-null   float64\n",
      " 7   healthcare_coverage               1433 non-null   int64  \n",
      " 8   knowing_mental_health_care        1433 non-null   int64  \n",
      " 9   informed_campaign                 1433 non-null   int64  \n",
      " 10  offer_options                     1433 non-null   int64  \n",
      " 11  asking_leave                      1433 non-null   int64  \n",
      " 12  discuss_with_coworkers            1433 non-null   int64  \n",
      " 13  seriousness                       1433 non-null   int64  \n",
      " 14  family_history                    1433 non-null   int64  \n",
      " 15  past_disorder                     1433 non-null   int64  \n",
      " 16  currently_disorder                1433 non-null   int64  \n",
      " 17  diagonised                        1433 non-null   int64  \n",
      " 18  interfere the work(treatment)     1433 non-null   int64  \n",
      " 19  interfere the work(no treatment)  1433 non-null   int64  \n",
      " 20  seek treatment                    1433 non-null   int64  \n",
      "dtypes: float64(1), int64(20)\n",
      "memory usage: 235.2 KB\n"
     ]
    }
   ],
   "source": [
    "data.info()"
   ]
  },
  {
   "cell_type": "code",
   "execution_count": null,
   "id": "947df7b3",
   "metadata": {},
   "outputs": [],
   "source": []
  },
  {
   "cell_type": "markdown",
   "id": "72df4494",
   "metadata": {},
   "source": [
    "### build ML model"
   ]
  },
  {
   "cell_type": "markdown",
   "id": "5d08d97a",
   "metadata": {},
   "source": [
    "### descision tree classifier"
   ]
  },
  {
   "cell_type": "code",
   "execution_count": 299,
   "id": "786a9b7e",
   "metadata": {},
   "outputs": [],
   "source": [
    "x=data.drop(['seek treatment'],axis=1)"
   ]
  },
  {
   "cell_type": "code",
   "execution_count": 300,
   "id": "a40877a9",
   "metadata": {},
   "outputs": [],
   "source": [
    "y=data['seek treatment']"
   ]
  },
  {
   "cell_type": "code",
   "execution_count": 301,
   "id": "d934ba06",
   "metadata": {},
   "outputs": [
    {
     "name": "stdout",
     "output_type": "stream",
     "text": [
      "(1146, 20)\n",
      "(287, 20)\n",
      "(1146,)\n",
      "(287,)\n"
     ]
    }
   ],
   "source": [
    "from sklearn.model_selection import train_test_split\n",
    "\n",
    "x_train, x_test, y_train, y_test = train_test_split(x, y, test_size = 0.2, random_state = 0)\n",
    "\n",
    "print(x_train.shape)\n",
    "print(x_test.shape)\n",
    "print(y_train.shape)\n",
    "print(y_test.shape)"
   ]
  },
  {
   "cell_type": "code",
   "execution_count": 302,
   "id": "db68a466",
   "metadata": {},
   "outputs": [],
   "source": [
    "#  perform standardization\n",
    "\n",
    "from sklearn.preprocessing import StandardScaler\n",
    "\n",
    "sc = StandardScaler()\n",
    "x_train = sc.fit_transform(x_train)\n",
    "x_test = sc.transform(x_test)"
   ]
  },
  {
   "cell_type": "code",
   "execution_count": 303,
   "id": "8c386166",
   "metadata": {},
   "outputs": [],
   "source": [
    "# Lets use Decision Trees to classify the data\n",
    "from sklearn.tree import DecisionTreeClassifier\n",
    "\n",
    "model = DecisionTreeClassifier()\n",
    "model.fit(x_train, y_train)\n",
    "\n",
    "y_pred = model.predict(x_test)"
   ]
  },
  {
   "cell_type": "code",
   "execution_count": 305,
   "id": "daaf08e0",
   "metadata": {},
   "outputs": [
    {
     "name": "stdout",
     "output_type": "stream",
     "text": [
      "Training Accuracy : 1.0\n",
      "Testing Accuracy : 0.8362369337979094\n"
     ]
    },
    {
     "data": {
      "image/png": "[encoded data removed]",
      "text/plain": [
       "<Figure size 216x216 with 2 Axes>"
      ]
     },
     "metadata": {},
     "output_type": "display_data"
    }
   ],
   "source": [
    "from sklearn.metrics import confusion_matrix, classification_report\n",
    "\n",
    "print(\"Training Accuracy :\", model.score(x_train, y_train))\n",
    "print(\"Testing Accuracy :\", model.score(x_test, y_test))\n",
    "\n",
    "cm = confusion_matrix(y_test, y_pred)\n",
    "plt.rcParams['figure.figsize'] = (3, 3)\n",
    "sns.heatmap(cm, annot = True, cmap = 'Wistia', fmt = '.8g')\n",
    "plt.xlabel('Predicted Values')\n",
    "plt.ylabel('Actual Values')\n",
    "plt.show()"
   ]
  },
  {
   "cell_type": "code",
   "execution_count": 306,
   "id": "70c73dba",
   "metadata": {},
   "outputs": [
    {
     "name": "stdout",
     "output_type": "stream",
     "text": [
      "              precision    recall  f1-score   support\n",
      "\n",
      "           0       0.79      0.81      0.80       117\n",
      "           1       0.87      0.85      0.86       170\n",
      "\n",
      "    accuracy                           0.84       287\n",
      "   macro avg       0.83      0.83      0.83       287\n",
      "weighted avg       0.84      0.84      0.84       287\n",
      "\n"
     ]
    }
   ],
   "source": [
    "# lets take a look at the Classification Report\n",
    "\n",
    "cr = classification_report(y_test, y_pred)\n",
    "print(cr)"
   ]
  },
  {
   "cell_type": "code",
   "execution_count": null,
   "id": "5a47bf05",
   "metadata": {},
   "outputs": [],
   "source": []
  },
  {
   "cell_type": "code",
   "execution_count": 308,
   "id": "71bf4ca9",
   "metadata": {},
   "outputs": [
    {
     "data": {
      "text/plain": [
       "[Text(0.5, 0.875, 'diagonised <= 0.007\\ngini = 0.486\\nsamples = 1146\\nvalue = [477, 669]'),\n",
       " Text(0.25, 0.625, 'interfere the work(treatment) <= -0.723\\ngini = 0.36\\nsamples = 577\\nvalue = [441, 136]'),\n",
       " Text(0.125, 0.375, 'past_disorder <= -0.801\\ngini = 0.233\\nsamples = 416\\nvalue = [360, 56]'),\n",
       " Text(0.0625, 0.125, '\\n  (...)  \\n'),\n",
       " Text(0.1875, 0.125, '\\n  (...)  \\n'),\n",
       " Text(0.375, 0.375, 'past_disorder <= 0.332\\ngini = 0.5\\nsamples = 161\\nvalue = [81, 80]'),\n",
       " Text(0.3125, 0.125, '\\n  (...)  \\n'),\n",
       " Text(0.4375, 0.125, '\\n  (...)  \\n'),\n",
       " Text(0.75, 0.625, 'working_country <= -2.706\\ngini = 0.119\\nsamples = 569\\nvalue = [36, 533]'),\n",
       " Text(0.625, 0.375, 'discuss_with_coworkers <= -0.751\\ngini = 0.32\\nsamples = 5\\nvalue = [4, 1]'),\n",
       " Text(0.5625, 0.125, '\\n  (...)  \\n'),\n",
       " Text(0.6875, 0.125, '\\n  (...)  \\n'),\n",
       " Text(0.875, 0.375, 'working_country <= -1.38\\ngini = 0.107\\nsamples = 564\\nvalue = [32, 532]'),\n",
       " Text(0.8125, 0.125, '\\n  (...)  \\n'),\n",
       " Text(0.9375, 0.125, '\\n  (...)  \\n')]"
      ]
     },
     "execution_count": 308,
     "metadata": {},
     "output_type": "execute_result"
    },
    {
     "data": {
      "image/png": "[encoded data removed]",
      "text/plain": [
       "<Figure size 5760x1440 with 1 Axes>"
      ]
     },
     "metadata": {},
     "output_type": "display_data"
    }
   ],
   "source": [
    "from sklearn.tree import plot_tree, export_text\n",
    "plt.figure(figsize=(80,20))\n",
    "plot_tree(model, feature_names=x.columns, max_depth=2, filled=True)"
   ]
  },
  {
   "cell_type": "markdown",
   "id": "3c991c7b",
   "metadata": {},
   "source": [
    "#### KNN CLASSIFIER"
   ]
  },
  {
   "cell_type": "code",
   "execution_count": 310,
   "id": "af0bf90e",
   "metadata": {},
   "outputs": [
    {
     "data": {
      "text/plain": [
       "KNeighborsClassifier()"
      ]
     },
     "execution_count": 310,
     "metadata": {},
     "output_type": "execute_result"
    }
   ],
   "source": [
    "#Fitting K-NN classifier to the training set  \n",
    "from sklearn.neighbors import KNeighborsClassifier  \n",
    "classifier= KNeighborsClassifier(n_neighbors=5, metric='minkowski', p=2 )  \n",
    "classifier.fit(x_train, y_train)"
   ]
  },
  {
   "cell_type": "code",
   "execution_count": 311,
   "id": "c9c4870d",
   "metadata": {},
   "outputs": [],
   "source": [
    "#Predicting the test set result  \n",
    "y_pred= classifier.predict(x_test)"
   ]
  },
  {
   "cell_type": "code",
   "execution_count": 312,
   "id": "a6e1fae7",
   "metadata": {},
   "outputs": [
    {
     "data": {
      "text/plain": [
       "0.8989547038327527"
      ]
     },
     "execution_count": 312,
     "metadata": {},
     "output_type": "execute_result"
    }
   ],
   "source": [
    "from sklearn.metrics import accuracy_score\n",
    "ascore = accuracy_score(y_test,y_pred)\n",
    "ascore"
   ]
  },
  {
   "cell_type": "code",
   "execution_count": 313,
   "id": "cd41ef87",
   "metadata": {},
   "outputs": [],
   "source": [
    "#Creating the Confusion matrix  \n",
    "from sklearn.metrics import confusion_matrix  \n",
    "cm= confusion_matrix(y_test, y_pred) "
   ]
  },
  {
   "cell_type": "code",
   "execution_count": 314,
   "id": "cff3d4e6",
   "metadata": {},
   "outputs": [
    {
     "data": {
      "text/plain": [
       "array([[103,  14],\n",
       "       [ 15, 155]], dtype=int64)"
      ]
     },
     "execution_count": 314,
     "metadata": {},
     "output_type": "execute_result"
    }
   ],
   "source": [
    "cm"
   ]
  },
  {
   "cell_type": "code",
   "execution_count": 315,
   "id": "f8bd00aa",
   "metadata": {},
   "outputs": [
    {
     "name": "stdout",
     "output_type": "stream",
     "text": [
      "Training Accuracy : 0.8865619546247818\n",
      "Testing Accuracy : 0.8989547038327527\n"
     ]
    },
    {
     "data": {
      "image/png": "[encoded data removed]",
      "text/plain": [
       "<Figure size 216x216 with 2 Axes>"
      ]
     },
     "metadata": {},
     "output_type": "display_data"
    }
   ],
   "source": [
    "from sklearn.metrics import confusion_matrix, classification_report\n",
    "\n",
    "print(\"Training Accuracy :\", classifier.score(x_train, y_train))\n",
    "print(\"Testing Accuracy :\", classifier.score(x_test, y_test))\n",
    "\n",
    "cm = confusion_matrix(y_test, y_pred)\n",
    "plt.rcParams['figure.figsize'] = (3, 3)\n",
    "sns.heatmap(cm, annot = True, cmap = 'Wistia', fmt = '.8g')\n",
    "plt.xlabel('Predicted Values')\n",
    "plt.ylabel('Actual Values')\n",
    "plt.show()"
   ]
  },
  {
   "cell_type": "code",
   "execution_count": null,
   "id": "26fc4454",
   "metadata": {},
   "outputs": [],
   "source": []
  }
 ],
 "metadata": {
  "kernelspec": {
   "display_name": "Python 3",
   "language": "python",
   "name": "python3"
  },
  "language_info": {
   "codemirror_mode": {
    "name": "ipython",
    "version": 3
   },
   "file_extension": ".py",
   "mimetype": "text/x-python",
   "name": "python",
   "nbconvert_exporter": "python",
   "pygments_lexer": "ipython3",
   "version": "3.8.8"
  }
 },
 "nbformat": 4,
 "nbformat_minor": 5
}
